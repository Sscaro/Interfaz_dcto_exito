{
 "cells": [
  {
   "cell_type": "markdown",
   "metadata": {},
   "source": [
    "# Analisis de información den BSC Exito"
   ]
  },
  {
   "cell_type": "code",
   "execution_count": 1,
   "metadata": {},
   "outputs": [],
   "source": [
    "# importar librerias\n",
    "import os\n",
    "import pandas as pd\n",
    "import yaml\n",
    "import plotly.express as px\n"
   ]
  },
  {
   "cell_type": "code",
   "execution_count": 2,
   "metadata": {},
   "outputs": [],
   "source": [
    "# leyendo archivo de configuración\n",
    "with open(\"insumos/config.yml\", \"r\",encoding='utf-8') as ymlfile:\n",
    "    config = yaml.safe_load(ymlfile)\n"
   ]
  },
  {
   "cell_type": "markdown",
   "metadata": {},
   "source": [
    "Aqui vamos cargar los datos del archivo de BSC del exito y realizar algunas transformaciones para el analisis de la información"
   ]
  },
  {
   "cell_type": "code",
   "execution_count": 3,
   "metadata": {},
   "outputs": [],
   "source": [
    "#leyendo data del bsc\n",
    "ruta_archivo = os.path.join(os.getcwd(),'insumos',config['datos']['balanced_score'])\n",
    "col_usar = config['balanced_score_columnas'].keys()\n",
    "tipado_col = {nomcol: tipo[0]  for nomcol, tipo in config['balanced_score_columnas'].items()}\n",
    "nombre_col = [tipo[1] for tipo in config['balanced_score_columnas'].values()]\n",
    "data = pd.read_excel(ruta_archivo,usecols=col_usar,dtype=tipado_col)\n",
    "data.columns = nombre_col"
   ]
  },
  {
   "cell_type": "code",
   "execution_count": 4,
   "metadata": {},
   "outputs": [
    {
     "name": "stdout",
     "output_type": "stream",
     "text": [
      "<class 'pandas.core.frame.DataFrame'>\n",
      "RangeIndex: 159942 entries, 0 to 159941\n",
      "Data columns (total 14 columns):\n",
      " #   Column             Non-Null Count   Dtype  \n",
      "---  ------             --------------   -----  \n",
      " 0   mes                159942 non-null  int32  \n",
      " 1   region             158827 non-null  object \n",
      " 2   formato            159942 non-null  object \n",
      " 3   negocio            159942 non-null  object \n",
      " 4   marca              159942 non-null  object \n",
      " 5   producto           159942 non-null  object \n",
      " 6   ean                159942 non-null  object \n",
      " 7   codigo_sap         159942 non-null  object \n",
      " 8   peso               159942 non-null  float64\n",
      " 9   plu                4865 non-null    object \n",
      " 10  venta_cop_año_ant  150343 non-null  float64\n",
      " 11  venta_cop_año_act  13696 non-null   float64\n",
      " 12  venta_un_ant       150343 non-null  float64\n",
      " 13  venta_un_act       13696 non-null   float64\n",
      "dtypes: float64(5), int32(1), object(8)\n",
      "memory usage: 16.5+ MB\n"
     ]
    }
   ],
   "source": [
    "# informacion general de los datos.\n",
    "data.info()"
   ]
  },
  {
   "cell_type": "markdown",
   "metadata": {},
   "source": [
    "Ahora cargaremos la informacion de los margenes a diferentes detalles:\n",
    "* Margen por negocio\n",
    "* Margen por marca\n",
    "* Margen por material\n",
    "Se cargaran en tablas separadas"
   ]
  },
  {
   "cell_type": "code",
   "execution_count": 5,
   "metadata": {},
   "outputs": [],
   "source": [
    "def dfarchivoAFO(ruta:str,sheet_name:str,nombrecol:dict): \n",
    "      '''\n",
    "      Lee un archivo de excel que contiene una tabla extraida de AFO.\n",
    "      ARG: ruta: str\n",
    "            sheet_name : str: nombre de la hoja\n",
    "            nombre_col : dict: con el nombre y tipo de dato de las columnas\n",
    "      return : data frame\n",
    "      '''      \n",
    "      df = pd.ExcelFile(ruta)\n",
    "      df = df.parse(sheet_name,dtype=str) \n",
    "      df.columns = nombrecol.keys()      \n",
    "      df = df.astype(nombrecol)\n",
    "      return df\n",
    "     "
   ]
  },
  {
   "cell_type": "code",
   "execution_count": 6,
   "metadata": {},
   "outputs": [],
   "source": [
    "ruta_margen = os.path.join(os.getcwd(),'insumos',config['datos']['margen'])\n",
    "\n",
    "lista_hojas = []\n",
    "for hojas in config['config_margen'].keys():\n",
    "    lista_hojas.append(hojas)\n",
    "margen_sector = dfarchivoAFO(ruta_margen,lista_hojas[0],config['config_margen'][lista_hojas[0]])\n",
    "margen_marca = dfarchivoAFO(ruta_margen,lista_hojas[1],config['config_margen'][lista_hojas[1]])\n",
    "margen_material = dfarchivoAFO(ruta_margen,lista_hojas[2],config['config_margen'][lista_hojas[2]])\n",
    "\n"
   ]
  },
  {
   "cell_type": "markdown",
   "metadata": {},
   "source": [
    "## Realizando primeros analisis descriptivos.\n",
    "Analizaremos el comportamiento general por mes, por negocio y por marca, para identificar las oportunidades de crecimiento o marcas potenciales."
   ]
  },
  {
   "cell_type": "code",
   "execution_count": 7,
   "metadata": {},
   "outputs": [],
   "source": [
    "# Agrupando variables\n",
    "lista_variables_agrupa_general = ['ean','plu','peso','venta_cop_año_act','venta_un_act','formato'] # lista con\n",
    "data_ajustada = data.copy()\n",
    "for col in lista_variables_agrupa_general:\n",
    "    del data_ajustada[col]"
   ]
  },
  {
   "cell_type": "code",
   "execution_count": 8,
   "metadata": {},
   "outputs": [],
   "source": [
    "## hay valores nulos en algunas variables de ventas, por lo tanto esto se llenaran con 0\n",
    "data_ajustada['venta_cop_año_ant'] = data_ajustada['venta_cop_año_ant'].fillna(0)\n",
    "data_ajustada['venta_un_ant'] = data_ajustada['venta_un_ant'].fillna(0)"
   ]
  },
  {
   "cell_type": "code",
   "execution_count": 9,
   "metadata": {},
   "outputs": [
    {
     "name": "stdout",
     "output_type": "stream",
     "text": [
      "<class 'pandas.core.frame.DataFrame'>\n",
      "Index: 158822 entries, 0 to 159941\n",
      "Data columns (total 8 columns):\n",
      " #   Column             Non-Null Count   Dtype  \n",
      "---  ------             --------------   -----  \n",
      " 0   mes                158822 non-null  int32  \n",
      " 1   region             158822 non-null  object \n",
      " 2   negocio            158822 non-null  object \n",
      " 3   marca              158822 non-null  object \n",
      " 4   producto           158822 non-null  object \n",
      " 5   codigo_sap         158822 non-null  object \n",
      " 6   venta_cop_año_ant  158822 non-null  float64\n",
      " 7   venta_un_ant       158822 non-null  float64\n",
      "dtypes: float64(2), int32(1), object(5)\n",
      "memory usage: 10.3+ MB\n"
     ]
    }
   ],
   "source": [
    "# filtramos informacion no relevante\n",
    "data_ajustada= data_ajustada[~data_ajustada['region'].isna()]# eliminamos los registros que no tienen region. \n",
    "data_ajustada= data_ajustada[data_ajustada['negocio']!='Otros Oper Cciales'] # eliminamos el negicio de Otros Oper Cciales.\n",
    "data_ajustada.info()"
   ]
  },
  {
   "cell_type": "code",
   "execution_count": 17,
   "metadata": {},
   "outputs": [
    {
     "data": {
      "text/html": [
       "<div>\n",
       "<style scoped>\n",
       "    .dataframe tbody tr th:only-of-type {\n",
       "        vertical-align: middle;\n",
       "    }\n",
       "\n",
       "    .dataframe tbody tr th {\n",
       "        vertical-align: top;\n",
       "    }\n",
       "\n",
       "    .dataframe thead th {\n",
       "        text-align: right;\n",
       "    }\n",
       "</style>\n",
       "<table border=\"1\" class=\"dataframe\">\n",
       "  <thead>\n",
       "    <tr style=\"text-align: right;\">\n",
       "      <th></th>\n",
       "      <th>mes</th>\n",
       "      <th>region</th>\n",
       "      <th>venta_cop_año_ant</th>\n",
       "      <th>venta_cop_año_ant</th>\n",
       "    </tr>\n",
       "  </thead>\n",
       "  <tbody>\n",
       "    <tr>\n",
       "      <th>0</th>\n",
       "      <td>1</td>\n",
       "      <td>R Barranquilla</td>\n",
       "      <td>346970.39</td>\n",
       "      <td>346970.39</td>\n",
       "    </tr>\n",
       "    <tr>\n",
       "      <th>1</th>\n",
       "      <td>1</td>\n",
       "      <td>R Bogota norte</td>\n",
       "      <td>1148266.71</td>\n",
       "      <td>1148266.71</td>\n",
       "    </tr>\n",
       "    <tr>\n",
       "      <th>2</th>\n",
       "      <td>1</td>\n",
       "      <td>R Bucaramanga</td>\n",
       "      <td>94630.23</td>\n",
       "      <td>94630.23</td>\n",
       "    </tr>\n",
       "    <tr>\n",
       "      <th>3</th>\n",
       "      <td>1</td>\n",
       "      <td>R Cali</td>\n",
       "      <td>237737.80</td>\n",
       "      <td>237737.80</td>\n",
       "    </tr>\n",
       "    <tr>\n",
       "      <th>4</th>\n",
       "      <td>1</td>\n",
       "      <td>R Cartagena</td>\n",
       "      <td>3323.11</td>\n",
       "      <td>3323.11</td>\n",
       "    </tr>\n",
       "    <tr>\n",
       "      <th>...</th>\n",
       "      <td>...</td>\n",
       "      <td>...</td>\n",
       "      <td>...</td>\n",
       "      <td>...</td>\n",
       "    </tr>\n",
       "    <tr>\n",
       "      <th>91</th>\n",
       "      <td>12</td>\n",
       "      <td>R Cali</td>\n",
       "      <td>304488.61</td>\n",
       "      <td>304488.61</td>\n",
       "    </tr>\n",
       "    <tr>\n",
       "      <th>92</th>\n",
       "      <td>12</td>\n",
       "      <td>R Cartagena</td>\n",
       "      <td>6652.22</td>\n",
       "      <td>6652.22</td>\n",
       "    </tr>\n",
       "    <tr>\n",
       "      <th>93</th>\n",
       "      <td>12</td>\n",
       "      <td>R Ibague</td>\n",
       "      <td>85332.81</td>\n",
       "      <td>85332.81</td>\n",
       "    </tr>\n",
       "    <tr>\n",
       "      <th>94</th>\n",
       "      <td>12</td>\n",
       "      <td>R Medellin</td>\n",
       "      <td>724929.63</td>\n",
       "      <td>724929.63</td>\n",
       "    </tr>\n",
       "    <tr>\n",
       "      <th>95</th>\n",
       "      <td>12</td>\n",
       "      <td>R Pereira</td>\n",
       "      <td>208866.02</td>\n",
       "      <td>208866.02</td>\n",
       "    </tr>\n",
       "  </tbody>\n",
       "</table>\n",
       "<p>96 rows × 4 columns</p>\n",
       "</div>"
      ],
      "text/plain": [
       "    mes          region  venta_cop_año_ant  venta_cop_año_ant\n",
       "0     1  R Barranquilla          346970.39          346970.39\n",
       "1     1  R Bogota norte         1148266.71         1148266.71\n",
       "2     1   R Bucaramanga           94630.23           94630.23\n",
       "3     1          R Cali          237737.80          237737.80\n",
       "4     1     R Cartagena            3323.11            3323.11\n",
       "..  ...             ...                ...                ...\n",
       "91   12          R Cali          304488.61          304488.61\n",
       "92   12     R Cartagena            6652.22            6652.22\n",
       "93   12        R Ibague           85332.81           85332.81\n",
       "94   12      R Medellin          724929.63          724929.63\n",
       "95   12       R Pereira          208866.02          208866.02\n",
       "\n",
       "[96 rows x 4 columns]"
      ]
     },
     "execution_count": 17,
     "metadata": {},
     "output_type": "execute_result"
    }
   ],
   "source": [
    "data_ajustada.groupby(['mes','region'])[['venta_cop_año_ant','venta_cop_año_ant']].sum().reset_index()"
   ]
  },
  {
   "cell_type": "code",
   "execution_count": 10,
   "metadata": {},
   "outputs": [
    {
     "name": "stdout",
     "output_type": "stream",
     "text": [
      "region\n",
      "['R Pereira' 'R Cali' 'R Bucaramanga' 'R Ibague' 'R Barranquilla'\n",
      " 'R Medellin' 'R Bogota norte' 'R Cartagena']\n",
      "negocio\n",
      "['Chocolates' 'Galletas' 'Pastas' 'Café' 'Emprendimientos' 'Carnico'\n",
      " 'Culinarios' 'Nutricion experta']\n",
      "marca\n",
      "['La Especial' 'KIBO' 'Doria' 'Monticello' 'Naturela' 'Matiz' 'Chocolisto'\n",
      " 'Evok' 'Zenú' 'Tosh' 'Comarrico' 'Badia' 'Bénet' 'Dux' 'Noel' 'Festival'\n",
      " 'Drácula' 'Saltin Noel' 'Gol' 'Jumbo' 'Jet' 'MontBlanc' 'Corona' 'Tikys'\n",
      " 'Chocolate La Especial' 'Lyne' 'Sello Rojo' 'Colcafé' 'La Bastilla'\n",
      " 'Ducales' 'Rica' 'Carve' 'Diversa' 'Nutresa' 'BastiYá' 'Corona Harina'\n",
      " 'Cruz' 'Tesalia' 'Santander']\n"
     ]
    }
   ],
   "source": [
    "#imprmiendo valores unicos de las variables ccategorias\n",
    "list_no_mostrar_valores = ['producto','codigo_sap']\n",
    "for col in data_ajustada.columns:\n",
    "    if data_ajustada[col].dtype =='object' and col not in list_no_mostrar_valores :\n",
    "        print(col)\n",
    "        print(data_ajustada[col].unique())\n",
    "\n"
   ]
  },
  {
   "cell_type": "markdown",
   "metadata": {},
   "source": [
    "## Análisis gráfico variables categóricas principales"
   ]
  },
  {
   "cell_type": "markdown",
   "metadata": {},
   "source": [
    "### Analisis por Negocio"
   ]
  },
  {
   "cell_type": "markdown",
   "metadata": {},
   "source": [
    "El primer gráfico compara las ventas de por negocio durante los meses del año\n",
    "la idea es poder identificar tendencias crecientes o decrecientes que permitan hacer zoom sobre determinado negocio."
   ]
  },
  {
   "cell_type": "code",
   "execution_count": 12,
   "metadata": {},
   "outputs": [
    {
     "data": {
      "application/vnd.plotly.v1+json": {
       "config": {
        "plotlyServerURL": "https://plot.ly"
       },
       "data": [
        {
         "hovertemplate": "negocio=Café<br>mes=%{x}<br>venta_cop_año_ant=%{y}<extra></extra>",
         "legendgroup": "Café",
         "line": {
          "color": "#636efa",
          "dash": "solid",
          "shape": "linear"
         },
         "marker": {
          "symbol": "circle"
         },
         "mode": "lines+markers",
         "name": "Café",
         "orientation": "v",
         "showlegend": true,
         "type": "scatter",
         "x": [
          1,
          2,
          3,
          4,
          5,
          6,
          7,
          8,
          9,
          10,
          11,
          12
         ],
         "xaxis": "x",
         "y": [
          355799,
          396783,
          378200,
          326356,
          352594,
          431936,
          382235,
          357033,
          366523,
          341866,
          331361,
          365672
         ],
         "yaxis": "y"
        },
        {
         "hovertemplate": "negocio=Carnico<br>mes=%{x}<br>venta_cop_año_ant=%{y}<extra></extra>",
         "legendgroup": "Carnico",
         "line": {
          "color": "#EF553B",
          "dash": "solid",
          "shape": "linear"
         },
         "marker": {
          "symbol": "circle"
         },
         "mode": "lines+markers",
         "name": "Carnico",
         "orientation": "v",
         "showlegend": true,
         "type": "scatter",
         "x": [
          1,
          2,
          3,
          4,
          5,
          6,
          7,
          8,
          9,
          10,
          11,
          12
         ],
         "xaxis": "x",
         "y": [
          215805,
          257836,
          237619,
          186050,
          197089,
          233214,
          213193,
          173571,
          192999,
          202780,
          192546,
          249514
         ],
         "yaxis": "y"
        },
        {
         "hovertemplate": "negocio=Chocolates<br>mes=%{x}<br>venta_cop_año_ant=%{y}<extra></extra>",
         "legendgroup": "Chocolates",
         "line": {
          "color": "#00cc96",
          "dash": "solid",
          "shape": "linear"
         },
         "marker": {
          "symbol": "circle"
         },
         "mode": "lines+markers",
         "name": "Chocolates",
         "orientation": "v",
         "showlegend": true,
         "type": "scatter",
         "x": [
          1,
          2,
          3,
          4,
          5,
          6,
          7,
          8,
          9,
          10,
          11,
          12
         ],
         "xaxis": "x",
         "y": [
          720375.33,
          745509.45,
          858805.33,
          690417.88,
          763159.91,
          737657.27,
          736594.12,
          664532.86,
          762498.53,
          737981.5,
          644256.92,
          835526.68
         ],
         "yaxis": "y"
        },
        {
         "hovertemplate": "negocio=Culinarios<br>mes=%{x}<br>venta_cop_año_ant=%{y}<extra></extra>",
         "legendgroup": "Culinarios",
         "line": {
          "color": "#ab63fa",
          "dash": "solid",
          "shape": "linear"
         },
         "marker": {
          "symbol": "circle"
         },
         "mode": "lines+markers",
         "name": "Culinarios",
         "orientation": "v",
         "showlegend": true,
         "type": "scatter",
         "x": [
          1,
          2,
          3,
          4,
          5,
          6,
          7,
          8,
          9,
          10,
          11,
          12
         ],
         "xaxis": "x",
         "y": [
          31130,
          30620,
          32014,
          29337,
          39808,
          39978,
          41366,
          42780,
          42207,
          43947,
          45193,
          60319
         ],
         "yaxis": "y"
        },
        {
         "hovertemplate": "negocio=Emprendimientos<br>mes=%{x}<br>venta_cop_año_ant=%{y}<extra></extra>",
         "legendgroup": "Emprendimientos",
         "line": {
          "color": "#FFA15A",
          "dash": "solid",
          "shape": "linear"
         },
         "marker": {
          "symbol": "circle"
         },
         "mode": "lines+markers",
         "name": "Emprendimientos",
         "orientation": "v",
         "showlegend": true,
         "type": "scatter",
         "x": [
          1,
          2,
          3,
          4,
          5,
          6,
          7,
          8,
          9,
          10,
          11,
          12
         ],
         "xaxis": "x",
         "y": [
          3090,
          3512,
          4512,
          4066,
          4468,
          3655,
          3332,
          3686,
          3546,
          3189,
          2965,
          6416
         ],
         "yaxis": "y"
        },
        {
         "hovertemplate": "negocio=Galletas<br>mes=%{x}<br>venta_cop_año_ant=%{y}<extra></extra>",
         "legendgroup": "Galletas",
         "line": {
          "color": "#19d3f3",
          "dash": "solid",
          "shape": "linear"
         },
         "marker": {
          "symbol": "circle"
         },
         "mode": "lines+markers",
         "name": "Galletas",
         "orientation": "v",
         "showlegend": true,
         "type": "scatter",
         "x": [
          1,
          2,
          3,
          4,
          5,
          6,
          7,
          8,
          9,
          10,
          11,
          12
         ],
         "xaxis": "x",
         "y": [
          718346.34,
          776183.92,
          809177.09,
          730224.19,
          740118.58,
          734328.85,
          776129.01,
          734569.27,
          752231.54,
          759046.21,
          825733.18,
          1125054.03
         ],
         "yaxis": "y"
        },
        {
         "hovertemplate": "negocio=Nutricion experta<br>mes=%{x}<br>venta_cop_año_ant=%{y}<extra></extra>",
         "legendgroup": "Nutricion experta",
         "line": {
          "color": "#FF6692",
          "dash": "solid",
          "shape": "linear"
         },
         "marker": {
          "symbol": "circle"
         },
         "mode": "lines+markers",
         "name": "Nutricion experta",
         "orientation": "v",
         "showlegend": true,
         "type": "scatter",
         "x": [
          1,
          2,
          3,
          4,
          5,
          6,
          7,
          8,
          9,
          10,
          11,
          12
         ],
         "xaxis": "x",
         "y": [
          5878,
          5307,
          7117,
          6327,
          5357,
          4678,
          5740,
          5500,
          6099,
          5264,
          4760,
          6153
         ],
         "yaxis": "y"
        },
        {
         "hovertemplate": "negocio=Pastas<br>mes=%{x}<br>venta_cop_año_ant=%{y}<extra></extra>",
         "legendgroup": "Pastas",
         "line": {
          "color": "#B6E880",
          "dash": "solid",
          "shape": "linear"
         },
         "marker": {
          "symbol": "circle"
         },
         "mode": "lines+markers",
         "name": "Pastas",
         "orientation": "v",
         "showlegend": true,
         "type": "scatter",
         "x": [
          1,
          2,
          3,
          4,
          5,
          6,
          7,
          8,
          9,
          10,
          11,
          12
         ],
         "xaxis": "x",
         "y": [
          604275,
          608105,
          658821,
          596118,
          583933,
          603768,
          617260,
          572927,
          594498,
          564953,
          546192,
          608775
         ],
         "yaxis": "y"
        }
       ],
       "layout": {
        "height": 700,
        "legend": {
         "title": {
          "text": "Negocio"
         },
         "tracegroupgap": 0
        },
        "margin": {
         "t": 60
        },
        "template": {
         "data": {
          "bar": [
           {
            "error_x": {
             "color": "#2a3f5f"
            },
            "error_y": {
             "color": "#2a3f5f"
            },
            "marker": {
             "line": {
              "color": "white",
              "width": 0.5
             },
             "pattern": {
              "fillmode": "overlay",
              "size": 10,
              "solidity": 0.2
             }
            },
            "type": "bar"
           }
          ],
          "barpolar": [
           {
            "marker": {
             "line": {
              "color": "white",
              "width": 0.5
             },
             "pattern": {
              "fillmode": "overlay",
              "size": 10,
              "solidity": 0.2
             }
            },
            "type": "barpolar"
           }
          ],
          "carpet": [
           {
            "aaxis": {
             "endlinecolor": "#2a3f5f",
             "gridcolor": "#C8D4E3",
             "linecolor": "#C8D4E3",
             "minorgridcolor": "#C8D4E3",
             "startlinecolor": "#2a3f5f"
            },
            "baxis": {
             "endlinecolor": "#2a3f5f",
             "gridcolor": "#C8D4E3",
             "linecolor": "#C8D4E3",
             "minorgridcolor": "#C8D4E3",
             "startlinecolor": "#2a3f5f"
            },
            "type": "carpet"
           }
          ],
          "choropleth": [
           {
            "colorbar": {
             "outlinewidth": 0,
             "ticks": ""
            },
            "type": "choropleth"
           }
          ],
          "contour": [
           {
            "colorbar": {
             "outlinewidth": 0,
             "ticks": ""
            },
            "colorscale": [
             [
              0,
              "#0d0887"
             ],
             [
              0.1111111111111111,
              "#46039f"
             ],
             [
              0.2222222222222222,
              "#7201a8"
             ],
             [
              0.3333333333333333,
              "#9c179e"
             ],
             [
              0.4444444444444444,
              "#bd3786"
             ],
             [
              0.5555555555555556,
              "#d8576b"
             ],
             [
              0.6666666666666666,
              "#ed7953"
             ],
             [
              0.7777777777777778,
              "#fb9f3a"
             ],
             [
              0.8888888888888888,
              "#fdca26"
             ],
             [
              1,
              "#f0f921"
             ]
            ],
            "type": "contour"
           }
          ],
          "contourcarpet": [
           {
            "colorbar": {
             "outlinewidth": 0,
             "ticks": ""
            },
            "type": "contourcarpet"
           }
          ],
          "heatmap": [
           {
            "colorbar": {
             "outlinewidth": 0,
             "ticks": ""
            },
            "colorscale": [
             [
              0,
              "#0d0887"
             ],
             [
              0.1111111111111111,
              "#46039f"
             ],
             [
              0.2222222222222222,
              "#7201a8"
             ],
             [
              0.3333333333333333,
              "#9c179e"
             ],
             [
              0.4444444444444444,
              "#bd3786"
             ],
             [
              0.5555555555555556,
              "#d8576b"
             ],
             [
              0.6666666666666666,
              "#ed7953"
             ],
             [
              0.7777777777777778,
              "#fb9f3a"
             ],
             [
              0.8888888888888888,
              "#fdca26"
             ],
             [
              1,
              "#f0f921"
             ]
            ],
            "type": "heatmap"
           }
          ],
          "heatmapgl": [
           {
            "colorbar": {
             "outlinewidth": 0,
             "ticks": ""
            },
            "colorscale": [
             [
              0,
              "#0d0887"
             ],
             [
              0.1111111111111111,
              "#46039f"
             ],
             [
              0.2222222222222222,
              "#7201a8"
             ],
             [
              0.3333333333333333,
              "#9c179e"
             ],
             [
              0.4444444444444444,
              "#bd3786"
             ],
             [
              0.5555555555555556,
              "#d8576b"
             ],
             [
              0.6666666666666666,
              "#ed7953"
             ],
             [
              0.7777777777777778,
              "#fb9f3a"
             ],
             [
              0.8888888888888888,
              "#fdca26"
             ],
             [
              1,
              "#f0f921"
             ]
            ],
            "type": "heatmapgl"
           }
          ],
          "histogram": [
           {
            "marker": {
             "pattern": {
              "fillmode": "overlay",
              "size": 10,
              "solidity": 0.2
             }
            },
            "type": "histogram"
           }
          ],
          "histogram2d": [
           {
            "colorbar": {
             "outlinewidth": 0,
             "ticks": ""
            },
            "colorscale": [
             [
              0,
              "#0d0887"
             ],
             [
              0.1111111111111111,
              "#46039f"
             ],
             [
              0.2222222222222222,
              "#7201a8"
             ],
             [
              0.3333333333333333,
              "#9c179e"
             ],
             [
              0.4444444444444444,
              "#bd3786"
             ],
             [
              0.5555555555555556,
              "#d8576b"
             ],
             [
              0.6666666666666666,
              "#ed7953"
             ],
             [
              0.7777777777777778,
              "#fb9f3a"
             ],
             [
              0.8888888888888888,
              "#fdca26"
             ],
             [
              1,
              "#f0f921"
             ]
            ],
            "type": "histogram2d"
           }
          ],
          "histogram2dcontour": [
           {
            "colorbar": {
             "outlinewidth": 0,
             "ticks": ""
            },
            "colorscale": [
             [
              0,
              "#0d0887"
             ],
             [
              0.1111111111111111,
              "#46039f"
             ],
             [
              0.2222222222222222,
              "#7201a8"
             ],
             [
              0.3333333333333333,
              "#9c179e"
             ],
             [
              0.4444444444444444,
              "#bd3786"
             ],
             [
              0.5555555555555556,
              "#d8576b"
             ],
             [
              0.6666666666666666,
              "#ed7953"
             ],
             [
              0.7777777777777778,
              "#fb9f3a"
             ],
             [
              0.8888888888888888,
              "#fdca26"
             ],
             [
              1,
              "#f0f921"
             ]
            ],
            "type": "histogram2dcontour"
           }
          ],
          "mesh3d": [
           {
            "colorbar": {
             "outlinewidth": 0,
             "ticks": ""
            },
            "type": "mesh3d"
           }
          ],
          "parcoords": [
           {
            "line": {
             "colorbar": {
              "outlinewidth": 0,
              "ticks": ""
             }
            },
            "type": "parcoords"
           }
          ],
          "pie": [
           {
            "automargin": true,
            "type": "pie"
           }
          ],
          "scatter": [
           {
            "fillpattern": {
             "fillmode": "overlay",
             "size": 10,
             "solidity": 0.2
            },
            "type": "scatter"
           }
          ],
          "scatter3d": [
           {
            "line": {
             "colorbar": {
              "outlinewidth": 0,
              "ticks": ""
             }
            },
            "marker": {
             "colorbar": {
              "outlinewidth": 0,
              "ticks": ""
             }
            },
            "type": "scatter3d"
           }
          ],
          "scattercarpet": [
           {
            "marker": {
             "colorbar": {
              "outlinewidth": 0,
              "ticks": ""
             }
            },
            "type": "scattercarpet"
           }
          ],
          "scattergeo": [
           {
            "marker": {
             "colorbar": {
              "outlinewidth": 0,
              "ticks": ""
             }
            },
            "type": "scattergeo"
           }
          ],
          "scattergl": [
           {
            "marker": {
             "colorbar": {
              "outlinewidth": 0,
              "ticks": ""
             }
            },
            "type": "scattergl"
           }
          ],
          "scattermapbox": [
           {
            "marker": {
             "colorbar": {
              "outlinewidth": 0,
              "ticks": ""
             }
            },
            "type": "scattermapbox"
           }
          ],
          "scatterpolar": [
           {
            "marker": {
             "colorbar": {
              "outlinewidth": 0,
              "ticks": ""
             }
            },
            "type": "scatterpolar"
           }
          ],
          "scatterpolargl": [
           {
            "marker": {
             "colorbar": {
              "outlinewidth": 0,
              "ticks": ""
             }
            },
            "type": "scatterpolargl"
           }
          ],
          "scatterternary": [
           {
            "marker": {
             "colorbar": {
              "outlinewidth": 0,
              "ticks": ""
             }
            },
            "type": "scatterternary"
           }
          ],
          "surface": [
           {
            "colorbar": {
             "outlinewidth": 0,
             "ticks": ""
            },
            "colorscale": [
             [
              0,
              "#0d0887"
             ],
             [
              0.1111111111111111,
              "#46039f"
             ],
             [
              0.2222222222222222,
              "#7201a8"
             ],
             [
              0.3333333333333333,
              "#9c179e"
             ],
             [
              0.4444444444444444,
              "#bd3786"
             ],
             [
              0.5555555555555556,
              "#d8576b"
             ],
             [
              0.6666666666666666,
              "#ed7953"
             ],
             [
              0.7777777777777778,
              "#fb9f3a"
             ],
             [
              0.8888888888888888,
              "#fdca26"
             ],
             [
              1,
              "#f0f921"
             ]
            ],
            "type": "surface"
           }
          ],
          "table": [
           {
            "cells": {
             "fill": {
              "color": "#EBF0F8"
             },
             "line": {
              "color": "white"
             }
            },
            "header": {
             "fill": {
              "color": "#C8D4E3"
             },
             "line": {
              "color": "white"
             }
            },
            "type": "table"
           }
          ]
         },
         "layout": {
          "annotationdefaults": {
           "arrowcolor": "#2a3f5f",
           "arrowhead": 0,
           "arrowwidth": 1
          },
          "autotypenumbers": "strict",
          "coloraxis": {
           "colorbar": {
            "outlinewidth": 0,
            "ticks": ""
           }
          },
          "colorscale": {
           "diverging": [
            [
             0,
             "#8e0152"
            ],
            [
             0.1,
             "#c51b7d"
            ],
            [
             0.2,
             "#de77ae"
            ],
            [
             0.3,
             "#f1b6da"
            ],
            [
             0.4,
             "#fde0ef"
            ],
            [
             0.5,
             "#f7f7f7"
            ],
            [
             0.6,
             "#e6f5d0"
            ],
            [
             0.7,
             "#b8e186"
            ],
            [
             0.8,
             "#7fbc41"
            ],
            [
             0.9,
             "#4d9221"
            ],
            [
             1,
             "#276419"
            ]
           ],
           "sequential": [
            [
             0,
             "#0d0887"
            ],
            [
             0.1111111111111111,
             "#46039f"
            ],
            [
             0.2222222222222222,
             "#7201a8"
            ],
            [
             0.3333333333333333,
             "#9c179e"
            ],
            [
             0.4444444444444444,
             "#bd3786"
            ],
            [
             0.5555555555555556,
             "#d8576b"
            ],
            [
             0.6666666666666666,
             "#ed7953"
            ],
            [
             0.7777777777777778,
             "#fb9f3a"
            ],
            [
             0.8888888888888888,
             "#fdca26"
            ],
            [
             1,
             "#f0f921"
            ]
           ],
           "sequentialminus": [
            [
             0,
             "#0d0887"
            ],
            [
             0.1111111111111111,
             "#46039f"
            ],
            [
             0.2222222222222222,
             "#7201a8"
            ],
            [
             0.3333333333333333,
             "#9c179e"
            ],
            [
             0.4444444444444444,
             "#bd3786"
            ],
            [
             0.5555555555555556,
             "#d8576b"
            ],
            [
             0.6666666666666666,
             "#ed7953"
            ],
            [
             0.7777777777777778,
             "#fb9f3a"
            ],
            [
             0.8888888888888888,
             "#fdca26"
            ],
            [
             1,
             "#f0f921"
            ]
           ]
          },
          "colorway": [
           "#636efa",
           "#EF553B",
           "#00cc96",
           "#ab63fa",
           "#FFA15A",
           "#19d3f3",
           "#FF6692",
           "#B6E880",
           "#FF97FF",
           "#FECB52"
          ],
          "font": {
           "color": "#2a3f5f"
          },
          "geo": {
           "bgcolor": "white",
           "lakecolor": "white",
           "landcolor": "white",
           "showlakes": true,
           "showland": true,
           "subunitcolor": "#C8D4E3"
          },
          "hoverlabel": {
           "align": "left"
          },
          "hovermode": "closest",
          "mapbox": {
           "style": "light"
          },
          "paper_bgcolor": "white",
          "plot_bgcolor": "white",
          "polar": {
           "angularaxis": {
            "gridcolor": "#EBF0F8",
            "linecolor": "#EBF0F8",
            "ticks": ""
           },
           "bgcolor": "white",
           "radialaxis": {
            "gridcolor": "#EBF0F8",
            "linecolor": "#EBF0F8",
            "ticks": ""
           }
          },
          "scene": {
           "xaxis": {
            "backgroundcolor": "white",
            "gridcolor": "#DFE8F3",
            "gridwidth": 2,
            "linecolor": "#EBF0F8",
            "showbackground": true,
            "ticks": "",
            "zerolinecolor": "#EBF0F8"
           },
           "yaxis": {
            "backgroundcolor": "white",
            "gridcolor": "#DFE8F3",
            "gridwidth": 2,
            "linecolor": "#EBF0F8",
            "showbackground": true,
            "ticks": "",
            "zerolinecolor": "#EBF0F8"
           },
           "zaxis": {
            "backgroundcolor": "white",
            "gridcolor": "#DFE8F3",
            "gridwidth": 2,
            "linecolor": "#EBF0F8",
            "showbackground": true,
            "ticks": "",
            "zerolinecolor": "#EBF0F8"
           }
          },
          "shapedefaults": {
           "line": {
            "color": "#2a3f5f"
           }
          },
          "ternary": {
           "aaxis": {
            "gridcolor": "#DFE8F3",
            "linecolor": "#A2B1C6",
            "ticks": ""
           },
           "baxis": {
            "gridcolor": "#DFE8F3",
            "linecolor": "#A2B1C6",
            "ticks": ""
           },
           "bgcolor": "white",
           "caxis": {
            "gridcolor": "#DFE8F3",
            "linecolor": "#A2B1C6",
            "ticks": ""
           }
          },
          "title": {
           "x": 0.05
          },
          "xaxis": {
           "automargin": true,
           "gridcolor": "#EBF0F8",
           "linecolor": "#EBF0F8",
           "ticks": "",
           "title": {
            "standoff": 15
           },
           "zerolinecolor": "#EBF0F8",
           "zerolinewidth": 2
          },
          "yaxis": {
           "automargin": true,
           "gridcolor": "#EBF0F8",
           "linecolor": "#EBF0F8",
           "ticks": "",
           "title": {
            "standoff": 15
           },
           "zerolinecolor": "#EBF0F8",
           "zerolinewidth": 2
          }
         }
        },
        "title": {
         "text": "Tendencia de Ventas por Negocio y Mes (Año Anterior)"
        },
        "width": 1100,
        "xaxis": {
         "anchor": "y",
         "domain": [
          0,
          1
         ],
         "title": {
          "text": "Mes"
         }
        },
        "yaxis": {
         "anchor": "x",
         "domain": [
          0,
          1
         ],
         "title": {
          "text": "Ventas (COP)"
         }
        }
       }
      }
     },
     "metadata": {},
     "output_type": "display_data"
    }
   ],
   "source": [
    "\n",
    "variables_a_agrupar= ['mes','negocio'] # variables a agrupar\n",
    "variables_numericas ={'venta_cop_año_ant':'sum','venta_un_ant':'sum'}\n",
    "ventas_por_negocio_sorted = data_ajustada.groupby(variables_a_agrupar).agg(variables_numericas).reset_index()\n",
    "ventas_por_negocio_sorted = ventas_por_negocio_sorted.sort_values('mes', ascending=True)\n",
    "\n",
    "# Gráfico de lineas por mes y negocio\n",
    "fig = px.line(\n",
    "    ventas_por_negocio_sorted,\n",
    "    x='mes',\n",
    "    y='venta_cop_año_ant',\n",
    "    color='negocio',  # Cada negocio una línea distinta\n",
    "    markers=True,     # Opcional: puntos en cada mes\n",
    "    line_shape='linear',  # Forzamos línea continua (opcional, pero ayuda)\n",
    ")\n",
    "fig.update_layout(\n",
    "    title='Tendencia de Ventas por Negocio y Mes (Año Anterior)',\n",
    "    xaxis_title='Mes',\n",
    "    yaxis_title='Ventas (COP)',\n",
    "    height=700,\n",
    "    width=1100,\n",
    "    template='plotly_white',\n",
    "    legend_title='Negocio',\n",
    ")\n",
    "fig.show()"
   ]
  },
  {
   "cell_type": "markdown",
   "metadata": {},
   "source": [
    "Analicemos los margenes"
   ]
  },
  {
   "cell_type": "code",
   "execution_count": 17,
   "metadata": {},
   "outputs": [
    {
     "data": {
      "application/vnd.plotly.v1+json": {
       "config": {
        "plotlyServerURL": "https://plot.ly"
       },
       "data": [
        {
         "alignmentgroup": "True",
         "hovertemplate": "negocio=%{x}<br>marge_real_label=%{text}<extra></extra>",
         "legendgroup": "Carnico",
         "marker": {
          "color": "#636efa",
          "pattern": {
           "shape": ""
          }
         },
         "name": "Carnico",
         "offsetgroup": "Carnico",
         "orientation": "v",
         "showlegend": true,
         "text": [
          32.36
         ],
         "textposition": "outside",
         "type": "bar",
         "x": [
          "Carnico"
         ],
         "xaxis": "x",
         "y": [
          32.36
         ],
         "yaxis": "y"
        },
        {
         "alignmentgroup": "True",
         "hovertemplate": "negocio=%{x}<br>marge_real_label=%{text}<extra></extra>",
         "legendgroup": "Galletas",
         "marker": {
          "color": "#EF553B",
          "pattern": {
           "shape": ""
          }
         },
         "name": "Galletas",
         "offsetgroup": "Galletas",
         "orientation": "v",
         "showlegend": true,
         "text": [
          44.68
         ],
         "textposition": "outside",
         "type": "bar",
         "x": [
          "Galletas"
         ],
         "xaxis": "x",
         "y": [
          44.68
         ],
         "yaxis": "y"
        },
        {
         "alignmentgroup": "True",
         "hovertemplate": "negocio=%{x}<br>marge_real_label=%{text}<extra></extra>",
         "legendgroup": "Chocolates",
         "marker": {
          "color": "#00cc96",
          "pattern": {
           "shape": ""
          }
         },
         "name": "Chocolates",
         "offsetgroup": "Chocolates",
         "orientation": "v",
         "showlegend": true,
         "text": [
          40.19
         ],
         "textposition": "outside",
         "type": "bar",
         "x": [
          "Chocolates"
         ],
         "xaxis": "x",
         "y": [
          40.19
         ],
         "yaxis": "y"
        },
        {
         "alignmentgroup": "True",
         "hovertemplate": "negocio=%{x}<br>marge_real_label=%{text}<extra></extra>",
         "legendgroup": "Café",
         "marker": {
          "color": "#ab63fa",
          "pattern": {
           "shape": ""
          }
         },
         "name": "Café",
         "offsetgroup": "Café",
         "orientation": "v",
         "showlegend": true,
         "text": [
          33.37
         ],
         "textposition": "outside",
         "type": "bar",
         "x": [
          "Café"
         ],
         "xaxis": "x",
         "y": [
          33.37
         ],
         "yaxis": "y"
        },
        {
         "alignmentgroup": "True",
         "hovertemplate": "negocio=%{x}<br>marge_real_label=%{text}<extra></extra>",
         "legendgroup": "Pastas",
         "marker": {
          "color": "#FFA15A",
          "pattern": {
           "shape": ""
          }
         },
         "name": "Pastas",
         "offsetgroup": "Pastas",
         "orientation": "v",
         "showlegend": true,
         "text": [
          47.16
         ],
         "textposition": "outside",
         "type": "bar",
         "x": [
          "Pastas"
         ],
         "xaxis": "x",
         "y": [
          47.16
         ],
         "yaxis": "y"
        },
        {
         "alignmentgroup": "True",
         "hovertemplate": "negocio=%{x}<br>marge_real_label=%{text}<extra></extra>",
         "legendgroup": "Distribuidos",
         "marker": {
          "color": "#19d3f3",
          "pattern": {
           "shape": ""
          }
         },
         "name": "Distribuidos",
         "offsetgroup": "Distribuidos",
         "orientation": "v",
         "showlegend": true,
         "text": [
          28.54
         ],
         "textposition": "outside",
         "type": "bar",
         "x": [
          "Distribuidos"
         ],
         "xaxis": "x",
         "y": [
          28.54
         ],
         "yaxis": "y"
        },
        {
         "alignmentgroup": "True",
         "hovertemplate": "negocio=%{x}<br>marge_real_label=%{text}<extra></extra>",
         "legendgroup": "Emprendimientos",
         "marker": {
          "color": "#FF6692",
          "pattern": {
           "shape": ""
          }
         },
         "name": "Emprendimientos",
         "offsetgroup": "Emprendimientos",
         "orientation": "v",
         "showlegend": true,
         "text": [
          41.63
         ],
         "textposition": "outside",
         "type": "bar",
         "x": [
          "Emprendimientos"
         ],
         "xaxis": "x",
         "y": [
          41.63
         ],
         "yaxis": "y"
        }
       ],
       "layout": {
        "barmode": "relative",
        "legend": {
         "title": {
          "text": "negocio"
         },
         "tracegroupgap": 0
        },
        "margin": {
         "t": 60
        },
        "showlegend": false,
        "template": {
         "data": {
          "bar": [
           {
            "error_x": {
             "color": "#2a3f5f"
            },
            "error_y": {
             "color": "#2a3f5f"
            },
            "marker": {
             "line": {
              "color": "#E5ECF6",
              "width": 0.5
             },
             "pattern": {
              "fillmode": "overlay",
              "size": 10,
              "solidity": 0.2
             }
            },
            "type": "bar"
           }
          ],
          "barpolar": [
           {
            "marker": {
             "line": {
              "color": "#E5ECF6",
              "width": 0.5
             },
             "pattern": {
              "fillmode": "overlay",
              "size": 10,
              "solidity": 0.2
             }
            },
            "type": "barpolar"
           }
          ],
          "carpet": [
           {
            "aaxis": {
             "endlinecolor": "#2a3f5f",
             "gridcolor": "white",
             "linecolor": "white",
             "minorgridcolor": "white",
             "startlinecolor": "#2a3f5f"
            },
            "baxis": {
             "endlinecolor": "#2a3f5f",
             "gridcolor": "white",
             "linecolor": "white",
             "minorgridcolor": "white",
             "startlinecolor": "#2a3f5f"
            },
            "type": "carpet"
           }
          ],
          "choropleth": [
           {
            "colorbar": {
             "outlinewidth": 0,
             "ticks": ""
            },
            "type": "choropleth"
           }
          ],
          "contour": [
           {
            "colorbar": {
             "outlinewidth": 0,
             "ticks": ""
            },
            "colorscale": [
             [
              0,
              "#0d0887"
             ],
             [
              0.1111111111111111,
              "#46039f"
             ],
             [
              0.2222222222222222,
              "#7201a8"
             ],
             [
              0.3333333333333333,
              "#9c179e"
             ],
             [
              0.4444444444444444,
              "#bd3786"
             ],
             [
              0.5555555555555556,
              "#d8576b"
             ],
             [
              0.6666666666666666,
              "#ed7953"
             ],
             [
              0.7777777777777778,
              "#fb9f3a"
             ],
             [
              0.8888888888888888,
              "#fdca26"
             ],
             [
              1,
              "#f0f921"
             ]
            ],
            "type": "contour"
           }
          ],
          "contourcarpet": [
           {
            "colorbar": {
             "outlinewidth": 0,
             "ticks": ""
            },
            "type": "contourcarpet"
           }
          ],
          "heatmap": [
           {
            "colorbar": {
             "outlinewidth": 0,
             "ticks": ""
            },
            "colorscale": [
             [
              0,
              "#0d0887"
             ],
             [
              0.1111111111111111,
              "#46039f"
             ],
             [
              0.2222222222222222,
              "#7201a8"
             ],
             [
              0.3333333333333333,
              "#9c179e"
             ],
             [
              0.4444444444444444,
              "#bd3786"
             ],
             [
              0.5555555555555556,
              "#d8576b"
             ],
             [
              0.6666666666666666,
              "#ed7953"
             ],
             [
              0.7777777777777778,
              "#fb9f3a"
             ],
             [
              0.8888888888888888,
              "#fdca26"
             ],
             [
              1,
              "#f0f921"
             ]
            ],
            "type": "heatmap"
           }
          ],
          "heatmapgl": [
           {
            "colorbar": {
             "outlinewidth": 0,
             "ticks": ""
            },
            "colorscale": [
             [
              0,
              "#0d0887"
             ],
             [
              0.1111111111111111,
              "#46039f"
             ],
             [
              0.2222222222222222,
              "#7201a8"
             ],
             [
              0.3333333333333333,
              "#9c179e"
             ],
             [
              0.4444444444444444,
              "#bd3786"
             ],
             [
              0.5555555555555556,
              "#d8576b"
             ],
             [
              0.6666666666666666,
              "#ed7953"
             ],
             [
              0.7777777777777778,
              "#fb9f3a"
             ],
             [
              0.8888888888888888,
              "#fdca26"
             ],
             [
              1,
              "#f0f921"
             ]
            ],
            "type": "heatmapgl"
           }
          ],
          "histogram": [
           {
            "marker": {
             "pattern": {
              "fillmode": "overlay",
              "size": 10,
              "solidity": 0.2
             }
            },
            "type": "histogram"
           }
          ],
          "histogram2d": [
           {
            "colorbar": {
             "outlinewidth": 0,
             "ticks": ""
            },
            "colorscale": [
             [
              0,
              "#0d0887"
             ],
             [
              0.1111111111111111,
              "#46039f"
             ],
             [
              0.2222222222222222,
              "#7201a8"
             ],
             [
              0.3333333333333333,
              "#9c179e"
             ],
             [
              0.4444444444444444,
              "#bd3786"
             ],
             [
              0.5555555555555556,
              "#d8576b"
             ],
             [
              0.6666666666666666,
              "#ed7953"
             ],
             [
              0.7777777777777778,
              "#fb9f3a"
             ],
             [
              0.8888888888888888,
              "#fdca26"
             ],
             [
              1,
              "#f0f921"
             ]
            ],
            "type": "histogram2d"
           }
          ],
          "histogram2dcontour": [
           {
            "colorbar": {
             "outlinewidth": 0,
             "ticks": ""
            },
            "colorscale": [
             [
              0,
              "#0d0887"
             ],
             [
              0.1111111111111111,
              "#46039f"
             ],
             [
              0.2222222222222222,
              "#7201a8"
             ],
             [
              0.3333333333333333,
              "#9c179e"
             ],
             [
              0.4444444444444444,
              "#bd3786"
             ],
             [
              0.5555555555555556,
              "#d8576b"
             ],
             [
              0.6666666666666666,
              "#ed7953"
             ],
             [
              0.7777777777777778,
              "#fb9f3a"
             ],
             [
              0.8888888888888888,
              "#fdca26"
             ],
             [
              1,
              "#f0f921"
             ]
            ],
            "type": "histogram2dcontour"
           }
          ],
          "mesh3d": [
           {
            "colorbar": {
             "outlinewidth": 0,
             "ticks": ""
            },
            "type": "mesh3d"
           }
          ],
          "parcoords": [
           {
            "line": {
             "colorbar": {
              "outlinewidth": 0,
              "ticks": ""
             }
            },
            "type": "parcoords"
           }
          ],
          "pie": [
           {
            "automargin": true,
            "type": "pie"
           }
          ],
          "scatter": [
           {
            "fillpattern": {
             "fillmode": "overlay",
             "size": 10,
             "solidity": 0.2
            },
            "type": "scatter"
           }
          ],
          "scatter3d": [
           {
            "line": {
             "colorbar": {
              "outlinewidth": 0,
              "ticks": ""
             }
            },
            "marker": {
             "colorbar": {
              "outlinewidth": 0,
              "ticks": ""
             }
            },
            "type": "scatter3d"
           }
          ],
          "scattercarpet": [
           {
            "marker": {
             "colorbar": {
              "outlinewidth": 0,
              "ticks": ""
             }
            },
            "type": "scattercarpet"
           }
          ],
          "scattergeo": [
           {
            "marker": {
             "colorbar": {
              "outlinewidth": 0,
              "ticks": ""
             }
            },
            "type": "scattergeo"
           }
          ],
          "scattergl": [
           {
            "marker": {
             "colorbar": {
              "outlinewidth": 0,
              "ticks": ""
             }
            },
            "type": "scattergl"
           }
          ],
          "scattermapbox": [
           {
            "marker": {
             "colorbar": {
              "outlinewidth": 0,
              "ticks": ""
             }
            },
            "type": "scattermapbox"
           }
          ],
          "scatterpolar": [
           {
            "marker": {
             "colorbar": {
              "outlinewidth": 0,
              "ticks": ""
             }
            },
            "type": "scatterpolar"
           }
          ],
          "scatterpolargl": [
           {
            "marker": {
             "colorbar": {
              "outlinewidth": 0,
              "ticks": ""
             }
            },
            "type": "scatterpolargl"
           }
          ],
          "scatterternary": [
           {
            "marker": {
             "colorbar": {
              "outlinewidth": 0,
              "ticks": ""
             }
            },
            "type": "scatterternary"
           }
          ],
          "surface": [
           {
            "colorbar": {
             "outlinewidth": 0,
             "ticks": ""
            },
            "colorscale": [
             [
              0,
              "#0d0887"
             ],
             [
              0.1111111111111111,
              "#46039f"
             ],
             [
              0.2222222222222222,
              "#7201a8"
             ],
             [
              0.3333333333333333,
              "#9c179e"
             ],
             [
              0.4444444444444444,
              "#bd3786"
             ],
             [
              0.5555555555555556,
              "#d8576b"
             ],
             [
              0.6666666666666666,
              "#ed7953"
             ],
             [
              0.7777777777777778,
              "#fb9f3a"
             ],
             [
              0.8888888888888888,
              "#fdca26"
             ],
             [
              1,
              "#f0f921"
             ]
            ],
            "type": "surface"
           }
          ],
          "table": [
           {
            "cells": {
             "fill": {
              "color": "#EBF0F8"
             },
             "line": {
              "color": "white"
             }
            },
            "header": {
             "fill": {
              "color": "#C8D4E3"
             },
             "line": {
              "color": "white"
             }
            },
            "type": "table"
           }
          ]
         },
         "layout": {
          "annotationdefaults": {
           "arrowcolor": "#2a3f5f",
           "arrowhead": 0,
           "arrowwidth": 1
          },
          "autotypenumbers": "strict",
          "coloraxis": {
           "colorbar": {
            "outlinewidth": 0,
            "ticks": ""
           }
          },
          "colorscale": {
           "diverging": [
            [
             0,
             "#8e0152"
            ],
            [
             0.1,
             "#c51b7d"
            ],
            [
             0.2,
             "#de77ae"
            ],
            [
             0.3,
             "#f1b6da"
            ],
            [
             0.4,
             "#fde0ef"
            ],
            [
             0.5,
             "#f7f7f7"
            ],
            [
             0.6,
             "#e6f5d0"
            ],
            [
             0.7,
             "#b8e186"
            ],
            [
             0.8,
             "#7fbc41"
            ],
            [
             0.9,
             "#4d9221"
            ],
            [
             1,
             "#276419"
            ]
           ],
           "sequential": [
            [
             0,
             "#0d0887"
            ],
            [
             0.1111111111111111,
             "#46039f"
            ],
            [
             0.2222222222222222,
             "#7201a8"
            ],
            [
             0.3333333333333333,
             "#9c179e"
            ],
            [
             0.4444444444444444,
             "#bd3786"
            ],
            [
             0.5555555555555556,
             "#d8576b"
            ],
            [
             0.6666666666666666,
             "#ed7953"
            ],
            [
             0.7777777777777778,
             "#fb9f3a"
            ],
            [
             0.8888888888888888,
             "#fdca26"
            ],
            [
             1,
             "#f0f921"
            ]
           ],
           "sequentialminus": [
            [
             0,
             "#0d0887"
            ],
            [
             0.1111111111111111,
             "#46039f"
            ],
            [
             0.2222222222222222,
             "#7201a8"
            ],
            [
             0.3333333333333333,
             "#9c179e"
            ],
            [
             0.4444444444444444,
             "#bd3786"
            ],
            [
             0.5555555555555556,
             "#d8576b"
            ],
            [
             0.6666666666666666,
             "#ed7953"
            ],
            [
             0.7777777777777778,
             "#fb9f3a"
            ],
            [
             0.8888888888888888,
             "#fdca26"
            ],
            [
             1,
             "#f0f921"
            ]
           ]
          },
          "colorway": [
           "#636efa",
           "#EF553B",
           "#00cc96",
           "#ab63fa",
           "#FFA15A",
           "#19d3f3",
           "#FF6692",
           "#B6E880",
           "#FF97FF",
           "#FECB52"
          ],
          "font": {
           "color": "#2a3f5f"
          },
          "geo": {
           "bgcolor": "white",
           "lakecolor": "white",
           "landcolor": "#E5ECF6",
           "showlakes": true,
           "showland": true,
           "subunitcolor": "white"
          },
          "hoverlabel": {
           "align": "left"
          },
          "hovermode": "closest",
          "mapbox": {
           "style": "light"
          },
          "paper_bgcolor": "white",
          "plot_bgcolor": "#E5ECF6",
          "polar": {
           "angularaxis": {
            "gridcolor": "white",
            "linecolor": "white",
            "ticks": ""
           },
           "bgcolor": "#E5ECF6",
           "radialaxis": {
            "gridcolor": "white",
            "linecolor": "white",
            "ticks": ""
           }
          },
          "scene": {
           "xaxis": {
            "backgroundcolor": "#E5ECF6",
            "gridcolor": "white",
            "gridwidth": 2,
            "linecolor": "white",
            "showbackground": true,
            "ticks": "",
            "zerolinecolor": "white"
           },
           "yaxis": {
            "backgroundcolor": "#E5ECF6",
            "gridcolor": "white",
            "gridwidth": 2,
            "linecolor": "white",
            "showbackground": true,
            "ticks": "",
            "zerolinecolor": "white"
           },
           "zaxis": {
            "backgroundcolor": "#E5ECF6",
            "gridcolor": "white",
            "gridwidth": 2,
            "linecolor": "white",
            "showbackground": true,
            "ticks": "",
            "zerolinecolor": "white"
           }
          },
          "shapedefaults": {
           "line": {
            "color": "#2a3f5f"
           }
          },
          "ternary": {
           "aaxis": {
            "gridcolor": "white",
            "linecolor": "white",
            "ticks": ""
           },
           "baxis": {
            "gridcolor": "white",
            "linecolor": "white",
            "ticks": ""
           },
           "bgcolor": "#E5ECF6",
           "caxis": {
            "gridcolor": "white",
            "linecolor": "white",
            "ticks": ""
           }
          },
          "title": {
           "x": 0.05
          },
          "xaxis": {
           "automargin": true,
           "gridcolor": "white",
           "linecolor": "white",
           "ticks": "",
           "title": {
            "standoff": 15
           },
           "zerolinecolor": "white",
           "zerolinewidth": 2
          },
          "yaxis": {
           "automargin": true,
           "gridcolor": "white",
           "linecolor": "white",
           "ticks": "",
           "title": {
            "standoff": 15
           },
           "zerolinecolor": "white",
           "zerolinewidth": 2
          }
         }
        },
        "title": {
         "text": "Margen por Negocio"
        },
        "uniformtext": {
         "minsize": 8,
         "mode": "hide"
        },
        "xaxis": {
         "anchor": "y",
         "categoryarray": [
          "Carnico",
          "Galletas",
          "Chocolates",
          "Café",
          "Pastas",
          "Distribuidos",
          "Emprendimientos"
         ],
         "categoryorder": "array",
         "domain": [
          0,
          1
         ],
         "title": {
          "text": "Negocio"
         }
        },
        "yaxis": {
         "anchor": "x",
         "domain": [
          0,
          1
         ],
         "title": {
          "text": "Margen Real"
         }
        }
       }
      }
     },
     "metadata": {},
     "output_type": "display_data"
    }
   ],
   "source": [
    "margen_sector['marge_real_label'] = margen_sector['marge_real'].round(2)\n",
    "fig = px.bar(\n",
    "    margen_sector,\n",
    "    x='negocio',\n",
    "    y='marge_real_label',\n",
    "    color='negocio',\n",
    "    text='marge_real_label'  # Mostrar el valor de marge_real como etiqueta\n",
    ")\n",
    "\n",
    "# Ajustes estéticos\n",
    "fig.update_traces(textposition='outside')  # Coloca las etiquetas por fuera de las barras\n",
    "fig.update_layout(\n",
    "    uniformtext_minsize=8,\n",
    "    uniformtext_mode='hide',\n",
    "    title='Margen por Negocio',\n",
    "    xaxis_title='Negocio',\n",
    "    yaxis_title='Margen Real',\n",
    "    showlegend=False  # Oculta la leyenda si color y x son la misma variable\n",
    ")\n",
    "\n",
    "fig.show()"
   ]
  },
  {
   "cell_type": "markdown",
   "metadata": {},
   "source": [
    "Calculamos algunas medidas descriptivas de las ventas por negocio en determinado tiempo"
   ]
  },
  {
   "cell_type": "code",
   "execution_count": null,
   "metadata": {},
   "outputs": [
    {
     "data": {
      "text/html": [
       "<div>\n",
       "<style scoped>\n",
       "    .dataframe tbody tr th:only-of-type {\n",
       "        vertical-align: middle;\n",
       "    }\n",
       "\n",
       "    .dataframe tbody tr th {\n",
       "        vertical-align: top;\n",
       "    }\n",
       "\n",
       "    .dataframe thead th {\n",
       "        text-align: right;\n",
       "    }\n",
       "</style>\n",
       "<table border=\"1\" class=\"dataframe\">\n",
       "  <thead>\n",
       "    <tr style=\"text-align: right;\">\n",
       "      <th></th>\n",
       "      <th>negocio</th>\n",
       "      <th>total_ventas</th>\n",
       "      <th>media_ventas</th>\n",
       "      <th>desviacion_ventas</th>\n",
       "      <th>mediana_ventas</th>\n",
       "      <th>minimo_ventas</th>\n",
       "      <th>maximo_ventas</th>\n",
       "      <th>marge_real_label</th>\n",
       "    </tr>\n",
       "  </thead>\n",
       "  <tbody>\n",
       "    <tr>\n",
       "      <th>0</th>\n",
       "      <td>Galletas</td>\n",
       "      <td>9481142.21</td>\n",
       "      <td>790095.184167</td>\n",
       "      <td>110388.154270</td>\n",
       "      <td>755638.875</td>\n",
       "      <td>718346.34</td>\n",
       "      <td>1125054.03</td>\n",
       "      <td>44.68</td>\n",
       "    </tr>\n",
       "    <tr>\n",
       "      <th>1</th>\n",
       "      <td>Chocolates</td>\n",
       "      <td>8897315.78</td>\n",
       "      <td>741442.981667</td>\n",
       "      <td>61802.242991</td>\n",
       "      <td>737819.385</td>\n",
       "      <td>644256.92</td>\n",
       "      <td>858805.33</td>\n",
       "      <td>40.19</td>\n",
       "    </tr>\n",
       "    <tr>\n",
       "      <th>2</th>\n",
       "      <td>Pastas</td>\n",
       "      <td>7159625.00</td>\n",
       "      <td>596635.416667</td>\n",
       "      <td>28535.732794</td>\n",
       "      <td>599943.000</td>\n",
       "      <td>546192.00</td>\n",
       "      <td>658821.00</td>\n",
       "      <td>47.16</td>\n",
       "    </tr>\n",
       "    <tr>\n",
       "      <th>3</th>\n",
       "      <td>Café</td>\n",
       "      <td>4386358.00</td>\n",
       "      <td>365529.833333</td>\n",
       "      <td>29269.031387</td>\n",
       "      <td>361352.500</td>\n",
       "      <td>326356.00</td>\n",
       "      <td>431936.00</td>\n",
       "      <td>33.37</td>\n",
       "    </tr>\n",
       "    <tr>\n",
       "      <th>4</th>\n",
       "      <td>Carnico</td>\n",
       "      <td>2552216.00</td>\n",
       "      <td>212684.666667</td>\n",
       "      <td>26666.143125</td>\n",
       "      <td>207986.500</td>\n",
       "      <td>173571.00</td>\n",
       "      <td>257836.00</td>\n",
       "      <td>32.36</td>\n",
       "    </tr>\n",
       "    <tr>\n",
       "      <th>5</th>\n",
       "      <td>Culinarios</td>\n",
       "      <td>478699.00</td>\n",
       "      <td>39891.583333</td>\n",
       "      <td>8601.830603</td>\n",
       "      <td>40672.000</td>\n",
       "      <td>29337.00</td>\n",
       "      <td>60319.00</td>\n",
       "      <td>NaN</td>\n",
       "    </tr>\n",
       "    <tr>\n",
       "      <th>6</th>\n",
       "      <td>Nutricion experta</td>\n",
       "      <td>68180.00</td>\n",
       "      <td>5681.666667</td>\n",
       "      <td>689.199580</td>\n",
       "      <td>5620.000</td>\n",
       "      <td>4678.00</td>\n",
       "      <td>7117.00</td>\n",
       "      <td>NaN</td>\n",
       "    </tr>\n",
       "    <tr>\n",
       "      <th>7</th>\n",
       "      <td>Emprendimientos</td>\n",
       "      <td>46437.00</td>\n",
       "      <td>3869.750000</td>\n",
       "      <td>943.116220</td>\n",
       "      <td>3600.500</td>\n",
       "      <td>2965.00</td>\n",
       "      <td>6416.00</td>\n",
       "      <td>41.63</td>\n",
       "    </tr>\n",
       "  </tbody>\n",
       "</table>\n",
       "</div>"
      ],
      "text/plain": [
       "             negocio  total_ventas   media_ventas  desviacion_ventas  \\\n",
       "0           Galletas    9481142.21  790095.184167      110388.154270   \n",
       "1         Chocolates    8897315.78  741442.981667       61802.242991   \n",
       "2             Pastas    7159625.00  596635.416667       28535.732794   \n",
       "3               Café    4386358.00  365529.833333       29269.031387   \n",
       "4            Carnico    2552216.00  212684.666667       26666.143125   \n",
       "5         Culinarios     478699.00   39891.583333        8601.830603   \n",
       "6  Nutricion experta      68180.00    5681.666667         689.199580   \n",
       "7    Emprendimientos      46437.00    3869.750000         943.116220   \n",
       "\n",
       "   mediana_ventas  minimo_ventas  maximo_ventas  marge_real_label  \n",
       "0      755638.875      718346.34     1125054.03             44.68  \n",
       "1      737819.385      644256.92      858805.33             40.19  \n",
       "2      599943.000      546192.00      658821.00             47.16  \n",
       "3      361352.500      326356.00      431936.00             33.37  \n",
       "4      207986.500      173571.00      257836.00             32.36  \n",
       "5       40672.000       29337.00       60319.00               NaN  \n",
       "6        5620.000        4678.00        7117.00               NaN  \n",
       "7        3600.500        2965.00        6416.00             41.63  "
      ]
     },
     "execution_count": 15,
     "metadata": {},
     "output_type": "execute_result"
    }
   ],
   "source": [
    "## resumen por negocio\n",
    "ventas_por_sector_sorted = ventas_por_negocio_sorted.groupby(['negocio']).agg(\n",
    "    total_ventas = ('venta_cop_año_ant','sum'),\n",
    "    media_ventas = ('venta_cop_año_ant','mean'),\n",
    "    desviacion_ventas = ('venta_cop_año_ant','std'),\n",
    "    mediana_ventas = ('venta_cop_año_ant','median'),\n",
    "    minimo_ventas = ('venta_cop_año_ant','min'),\n",
    "    maximo_ventas = ('venta_cop_año_ant','max')    \n",
    ").reset_index().sort_values('total_ventas',ascending=False)\n",
    "\n",
    "ventas_por_sector_sorted = pd.merge(ventas_por_sector_sorted,margen_sector[['negocio','marge_real_label']], on = ['negocio'], how='left')\n",
    "ventas_por_sector_sorted.sort_values(by='total_ventas', ascending=False)"
   ]
  },
  {
   "cell_type": "markdown",
   "metadata": {},
   "source": [
    "### Exploremos ahora analisis por marca"
   ]
  },
  {
   "cell_type": "code",
   "execution_count": 18,
   "metadata": {},
   "outputs": [],
   "source": [
    "variables_a_agrupar= ['marca'] # variables a agrupar\n",
    "variables_numericas ={'venta_cop_año_ant':'sum', 'codigo_sap': pd.Series.nunique}\n",
    "ventas_por_marca_sorted = data_ajustada.groupby(variables_a_agrupar).agg(variables_numericas).reset_index()\n",
    "ventas_por_marca_sorted = ventas_por_marca_sorted.sort_values('venta_cop_año_ant', ascending=False)\n"
   ]
  },
  {
   "cell_type": "code",
   "execution_count": 19,
   "metadata": {},
   "outputs": [
    {
     "data": {
      "application/vnd.plotly.v1+json": {
       "config": {
        "plotlyServerURL": "https://plot.ly"
       },
       "data": [
        {
         "alignmentgroup": "True",
         "hovertemplate": "Ventas (COP)=%{text}<br>Marca=%{y}<extra></extra>",
         "legendgroup": "",
         "marker": {
          "color": "#636efa",
          "pattern": {
           "shape": ""
          }
         },
         "name": "",
         "offsetgroup": "",
         "orientation": "h",
         "showlegend": false,
         "text": [
          4740097,
          2993791.67,
          2880805,
          2462989,
          2272941,
          2130187,
          1806073.6,
          1613320.2,
          1423368,
          1351523.89,
          1339758.72,
          1039050,
          988326,
          824516,
          768593.1,
          604061,
          592990.99,
          574141,
          502463.93,
          478699,
          383952,
          258819,
          180421.47,
          145774,
          137659.8,
          107610,
          89227,
          68180,
          54111,
          52259,
          48200,
          46437,
          46119.14,
          43951,
          12787.6,
          3965.88,
          2461,
          335,
          7
         ],
         "textposition": "outside",
         "texttemplate": "%{text:.2s}",
         "type": "bar",
         "x": [
          4740097,
          2993791.67,
          2880805,
          2462989,
          2272941,
          2130187,
          1806073.6,
          1613320.2,
          1423368,
          1351523.89,
          1339758.72,
          1039050,
          988326,
          824516,
          768593.1,
          604061,
          592990.99,
          574141,
          502463.93,
          478699,
          383952,
          258819,
          180421.47,
          145774,
          137659.8,
          107610,
          89227,
          68180,
          54111,
          52259,
          48200,
          46437,
          46119.14,
          43951,
          12787.6,
          3965.88,
          2461,
          335,
          7
         ],
         "xaxis": "x",
         "y": [
          "Doria",
          "Tosh",
          "Saltin Noel",
          "Zenú",
          "Sello Rojo",
          "Corona",
          "Ducales",
          "Noel",
          "Comarrico",
          "La Especial",
          "Jet",
          "Colcafé",
          "Monticello",
          "Chocolate La Especial",
          "Festival",
          "Chocolisto",
          "Jumbo",
          "Matiz",
          "Lyne",
          "Badia",
          "Dux",
          "La Bastilla",
          "MontBlanc",
          "Cruz",
          "Gol",
          "Tesalia",
          "Rica",
          "Bénet",
          "Naturela",
          "Carve",
          "KIBO",
          "Evok",
          "Drácula",
          "Corona Harina",
          "Santander",
          "Tikys",
          "Diversa",
          "Nutresa",
          "BastiYá"
         ],
         "yaxis": "y"
        }
       ],
       "layout": {
        "barmode": "relative",
        "legend": {
         "tracegroupgap": 0
        },
        "margin": {
         "b": 40,
         "l": 100,
         "r": 40,
         "t": 60
        },
        "template": {
         "data": {
          "bar": [
           {
            "error_x": {
             "color": "#2a3f5f"
            },
            "error_y": {
             "color": "#2a3f5f"
            },
            "marker": {
             "line": {
              "color": "white",
              "width": 0.5
             },
             "pattern": {
              "fillmode": "overlay",
              "size": 10,
              "solidity": 0.2
             }
            },
            "type": "bar"
           }
          ],
          "barpolar": [
           {
            "marker": {
             "line": {
              "color": "white",
              "width": 0.5
             },
             "pattern": {
              "fillmode": "overlay",
              "size": 10,
              "solidity": 0.2
             }
            },
            "type": "barpolar"
           }
          ],
          "carpet": [
           {
            "aaxis": {
             "endlinecolor": "#2a3f5f",
             "gridcolor": "#C8D4E3",
             "linecolor": "#C8D4E3",
             "minorgridcolor": "#C8D4E3",
             "startlinecolor": "#2a3f5f"
            },
            "baxis": {
             "endlinecolor": "#2a3f5f",
             "gridcolor": "#C8D4E3",
             "linecolor": "#C8D4E3",
             "minorgridcolor": "#C8D4E3",
             "startlinecolor": "#2a3f5f"
            },
            "type": "carpet"
           }
          ],
          "choropleth": [
           {
            "colorbar": {
             "outlinewidth": 0,
             "ticks": ""
            },
            "type": "choropleth"
           }
          ],
          "contour": [
           {
            "colorbar": {
             "outlinewidth": 0,
             "ticks": ""
            },
            "colorscale": [
             [
              0,
              "#0d0887"
             ],
             [
              0.1111111111111111,
              "#46039f"
             ],
             [
              0.2222222222222222,
              "#7201a8"
             ],
             [
              0.3333333333333333,
              "#9c179e"
             ],
             [
              0.4444444444444444,
              "#bd3786"
             ],
             [
              0.5555555555555556,
              "#d8576b"
             ],
             [
              0.6666666666666666,
              "#ed7953"
             ],
             [
              0.7777777777777778,
              "#fb9f3a"
             ],
             [
              0.8888888888888888,
              "#fdca26"
             ],
             [
              1,
              "#f0f921"
             ]
            ],
            "type": "contour"
           }
          ],
          "contourcarpet": [
           {
            "colorbar": {
             "outlinewidth": 0,
             "ticks": ""
            },
            "type": "contourcarpet"
           }
          ],
          "heatmap": [
           {
            "colorbar": {
             "outlinewidth": 0,
             "ticks": ""
            },
            "colorscale": [
             [
              0,
              "#0d0887"
             ],
             [
              0.1111111111111111,
              "#46039f"
             ],
             [
              0.2222222222222222,
              "#7201a8"
             ],
             [
              0.3333333333333333,
              "#9c179e"
             ],
             [
              0.4444444444444444,
              "#bd3786"
             ],
             [
              0.5555555555555556,
              "#d8576b"
             ],
             [
              0.6666666666666666,
              "#ed7953"
             ],
             [
              0.7777777777777778,
              "#fb9f3a"
             ],
             [
              0.8888888888888888,
              "#fdca26"
             ],
             [
              1,
              "#f0f921"
             ]
            ],
            "type": "heatmap"
           }
          ],
          "heatmapgl": [
           {
            "colorbar": {
             "outlinewidth": 0,
             "ticks": ""
            },
            "colorscale": [
             [
              0,
              "#0d0887"
             ],
             [
              0.1111111111111111,
              "#46039f"
             ],
             [
              0.2222222222222222,
              "#7201a8"
             ],
             [
              0.3333333333333333,
              "#9c179e"
             ],
             [
              0.4444444444444444,
              "#bd3786"
             ],
             [
              0.5555555555555556,
              "#d8576b"
             ],
             [
              0.6666666666666666,
              "#ed7953"
             ],
             [
              0.7777777777777778,
              "#fb9f3a"
             ],
             [
              0.8888888888888888,
              "#fdca26"
             ],
             [
              1,
              "#f0f921"
             ]
            ],
            "type": "heatmapgl"
           }
          ],
          "histogram": [
           {
            "marker": {
             "pattern": {
              "fillmode": "overlay",
              "size": 10,
              "solidity": 0.2
             }
            },
            "type": "histogram"
           }
          ],
          "histogram2d": [
           {
            "colorbar": {
             "outlinewidth": 0,
             "ticks": ""
            },
            "colorscale": [
             [
              0,
              "#0d0887"
             ],
             [
              0.1111111111111111,
              "#46039f"
             ],
             [
              0.2222222222222222,
              "#7201a8"
             ],
             [
              0.3333333333333333,
              "#9c179e"
             ],
             [
              0.4444444444444444,
              "#bd3786"
             ],
             [
              0.5555555555555556,
              "#d8576b"
             ],
             [
              0.6666666666666666,
              "#ed7953"
             ],
             [
              0.7777777777777778,
              "#fb9f3a"
             ],
             [
              0.8888888888888888,
              "#fdca26"
             ],
             [
              1,
              "#f0f921"
             ]
            ],
            "type": "histogram2d"
           }
          ],
          "histogram2dcontour": [
           {
            "colorbar": {
             "outlinewidth": 0,
             "ticks": ""
            },
            "colorscale": [
             [
              0,
              "#0d0887"
             ],
             [
              0.1111111111111111,
              "#46039f"
             ],
             [
              0.2222222222222222,
              "#7201a8"
             ],
             [
              0.3333333333333333,
              "#9c179e"
             ],
             [
              0.4444444444444444,
              "#bd3786"
             ],
             [
              0.5555555555555556,
              "#d8576b"
             ],
             [
              0.6666666666666666,
              "#ed7953"
             ],
             [
              0.7777777777777778,
              "#fb9f3a"
             ],
             [
              0.8888888888888888,
              "#fdca26"
             ],
             [
              1,
              "#f0f921"
             ]
            ],
            "type": "histogram2dcontour"
           }
          ],
          "mesh3d": [
           {
            "colorbar": {
             "outlinewidth": 0,
             "ticks": ""
            },
            "type": "mesh3d"
           }
          ],
          "parcoords": [
           {
            "line": {
             "colorbar": {
              "outlinewidth": 0,
              "ticks": ""
             }
            },
            "type": "parcoords"
           }
          ],
          "pie": [
           {
            "automargin": true,
            "type": "pie"
           }
          ],
          "scatter": [
           {
            "fillpattern": {
             "fillmode": "overlay",
             "size": 10,
             "solidity": 0.2
            },
            "type": "scatter"
           }
          ],
          "scatter3d": [
           {
            "line": {
             "colorbar": {
              "outlinewidth": 0,
              "ticks": ""
             }
            },
            "marker": {
             "colorbar": {
              "outlinewidth": 0,
              "ticks": ""
             }
            },
            "type": "scatter3d"
           }
          ],
          "scattercarpet": [
           {
            "marker": {
             "colorbar": {
              "outlinewidth": 0,
              "ticks": ""
             }
            },
            "type": "scattercarpet"
           }
          ],
          "scattergeo": [
           {
            "marker": {
             "colorbar": {
              "outlinewidth": 0,
              "ticks": ""
             }
            },
            "type": "scattergeo"
           }
          ],
          "scattergl": [
           {
            "marker": {
             "colorbar": {
              "outlinewidth": 0,
              "ticks": ""
             }
            },
            "type": "scattergl"
           }
          ],
          "scattermapbox": [
           {
            "marker": {
             "colorbar": {
              "outlinewidth": 0,
              "ticks": ""
             }
            },
            "type": "scattermapbox"
           }
          ],
          "scatterpolar": [
           {
            "marker": {
             "colorbar": {
              "outlinewidth": 0,
              "ticks": ""
             }
            },
            "type": "scatterpolar"
           }
          ],
          "scatterpolargl": [
           {
            "marker": {
             "colorbar": {
              "outlinewidth": 0,
              "ticks": ""
             }
            },
            "type": "scatterpolargl"
           }
          ],
          "scatterternary": [
           {
            "marker": {
             "colorbar": {
              "outlinewidth": 0,
              "ticks": ""
             }
            },
            "type": "scatterternary"
           }
          ],
          "surface": [
           {
            "colorbar": {
             "outlinewidth": 0,
             "ticks": ""
            },
            "colorscale": [
             [
              0,
              "#0d0887"
             ],
             [
              0.1111111111111111,
              "#46039f"
             ],
             [
              0.2222222222222222,
              "#7201a8"
             ],
             [
              0.3333333333333333,
              "#9c179e"
             ],
             [
              0.4444444444444444,
              "#bd3786"
             ],
             [
              0.5555555555555556,
              "#d8576b"
             ],
             [
              0.6666666666666666,
              "#ed7953"
             ],
             [
              0.7777777777777778,
              "#fb9f3a"
             ],
             [
              0.8888888888888888,
              "#fdca26"
             ],
             [
              1,
              "#f0f921"
             ]
            ],
            "type": "surface"
           }
          ],
          "table": [
           {
            "cells": {
             "fill": {
              "color": "#EBF0F8"
             },
             "line": {
              "color": "white"
             }
            },
            "header": {
             "fill": {
              "color": "#C8D4E3"
             },
             "line": {
              "color": "white"
             }
            },
            "type": "table"
           }
          ]
         },
         "layout": {
          "annotationdefaults": {
           "arrowcolor": "#2a3f5f",
           "arrowhead": 0,
           "arrowwidth": 1
          },
          "autotypenumbers": "strict",
          "coloraxis": {
           "colorbar": {
            "outlinewidth": 0,
            "ticks": ""
           }
          },
          "colorscale": {
           "diverging": [
            [
             0,
             "#8e0152"
            ],
            [
             0.1,
             "#c51b7d"
            ],
            [
             0.2,
             "#de77ae"
            ],
            [
             0.3,
             "#f1b6da"
            ],
            [
             0.4,
             "#fde0ef"
            ],
            [
             0.5,
             "#f7f7f7"
            ],
            [
             0.6,
             "#e6f5d0"
            ],
            [
             0.7,
             "#b8e186"
            ],
            [
             0.8,
             "#7fbc41"
            ],
            [
             0.9,
             "#4d9221"
            ],
            [
             1,
             "#276419"
            ]
           ],
           "sequential": [
            [
             0,
             "#0d0887"
            ],
            [
             0.1111111111111111,
             "#46039f"
            ],
            [
             0.2222222222222222,
             "#7201a8"
            ],
            [
             0.3333333333333333,
             "#9c179e"
            ],
            [
             0.4444444444444444,
             "#bd3786"
            ],
            [
             0.5555555555555556,
             "#d8576b"
            ],
            [
             0.6666666666666666,
             "#ed7953"
            ],
            [
             0.7777777777777778,
             "#fb9f3a"
            ],
            [
             0.8888888888888888,
             "#fdca26"
            ],
            [
             1,
             "#f0f921"
            ]
           ],
           "sequentialminus": [
            [
             0,
             "#0d0887"
            ],
            [
             0.1111111111111111,
             "#46039f"
            ],
            [
             0.2222222222222222,
             "#7201a8"
            ],
            [
             0.3333333333333333,
             "#9c179e"
            ],
            [
             0.4444444444444444,
             "#bd3786"
            ],
            [
             0.5555555555555556,
             "#d8576b"
            ],
            [
             0.6666666666666666,
             "#ed7953"
            ],
            [
             0.7777777777777778,
             "#fb9f3a"
            ],
            [
             0.8888888888888888,
             "#fdca26"
            ],
            [
             1,
             "#f0f921"
            ]
           ]
          },
          "colorway": [
           "#636efa",
           "#EF553B",
           "#00cc96",
           "#ab63fa",
           "#FFA15A",
           "#19d3f3",
           "#FF6692",
           "#B6E880",
           "#FF97FF",
           "#FECB52"
          ],
          "font": {
           "color": "#2a3f5f"
          },
          "geo": {
           "bgcolor": "white",
           "lakecolor": "white",
           "landcolor": "white",
           "showlakes": true,
           "showland": true,
           "subunitcolor": "#C8D4E3"
          },
          "hoverlabel": {
           "align": "left"
          },
          "hovermode": "closest",
          "mapbox": {
           "style": "light"
          },
          "paper_bgcolor": "white",
          "plot_bgcolor": "white",
          "polar": {
           "angularaxis": {
            "gridcolor": "#EBF0F8",
            "linecolor": "#EBF0F8",
            "ticks": ""
           },
           "bgcolor": "white",
           "radialaxis": {
            "gridcolor": "#EBF0F8",
            "linecolor": "#EBF0F8",
            "ticks": ""
           }
          },
          "scene": {
           "xaxis": {
            "backgroundcolor": "white",
            "gridcolor": "#DFE8F3",
            "gridwidth": 2,
            "linecolor": "#EBF0F8",
            "showbackground": true,
            "ticks": "",
            "zerolinecolor": "#EBF0F8"
           },
           "yaxis": {
            "backgroundcolor": "white",
            "gridcolor": "#DFE8F3",
            "gridwidth": 2,
            "linecolor": "#EBF0F8",
            "showbackground": true,
            "ticks": "",
            "zerolinecolor": "#EBF0F8"
           },
           "zaxis": {
            "backgroundcolor": "white",
            "gridcolor": "#DFE8F3",
            "gridwidth": 2,
            "linecolor": "#EBF0F8",
            "showbackground": true,
            "ticks": "",
            "zerolinecolor": "#EBF0F8"
           }
          },
          "shapedefaults": {
           "line": {
            "color": "#2a3f5f"
           }
          },
          "ternary": {
           "aaxis": {
            "gridcolor": "#DFE8F3",
            "linecolor": "#A2B1C6",
            "ticks": ""
           },
           "baxis": {
            "gridcolor": "#DFE8F3",
            "linecolor": "#A2B1C6",
            "ticks": ""
           },
           "bgcolor": "white",
           "caxis": {
            "gridcolor": "#DFE8F3",
            "linecolor": "#A2B1C6",
            "ticks": ""
           }
          },
          "title": {
           "x": 0.05
          },
          "xaxis": {
           "automargin": true,
           "gridcolor": "#EBF0F8",
           "linecolor": "#EBF0F8",
           "ticks": "",
           "title": {
            "standoff": 15
           },
           "zerolinecolor": "#EBF0F8",
           "zerolinewidth": 2
          },
          "yaxis": {
           "automargin": true,
           "gridcolor": "#EBF0F8",
           "linecolor": "#EBF0F8",
           "ticks": "",
           "title": {
            "standoff": 15
           },
           "zerolinecolor": "#EBF0F8",
           "zerolinewidth": 2
          }
         }
        },
        "title": {
         "text": "Ventas por Marca - Año Anterior"
        },
        "uniformtext": {
         "minsize": 8,
         "mode": "hide"
        },
        "xaxis": {
         "anchor": "y",
         "domain": [
          0,
          1
         ],
         "title": {
          "text": "Ventas (COP)"
         }
        },
        "yaxis": {
         "anchor": "x",
         "categoryorder": "total ascending",
         "domain": [
          0,
          1
         ],
         "title": {
          "text": "Marca"
         }
        }
       }
      }
     },
     "metadata": {},
     "output_type": "display_data"
    }
   ],
   "source": [
    "fig = px.bar(\n",
    "    ventas_por_marca_sorted,\n",
    "    x='venta_cop_año_ant',\n",
    "    y='marca',  # Etiquetas por marca en el eje Y\n",
    "    orientation='h',\n",
    "    text='venta_cop_año_ant',  # Mostrar las ventas como texto en las barras\n",
    "    title='Ventas por Marca - Año Anterior',\n",
    "    labels={'venta_cop_año_ant': 'Ventas (COP)', 'marca': 'Marca'},\n",
    ")\n",
    "\n",
    "# Mejoras visuales\n",
    "fig.update_traces(texttemplate='%{text:.2s}', textposition='outside')\n",
    "fig.update_layout(\n",
    "    yaxis={'categoryorder': 'total ascending'},  # Asegura que el orden sea descendente en el eje x\n",
    "    xaxis_title='Ventas (COP)',\n",
    "    yaxis_title='Marca',\n",
    "    uniformtext_minsize=8,\n",
    "    uniformtext_mode='hide',\n",
    "    template='plotly_white',\n",
    "    margin=dict(l=100, r=40, t=60, b=40)\n",
    ")\n",
    "\n",
    "fig.show()"
   ]
  },
  {
   "cell_type": "code",
   "execution_count": 187,
   "metadata": {},
   "outputs": [
    {
     "name": "stdout",
     "output_type": "stream",
     "text": [
      "<class 'pandas.core.frame.DataFrame'>\n",
      "Index: 158822 entries, 0 to 159941\n",
      "Data columns (total 8 columns):\n",
      " #   Column             Non-Null Count   Dtype  \n",
      "---  ------             --------------   -----  \n",
      " 0   mes                158822 non-null  int32  \n",
      " 1   region             158822 non-null  object \n",
      " 2   negocio            158822 non-null  object \n",
      " 3   marca              158822 non-null  object \n",
      " 4   producto           158822 non-null  object \n",
      " 5   codigo_sap         158822 non-null  object \n",
      " 6   venta_cop_año_ant  158822 non-null  float64\n",
      " 7   venta_un_ant       158822 non-null  float64\n",
      "dtypes: float64(2), int32(1), object(5)\n",
      "memory usage: 10.3+ MB\n"
     ]
    }
   ],
   "source": [
    "data_ajustada.info()"
   ]
  },
  {
   "cell_type": "markdown",
   "metadata": {},
   "source": [
    "### revisar margenes de las marcas"
   ]
  },
  {
   "cell_type": "code",
   "execution_count": 22,
   "metadata": {},
   "outputs": [],
   "source": [
    "## funcion para calcular limites de valores atipicos.\n",
    "def valores_atipicos(df,columna):\n",
    "    '''\n",
    "    Permite exlcuir valores atipicos utilizando los quartiles\n",
    "    arg: df: data frame\n",
    "            columna str.  valor de la columna que se desea eliminar atipico\n",
    "    '''\n",
    "    Q1 = df[columna].quantile(0.25)\n",
    "    Q3 = df[columna].quantile(0.75)\n",
    "    IQR = Q3 - Q1\n",
    "    limite_inferior = Q1 - 1.5 * IQR\n",
    "    limite_superior = Q3 + 1.5 * IQR\n",
    "    df = df[(df[columna] >= limite_inferior) & (df[columna] <= limite_superior)]\n",
    "    return df"
   ]
  },
  {
   "cell_type": "code",
   "execution_count": 23,
   "metadata": {},
   "outputs": [],
   "source": [
    "marcas_inciales = set(margen_marca['marca'])"
   ]
  },
  {
   "cell_type": "code",
   "execution_count": 24,
   "metadata": {},
   "outputs": [],
   "source": [
    "marge_bruto_ajus_marcas = valores_atipicos(margen_marca,'margen_real')\n",
    "marcas_resultantes = set(marge_bruto_ajus_marcas['marca'])\n"
   ]
  },
  {
   "cell_type": "code",
   "execution_count": 31,
   "metadata": {},
   "outputs": [
    {
     "data": {
      "text/html": [
       "<div>\n",
       "<style scoped>\n",
       "    .dataframe tbody tr th:only-of-type {\n",
       "        vertical-align: middle;\n",
       "    }\n",
       "\n",
       "    .dataframe tbody tr th {\n",
       "        vertical-align: top;\n",
       "    }\n",
       "\n",
       "    .dataframe thead th {\n",
       "        text-align: right;\n",
       "    }\n",
       "</style>\n",
       "<table border=\"1\" class=\"dataframe\">\n",
       "  <thead>\n",
       "    <tr style=\"text-align: right;\">\n",
       "      <th></th>\n",
       "      <th>margen_real</th>\n",
       "      <th>margen_ppto</th>\n",
       "    </tr>\n",
       "  </thead>\n",
       "  <tbody>\n",
       "    <tr>\n",
       "      <th>count</th>\n",
       "      <td>66.000000</td>\n",
       "      <td>46.000000</td>\n",
       "    </tr>\n",
       "    <tr>\n",
       "      <th>mean</th>\n",
       "      <td>587.899709</td>\n",
       "      <td>41.068297</td>\n",
       "    </tr>\n",
       "    <tr>\n",
       "      <th>std</th>\n",
       "      <td>4285.248493</td>\n",
       "      <td>17.370471</td>\n",
       "    </tr>\n",
       "    <tr>\n",
       "      <th>min</th>\n",
       "      <td>-47.821635</td>\n",
       "      <td>6.336921</td>\n",
       "    </tr>\n",
       "    <tr>\n",
       "      <th>25%</th>\n",
       "      <td>32.475341</td>\n",
       "      <td>33.222109</td>\n",
       "    </tr>\n",
       "    <tr>\n",
       "      <th>50%</th>\n",
       "      <td>42.952196</td>\n",
       "      <td>39.121450</td>\n",
       "    </tr>\n",
       "    <tr>\n",
       "      <th>75%</th>\n",
       "      <td>51.257642</td>\n",
       "      <td>48.105107</td>\n",
       "    </tr>\n",
       "    <tr>\n",
       "      <th>max</th>\n",
       "      <td>34866.666667</td>\n",
       "      <td>100.000000</td>\n",
       "    </tr>\n",
       "  </tbody>\n",
       "</table>\n",
       "</div>"
      ],
      "text/plain": [
       "        margen_real  margen_ppto\n",
       "count     66.000000    46.000000\n",
       "mean     587.899709    41.068297\n",
       "std     4285.248493    17.370471\n",
       "min      -47.821635     6.336921\n",
       "25%       32.475341    33.222109\n",
       "50%       42.952196    39.121450\n",
       "75%       51.257642    48.105107\n",
       "max    34866.666667   100.000000"
      ]
     },
     "execution_count": 31,
     "metadata": {},
     "output_type": "execute_result"
    }
   ],
   "source": [
    "margen_marca.describe()"
   ]
  },
  {
   "cell_type": "code",
   "execution_count": 25,
   "metadata": {},
   "outputs": [
    {
     "data": {
      "text/plain": [
       "{'Atlantic',\n",
       " 'CELSIA',\n",
       " 'Chocolyne',\n",
       " 'Colanta',\n",
       " 'Compañías GN',\n",
       " 'Ecopack',\n",
       " 'Genérico',\n",
       " 'Marca Genérica',\n",
       " 'Nutresa',\n",
       " 'Recreo Noel',\n",
       " 'Redoxon',\n",
       " 'Setas de Cuivá',\n",
       " 'Sin asignar',\n",
       " 'Sorbitos',\n",
       " 'Sura'}"
      ]
     },
     "execution_count": 25,
     "metadata": {},
     "output_type": "execute_result"
    }
   ],
   "source": [
    "## se muestran las marcas que salieron de la medicion por consderarse atipicas en cuanto a sus margenes\n",
    "marcas_inciales.difference(marcas_resultantes)"
   ]
  },
  {
   "cell_type": "code",
   "execution_count": 26,
   "metadata": {},
   "outputs": [
    {
     "data": {
      "application/vnd.plotly.v1+json": {
       "config": {
        "plotlyServerURL": "https://plot.ly"
       },
       "data": [
        {
         "alignmentgroup": "True",
         "boxpoints": "all",
         "hovertemplate": "margen_real=%{y}<extra></extra>",
         "legendgroup": "",
         "marker": {
          "color": "#636efa"
         },
         "name": "",
         "notched": false,
         "offsetgroup": "",
         "orientation": "v",
         "showlegend": false,
         "type": "box",
         "x0": " ",
         "xaxis": "x",
         "y": [
          32.6757975949951,
          33.7887709459592,
          50.4598076526667,
          43.6612359429348,
          43.4547774294202,
          30.3926981462512,
          40.479131895822,
          26.5525399513684,
          52.0850527132043,
          32.4085224991947,
          40.2415852029173,
          33.2445581473026,
          33.5743017040819,
          38.9296860540496,
          23.4524986693777,
          50.8529654985392,
          51.3925347175263,
          43.6362630222508,
          46.1258931167315,
          45.551333403699,
          38.3152647771699,
          46.5509231573183,
          31.4535787364318,
          46.6757629353959,
          49.7705337374907,
          52.0687835346369,
          12.6160933465626,
          40.0586315029708,
          64.9962098668624,
          33.9511467099162,
          24.0791620666094,
          48.9845028056763,
          45.3081858919196,
          35.1325217174344,
          38.9623530840905,
          35.6438282705344,
          34.3187997523106,
          46.8190156089035,
          39.9171777816994,
          22.7116528844705,
          42.4496151736798,
          10.9726416450343,
          48.8372055403254,
          15.0778724689537,
          20.2672536256929,
          20.5964930483305,
          57.4870054059064,
          15.2439723107532,
          19.8504915632324,
          50.0474397653019,
          48.2373690667112
         ],
         "y0": " ",
         "yaxis": "y"
        }
       ],
       "layout": {
        "boxmode": "group",
        "legend": {
         "tracegroupgap": 0
        },
        "template": {
         "data": {
          "bar": [
           {
            "error_x": {
             "color": "#2a3f5f"
            },
            "error_y": {
             "color": "#2a3f5f"
            },
            "marker": {
             "line": {
              "color": "#E5ECF6",
              "width": 0.5
             },
             "pattern": {
              "fillmode": "overlay",
              "size": 10,
              "solidity": 0.2
             }
            },
            "type": "bar"
           }
          ],
          "barpolar": [
           {
            "marker": {
             "line": {
              "color": "#E5ECF6",
              "width": 0.5
             },
             "pattern": {
              "fillmode": "overlay",
              "size": 10,
              "solidity": 0.2
             }
            },
            "type": "barpolar"
           }
          ],
          "carpet": [
           {
            "aaxis": {
             "endlinecolor": "#2a3f5f",
             "gridcolor": "white",
             "linecolor": "white",
             "minorgridcolor": "white",
             "startlinecolor": "#2a3f5f"
            },
            "baxis": {
             "endlinecolor": "#2a3f5f",
             "gridcolor": "white",
             "linecolor": "white",
             "minorgridcolor": "white",
             "startlinecolor": "#2a3f5f"
            },
            "type": "carpet"
           }
          ],
          "choropleth": [
           {
            "colorbar": {
             "outlinewidth": 0,
             "ticks": ""
            },
            "type": "choropleth"
           }
          ],
          "contour": [
           {
            "colorbar": {
             "outlinewidth": 0,
             "ticks": ""
            },
            "colorscale": [
             [
              0,
              "#0d0887"
             ],
             [
              0.1111111111111111,
              "#46039f"
             ],
             [
              0.2222222222222222,
              "#7201a8"
             ],
             [
              0.3333333333333333,
              "#9c179e"
             ],
             [
              0.4444444444444444,
              "#bd3786"
             ],
             [
              0.5555555555555556,
              "#d8576b"
             ],
             [
              0.6666666666666666,
              "#ed7953"
             ],
             [
              0.7777777777777778,
              "#fb9f3a"
             ],
             [
              0.8888888888888888,
              "#fdca26"
             ],
             [
              1,
              "#f0f921"
             ]
            ],
            "type": "contour"
           }
          ],
          "contourcarpet": [
           {
            "colorbar": {
             "outlinewidth": 0,
             "ticks": ""
            },
            "type": "contourcarpet"
           }
          ],
          "heatmap": [
           {
            "colorbar": {
             "outlinewidth": 0,
             "ticks": ""
            },
            "colorscale": [
             [
              0,
              "#0d0887"
             ],
             [
              0.1111111111111111,
              "#46039f"
             ],
             [
              0.2222222222222222,
              "#7201a8"
             ],
             [
              0.3333333333333333,
              "#9c179e"
             ],
             [
              0.4444444444444444,
              "#bd3786"
             ],
             [
              0.5555555555555556,
              "#d8576b"
             ],
             [
              0.6666666666666666,
              "#ed7953"
             ],
             [
              0.7777777777777778,
              "#fb9f3a"
             ],
             [
              0.8888888888888888,
              "#fdca26"
             ],
             [
              1,
              "#f0f921"
             ]
            ],
            "type": "heatmap"
           }
          ],
          "heatmapgl": [
           {
            "colorbar": {
             "outlinewidth": 0,
             "ticks": ""
            },
            "colorscale": [
             [
              0,
              "#0d0887"
             ],
             [
              0.1111111111111111,
              "#46039f"
             ],
             [
              0.2222222222222222,
              "#7201a8"
             ],
             [
              0.3333333333333333,
              "#9c179e"
             ],
             [
              0.4444444444444444,
              "#bd3786"
             ],
             [
              0.5555555555555556,
              "#d8576b"
             ],
             [
              0.6666666666666666,
              "#ed7953"
             ],
             [
              0.7777777777777778,
              "#fb9f3a"
             ],
             [
              0.8888888888888888,
              "#fdca26"
             ],
             [
              1,
              "#f0f921"
             ]
            ],
            "type": "heatmapgl"
           }
          ],
          "histogram": [
           {
            "marker": {
             "pattern": {
              "fillmode": "overlay",
              "size": 10,
              "solidity": 0.2
             }
            },
            "type": "histogram"
           }
          ],
          "histogram2d": [
           {
            "colorbar": {
             "outlinewidth": 0,
             "ticks": ""
            },
            "colorscale": [
             [
              0,
              "#0d0887"
             ],
             [
              0.1111111111111111,
              "#46039f"
             ],
             [
              0.2222222222222222,
              "#7201a8"
             ],
             [
              0.3333333333333333,
              "#9c179e"
             ],
             [
              0.4444444444444444,
              "#bd3786"
             ],
             [
              0.5555555555555556,
              "#d8576b"
             ],
             [
              0.6666666666666666,
              "#ed7953"
             ],
             [
              0.7777777777777778,
              "#fb9f3a"
             ],
             [
              0.8888888888888888,
              "#fdca26"
             ],
             [
              1,
              "#f0f921"
             ]
            ],
            "type": "histogram2d"
           }
          ],
          "histogram2dcontour": [
           {
            "colorbar": {
             "outlinewidth": 0,
             "ticks": ""
            },
            "colorscale": [
             [
              0,
              "#0d0887"
             ],
             [
              0.1111111111111111,
              "#46039f"
             ],
             [
              0.2222222222222222,
              "#7201a8"
             ],
             [
              0.3333333333333333,
              "#9c179e"
             ],
             [
              0.4444444444444444,
              "#bd3786"
             ],
             [
              0.5555555555555556,
              "#d8576b"
             ],
             [
              0.6666666666666666,
              "#ed7953"
             ],
             [
              0.7777777777777778,
              "#fb9f3a"
             ],
             [
              0.8888888888888888,
              "#fdca26"
             ],
             [
              1,
              "#f0f921"
             ]
            ],
            "type": "histogram2dcontour"
           }
          ],
          "mesh3d": [
           {
            "colorbar": {
             "outlinewidth": 0,
             "ticks": ""
            },
            "type": "mesh3d"
           }
          ],
          "parcoords": [
           {
            "line": {
             "colorbar": {
              "outlinewidth": 0,
              "ticks": ""
             }
            },
            "type": "parcoords"
           }
          ],
          "pie": [
           {
            "automargin": true,
            "type": "pie"
           }
          ],
          "scatter": [
           {
            "fillpattern": {
             "fillmode": "overlay",
             "size": 10,
             "solidity": 0.2
            },
            "type": "scatter"
           }
          ],
          "scatter3d": [
           {
            "line": {
             "colorbar": {
              "outlinewidth": 0,
              "ticks": ""
             }
            },
            "marker": {
             "colorbar": {
              "outlinewidth": 0,
              "ticks": ""
             }
            },
            "type": "scatter3d"
           }
          ],
          "scattercarpet": [
           {
            "marker": {
             "colorbar": {
              "outlinewidth": 0,
              "ticks": ""
             }
            },
            "type": "scattercarpet"
           }
          ],
          "scattergeo": [
           {
            "marker": {
             "colorbar": {
              "outlinewidth": 0,
              "ticks": ""
             }
            },
            "type": "scattergeo"
           }
          ],
          "scattergl": [
           {
            "marker": {
             "colorbar": {
              "outlinewidth": 0,
              "ticks": ""
             }
            },
            "type": "scattergl"
           }
          ],
          "scattermapbox": [
           {
            "marker": {
             "colorbar": {
              "outlinewidth": 0,
              "ticks": ""
             }
            },
            "type": "scattermapbox"
           }
          ],
          "scatterpolar": [
           {
            "marker": {
             "colorbar": {
              "outlinewidth": 0,
              "ticks": ""
             }
            },
            "type": "scatterpolar"
           }
          ],
          "scatterpolargl": [
           {
            "marker": {
             "colorbar": {
              "outlinewidth": 0,
              "ticks": ""
             }
            },
            "type": "scatterpolargl"
           }
          ],
          "scatterternary": [
           {
            "marker": {
             "colorbar": {
              "outlinewidth": 0,
              "ticks": ""
             }
            },
            "type": "scatterternary"
           }
          ],
          "surface": [
           {
            "colorbar": {
             "outlinewidth": 0,
             "ticks": ""
            },
            "colorscale": [
             [
              0,
              "#0d0887"
             ],
             [
              0.1111111111111111,
              "#46039f"
             ],
             [
              0.2222222222222222,
              "#7201a8"
             ],
             [
              0.3333333333333333,
              "#9c179e"
             ],
             [
              0.4444444444444444,
              "#bd3786"
             ],
             [
              0.5555555555555556,
              "#d8576b"
             ],
             [
              0.6666666666666666,
              "#ed7953"
             ],
             [
              0.7777777777777778,
              "#fb9f3a"
             ],
             [
              0.8888888888888888,
              "#fdca26"
             ],
             [
              1,
              "#f0f921"
             ]
            ],
            "type": "surface"
           }
          ],
          "table": [
           {
            "cells": {
             "fill": {
              "color": "#EBF0F8"
             },
             "line": {
              "color": "white"
             }
            },
            "header": {
             "fill": {
              "color": "#C8D4E3"
             },
             "line": {
              "color": "white"
             }
            },
            "type": "table"
           }
          ]
         },
         "layout": {
          "annotationdefaults": {
           "arrowcolor": "#2a3f5f",
           "arrowhead": 0,
           "arrowwidth": 1
          },
          "autotypenumbers": "strict",
          "coloraxis": {
           "colorbar": {
            "outlinewidth": 0,
            "ticks": ""
           }
          },
          "colorscale": {
           "diverging": [
            [
             0,
             "#8e0152"
            ],
            [
             0.1,
             "#c51b7d"
            ],
            [
             0.2,
             "#de77ae"
            ],
            [
             0.3,
             "#f1b6da"
            ],
            [
             0.4,
             "#fde0ef"
            ],
            [
             0.5,
             "#f7f7f7"
            ],
            [
             0.6,
             "#e6f5d0"
            ],
            [
             0.7,
             "#b8e186"
            ],
            [
             0.8,
             "#7fbc41"
            ],
            [
             0.9,
             "#4d9221"
            ],
            [
             1,
             "#276419"
            ]
           ],
           "sequential": [
            [
             0,
             "#0d0887"
            ],
            [
             0.1111111111111111,
             "#46039f"
            ],
            [
             0.2222222222222222,
             "#7201a8"
            ],
            [
             0.3333333333333333,
             "#9c179e"
            ],
            [
             0.4444444444444444,
             "#bd3786"
            ],
            [
             0.5555555555555556,
             "#d8576b"
            ],
            [
             0.6666666666666666,
             "#ed7953"
            ],
            [
             0.7777777777777778,
             "#fb9f3a"
            ],
            [
             0.8888888888888888,
             "#fdca26"
            ],
            [
             1,
             "#f0f921"
            ]
           ],
           "sequentialminus": [
            [
             0,
             "#0d0887"
            ],
            [
             0.1111111111111111,
             "#46039f"
            ],
            [
             0.2222222222222222,
             "#7201a8"
            ],
            [
             0.3333333333333333,
             "#9c179e"
            ],
            [
             0.4444444444444444,
             "#bd3786"
            ],
            [
             0.5555555555555556,
             "#d8576b"
            ],
            [
             0.6666666666666666,
             "#ed7953"
            ],
            [
             0.7777777777777778,
             "#fb9f3a"
            ],
            [
             0.8888888888888888,
             "#fdca26"
            ],
            [
             1,
             "#f0f921"
            ]
           ]
          },
          "colorway": [
           "#636efa",
           "#EF553B",
           "#00cc96",
           "#ab63fa",
           "#FFA15A",
           "#19d3f3",
           "#FF6692",
           "#B6E880",
           "#FF97FF",
           "#FECB52"
          ],
          "font": {
           "color": "#2a3f5f"
          },
          "geo": {
           "bgcolor": "white",
           "lakecolor": "white",
           "landcolor": "#E5ECF6",
           "showlakes": true,
           "showland": true,
           "subunitcolor": "white"
          },
          "hoverlabel": {
           "align": "left"
          },
          "hovermode": "closest",
          "mapbox": {
           "style": "light"
          },
          "paper_bgcolor": "white",
          "plot_bgcolor": "#E5ECF6",
          "polar": {
           "angularaxis": {
            "gridcolor": "white",
            "linecolor": "white",
            "ticks": ""
           },
           "bgcolor": "#E5ECF6",
           "radialaxis": {
            "gridcolor": "white",
            "linecolor": "white",
            "ticks": ""
           }
          },
          "scene": {
           "xaxis": {
            "backgroundcolor": "#E5ECF6",
            "gridcolor": "white",
            "gridwidth": 2,
            "linecolor": "white",
            "showbackground": true,
            "ticks": "",
            "zerolinecolor": "white"
           },
           "yaxis": {
            "backgroundcolor": "#E5ECF6",
            "gridcolor": "white",
            "gridwidth": 2,
            "linecolor": "white",
            "showbackground": true,
            "ticks": "",
            "zerolinecolor": "white"
           },
           "zaxis": {
            "backgroundcolor": "#E5ECF6",
            "gridcolor": "white",
            "gridwidth": 2,
            "linecolor": "white",
            "showbackground": true,
            "ticks": "",
            "zerolinecolor": "white"
           }
          },
          "shapedefaults": {
           "line": {
            "color": "#2a3f5f"
           }
          },
          "ternary": {
           "aaxis": {
            "gridcolor": "white",
            "linecolor": "white",
            "ticks": ""
           },
           "baxis": {
            "gridcolor": "white",
            "linecolor": "white",
            "ticks": ""
           },
           "bgcolor": "#E5ECF6",
           "caxis": {
            "gridcolor": "white",
            "linecolor": "white",
            "ticks": ""
           }
          },
          "title": {
           "x": 0.05
          },
          "xaxis": {
           "automargin": true,
           "gridcolor": "white",
           "linecolor": "white",
           "ticks": "",
           "title": {
            "standoff": 15
           },
           "zerolinecolor": "white",
           "zerolinewidth": 2
          },
          "yaxis": {
           "automargin": true,
           "gridcolor": "white",
           "linecolor": "white",
           "ticks": "",
           "title": {
            "standoff": 15
           },
           "zerolinecolor": "white",
           "zerolinewidth": 2
          }
         }
        },
        "title": {
         "text": "Distribución del margen (sin outliers)"
        },
        "xaxis": {
         "anchor": "y",
         "domain": [
          0,
          1
         ]
        },
        "yaxis": {
         "anchor": "x",
         "domain": [
          0,
          1
         ],
         "title": {
          "text": "margen_real"
         }
        }
       }
      }
     },
     "metadata": {},
     "output_type": "display_data"
    }
   ],
   "source": [
    "fig = px.box(marge_bruto_ajus_marcas,             \n",
    "             y = 'margen_real',points=\"all\", title=\"Distribución del margen (sin outliers)\",\n",
    "             labels={\"margen\": \"Margen financiero\"})\n",
    "fig.show()"
   ]
  },
  {
   "cell_type": "code",
   "execution_count": 27,
   "metadata": {},
   "outputs": [
    {
     "name": "stderr",
     "output_type": "stream",
     "text": [
      "C:\\Users\\COscaro\\AppData\\Local\\Temp\\ipykernel_8372\\1462690053.py:1: SettingWithCopyWarning:\n",
      "\n",
      "\n",
      "A value is trying to be set on a copy of a slice from a DataFrame.\n",
      "Try using .loc[row_indexer,col_indexer] = value instead\n",
      "\n",
      "See the caveats in the documentation: https://pandas.pydata.org/pandas-docs/stable/user_guide/indexing.html#returning-a-view-versus-a-copy\n",
      "\n"
     ]
    }
   ],
   "source": [
    "marge_bruto_ajus_marcas['margen_real_label'] = marge_bruto_ajus_marcas['margen_real'].round(2)\n",
    "marge_bruto_ajus_marcas = marge_bruto_ajus_marcas.sort_values(by='margen_real_label',ascending=False)"
   ]
  },
  {
   "cell_type": "code",
   "execution_count": 32,
   "metadata": {},
   "outputs": [
    {
     "data": {
      "application/vnd.plotly.v1+json": {
       "config": {
        "plotlyServerURL": "https://plot.ly"
       },
       "data": [
        {
         "alignmentgroup": "True",
         "hovertemplate": "marca=%{y}<br>margen_real_label=%{text}<extra></extra>",
         "legendgroup": "Santander",
         "marker": {
          "color": "#636efa",
          "pattern": {
           "shape": ""
          }
         },
         "name": "Santander",
         "offsetgroup": "Santander",
         "orientation": "h",
         "showlegend": true,
         "text": [
          65
         ],
         "textposition": "outside",
         "type": "bar",
         "x": [
          65
         ],
         "xaxis": "x",
         "y": [
          "Santander"
         ],
         "yaxis": "y"
        },
        {
         "alignmentgroup": "True",
         "hovertemplate": "marca=%{y}<br>margen_real_label=%{text}<extra></extra>",
         "legendgroup": "Haka",
         "marker": {
          "color": "#EF553B",
          "pattern": {
           "shape": ""
          }
         },
         "name": "Haka",
         "offsetgroup": "Haka",
         "orientation": "h",
         "showlegend": true,
         "text": [
          57.49
         ],
         "textposition": "outside",
         "type": "bar",
         "x": [
          57.49
         ],
         "xaxis": "x",
         "y": [
          "Haka"
         ],
         "yaxis": "y"
        },
        {
         "alignmentgroup": "True",
         "hovertemplate": "marca=%{y}<br>margen_real_label=%{text}<extra></extra>",
         "legendgroup": "Chocolisto",
         "marker": {
          "color": "#00cc96",
          "pattern": {
           "shape": ""
          }
         },
         "name": "Chocolisto",
         "offsetgroup": "Chocolisto",
         "orientation": "h",
         "showlegend": true,
         "text": [
          52.09
         ],
         "textposition": "outside",
         "type": "bar",
         "x": [
          52.09
         ],
         "xaxis": "x",
         "y": [
          "Chocolisto"
         ],
         "yaxis": "y"
        },
        {
         "alignmentgroup": "True",
         "hovertemplate": "marca=%{y}<br>margen_real_label=%{text}<extra></extra>",
         "legendgroup": "Monticello",
         "marker": {
          "color": "#ab63fa",
          "pattern": {
           "shape": ""
          }
         },
         "name": "Monticello",
         "offsetgroup": "Monticello",
         "orientation": "h",
         "showlegend": true,
         "text": [
          52.07
         ],
         "textposition": "outside",
         "type": "bar",
         "x": [
          52.07
         ],
         "xaxis": "x",
         "y": [
          "Monticello"
         ],
         "yaxis": "y"
        },
        {
         "alignmentgroup": "True",
         "hovertemplate": "marca=%{y}<br>margen_real_label=%{text}<extra></extra>",
         "legendgroup": "Ducales",
         "marker": {
          "color": "#FFA15A",
          "pattern": {
           "shape": ""
          }
         },
         "name": "Ducales",
         "offsetgroup": "Ducales",
         "orientation": "h",
         "showlegend": true,
         "text": [
          51.39
         ],
         "textposition": "outside",
         "type": "bar",
         "x": [
          51.39
         ],
         "xaxis": "x",
         "y": [
          "Ducales"
         ],
         "yaxis": "y"
        },
        {
         "alignmentgroup": "True",
         "hovertemplate": "marca=%{y}<br>margen_real_label=%{text}<extra></extra>",
         "legendgroup": "Doria",
         "marker": {
          "color": "#19d3f3",
          "pattern": {
           "shape": ""
          }
         },
         "name": "Doria",
         "offsetgroup": "Doria",
         "orientation": "h",
         "showlegend": true,
         "text": [
          50.85
         ],
         "textposition": "outside",
         "type": "bar",
         "x": [
          50.85
         ],
         "xaxis": "x",
         "y": [
          "Doria"
         ],
         "yaxis": "y"
        },
        {
         "alignmentgroup": "True",
         "hovertemplate": "marca=%{y}<br>margen_real_label=%{text}<extra></extra>",
         "legendgroup": "Pietrán",
         "marker": {
          "color": "#FF6692",
          "pattern": {
           "shape": ""
          }
         },
         "name": "Pietrán",
         "offsetgroup": "Pietrán",
         "orientation": "h",
         "showlegend": true,
         "text": [
          50.46
         ],
         "textposition": "outside",
         "type": "bar",
         "x": [
          50.46
         ],
         "xaxis": "x",
         "y": [
          "Pietrán"
         ],
         "yaxis": "y"
        },
        {
         "alignmentgroup": "True",
         "hovertemplate": "marca=%{y}<br>margen_real_label=%{text}<extra></extra>",
         "legendgroup": "Acid Mantle",
         "marker": {
          "color": "#B6E880",
          "pattern": {
           "shape": ""
          }
         },
         "name": "Acid Mantle",
         "offsetgroup": "Acid Mantle",
         "orientation": "h",
         "showlegend": true,
         "text": [
          50.05
         ],
         "textposition": "outside",
         "type": "bar",
         "x": [
          50.05
         ],
         "xaxis": "x",
         "y": [
          "Acid Mantle"
         ],
         "yaxis": "y"
        },
        {
         "alignmentgroup": "True",
         "hovertemplate": "marca=%{y}<br>margen_real_label=%{text}<extra></extra>",
         "legendgroup": "MontBlanc",
         "marker": {
          "color": "#FF97FF",
          "pattern": {
           "shape": ""
          }
         },
         "name": "MontBlanc",
         "offsetgroup": "MontBlanc",
         "orientation": "h",
         "showlegend": true,
         "text": [
          49.77
         ],
         "textposition": "outside",
         "type": "bar",
         "x": [
          49.77
         ],
         "xaxis": "x",
         "y": [
          "MontBlanc"
         ],
         "yaxis": "y"
        },
        {
         "alignmentgroup": "True",
         "hovertemplate": "marca=%{y}<br>margen_real_label=%{text}<extra></extra>",
         "legendgroup": "Tikys",
         "marker": {
          "color": "#FECB52",
          "pattern": {
           "shape": ""
          }
         },
         "name": "Tikys",
         "offsetgroup": "Tikys",
         "orientation": "h",
         "showlegend": true,
         "text": [
          48.98
         ],
         "textposition": "outside",
         "type": "bar",
         "x": [
          48.98
         ],
         "xaxis": "x",
         "y": [
          "Tikys"
         ],
         "yaxis": "y"
        },
        {
         "alignmentgroup": "True",
         "hovertemplate": "marca=%{y}<br>margen_real_label=%{text}<extra></extra>",
         "legendgroup": "Naturela",
         "marker": {
          "color": "#636efa",
          "pattern": {
           "shape": ""
          }
         },
         "name": "Naturela",
         "offsetgroup": "Naturela",
         "orientation": "h",
         "showlegend": true,
         "text": [
          48.84
         ],
         "textposition": "outside",
         "type": "bar",
         "x": [
          48.84
         ],
         "xaxis": "x",
         "y": [
          "Naturela"
         ],
         "yaxis": "y"
        },
        {
         "alignmentgroup": "True",
         "hovertemplate": "marca=%{y}<br>margen_real_label=%{text}<extra></extra>",
         "legendgroup": "Lyne",
         "marker": {
          "color": "#EF553B",
          "pattern": {
           "shape": ""
          }
         },
         "name": "Lyne",
         "offsetgroup": "Lyne",
         "orientation": "h",
         "showlegend": true,
         "text": [
          48.24
         ],
         "textposition": "outside",
         "type": "bar",
         "x": [
          48.24
         ],
         "xaxis": "x",
         "y": [
          "Lyne"
         ],
         "yaxis": "y"
        },
        {
         "alignmentgroup": "True",
         "hovertemplate": "marca=%{y}<br>margen_real_label=%{text}<extra></extra>",
         "legendgroup": "Evok",
         "marker": {
          "color": "#00cc96",
          "pattern": {
           "shape": ""
          }
         },
         "name": "Evok",
         "offsetgroup": "Evok",
         "orientation": "h",
         "showlegend": true,
         "text": [
          46.82
         ],
         "textposition": "outside",
         "type": "bar",
         "x": [
          46.82
         ],
         "xaxis": "x",
         "y": [
          "Evok"
         ],
         "yaxis": "y"
        },
        {
         "alignmentgroup": "True",
         "hovertemplate": "marca=%{y}<br>margen_real_label=%{text}<extra></extra>",
         "legendgroup": "La Especial",
         "marker": {
          "color": "#ab63fa",
          "pattern": {
           "shape": ""
          }
         },
         "name": "La Especial",
         "offsetgroup": "La Especial",
         "orientation": "h",
         "showlegend": true,
         "text": [
          46.68
         ],
         "textposition": "outside",
         "type": "bar",
         "x": [
          46.68
         ],
         "xaxis": "x",
         "y": [
          "La Especial"
         ],
         "yaxis": "y"
        },
        {
         "alignmentgroup": "True",
         "hovertemplate": "marca=%{y}<br>margen_real_label=%{text}<extra></extra>",
         "legendgroup": "Jumbo",
         "marker": {
          "color": "#FFA15A",
          "pattern": {
           "shape": ""
          }
         },
         "name": "Jumbo",
         "offsetgroup": "Jumbo",
         "orientation": "h",
         "showlegend": true,
         "text": [
          46.55
         ],
         "textposition": "outside",
         "type": "bar",
         "x": [
          46.55
         ],
         "xaxis": "x",
         "y": [
          "Jumbo"
         ],
         "yaxis": "y"
        },
        {
         "alignmentgroup": "True",
         "hovertemplate": "marca=%{y}<br>margen_real_label=%{text}<extra></extra>",
         "legendgroup": "Festival",
         "marker": {
          "color": "#19d3f3",
          "pattern": {
           "shape": ""
          }
         },
         "name": "Festival",
         "offsetgroup": "Festival",
         "orientation": "h",
         "showlegend": true,
         "text": [
          46.13
         ],
         "textposition": "outside",
         "type": "bar",
         "x": [
          46.13
         ],
         "xaxis": "x",
         "y": [
          "Festival"
         ],
         "yaxis": "y"
        },
        {
         "alignmentgroup": "True",
         "hovertemplate": "marca=%{y}<br>margen_real_label=%{text}<extra></extra>",
         "legendgroup": "Gol",
         "marker": {
          "color": "#FF6692",
          "pattern": {
           "shape": ""
          }
         },
         "name": "Gol",
         "offsetgroup": "Gol",
         "orientation": "h",
         "showlegend": true,
         "text": [
          45.55
         ],
         "textposition": "outside",
         "type": "bar",
         "x": [
          45.55
         ],
         "xaxis": "x",
         "y": [
          "Gol"
         ],
         "yaxis": "y"
        },
        {
         "alignmentgroup": "True",
         "hovertemplate": "marca=%{y}<br>margen_real_label=%{text}<extra></extra>",
         "legendgroup": "Tosh",
         "marker": {
          "color": "#B6E880",
          "pattern": {
           "shape": ""
          }
         },
         "name": "Tosh",
         "offsetgroup": "Tosh",
         "orientation": "h",
         "showlegend": true,
         "text": [
          45.31
         ],
         "textposition": "outside",
         "type": "bar",
         "x": [
          45.31
         ],
         "xaxis": "x",
         "y": [
          "Tosh"
         ],
         "yaxis": "y"
        },
        {
         "alignmentgroup": "True",
         "hovertemplate": "marca=%{y}<br>margen_real_label=%{text}<extra></extra>",
         "legendgroup": "Ranchera",
         "marker": {
          "color": "#FF97FF",
          "pattern": {
           "shape": ""
          }
         },
         "name": "Ranchera",
         "offsetgroup": "Ranchera",
         "orientation": "h",
         "showlegend": true,
         "text": [
          43.66
         ],
         "textposition": "outside",
         "type": "bar",
         "x": [
          43.66
         ],
         "xaxis": "x",
         "y": [
          "Ranchera"
         ],
         "yaxis": "y"
        },
        {
         "alignmentgroup": "True",
         "hovertemplate": "marca=%{y}<br>margen_real_label=%{text}<extra></extra>",
         "legendgroup": "Dux",
         "marker": {
          "color": "#FECB52",
          "pattern": {
           "shape": ""
          }
         },
         "name": "Dux",
         "offsetgroup": "Dux",
         "orientation": "h",
         "showlegend": true,
         "text": [
          43.64
         ],
         "textposition": "outside",
         "type": "bar",
         "x": [
          43.64
         ],
         "xaxis": "x",
         "y": [
          "Dux"
         ],
         "yaxis": "y"
        },
        {
         "alignmentgroup": "True",
         "hovertemplate": "marca=%{y}<br>margen_real_label=%{text}<extra></extra>",
         "legendgroup": "Aro",
         "marker": {
          "color": "#636efa",
          "pattern": {
           "shape": ""
          }
         },
         "name": "Aro",
         "offsetgroup": "Aro",
         "orientation": "h",
         "showlegend": true,
         "text": [
          43.45
         ],
         "textposition": "outside",
         "type": "bar",
         "x": [
          43.45
         ],
         "xaxis": "x",
         "y": [
          "Aro"
         ],
         "yaxis": "y"
        },
        {
         "alignmentgroup": "True",
         "hovertemplate": "marca=%{y}<br>margen_real_label=%{text}<extra></extra>",
         "legendgroup": "Noel",
         "marker": {
          "color": "#EF553B",
          "pattern": {
           "shape": ""
          }
         },
         "name": "Noel",
         "offsetgroup": "Noel",
         "orientation": "h",
         "showlegend": true,
         "text": [
          42.45
         ],
         "textposition": "outside",
         "type": "bar",
         "x": [
          42.45
         ],
         "xaxis": "x",
         "y": [
          "Noel"
         ],
         "yaxis": "y"
        },
        {
         "alignmentgroup": "True",
         "hovertemplate": "marca=%{y}<br>margen_real_label=%{text}<extra></extra>",
         "legendgroup": "Carve",
         "marker": {
          "color": "#00cc96",
          "pattern": {
           "shape": ""
          }
         },
         "name": "Carve",
         "offsetgroup": "Carve",
         "orientation": "h",
         "showlegend": true,
         "text": [
          40.48
         ],
         "textposition": "outside",
         "type": "bar",
         "x": [
          40.48
         ],
         "xaxis": "x",
         "y": [
          "Carve"
         ],
         "yaxis": "y"
        },
        {
         "alignmentgroup": "True",
         "hovertemplate": "marca=%{y}<br>margen_real_label=%{text}<extra></extra>",
         "legendgroup": "Comarrico",
         "marker": {
          "color": "#ab63fa",
          "pattern": {
           "shape": ""
          }
         },
         "name": "Comarrico",
         "offsetgroup": "Comarrico",
         "orientation": "h",
         "showlegend": true,
         "text": [
          40.24
         ],
         "textposition": "outside",
         "type": "bar",
         "x": [
          40.24
         ],
         "xaxis": "x",
         "y": [
          "Comarrico"
         ],
         "yaxis": "y"
        },
        {
         "alignmentgroup": "True",
         "hovertemplate": "marca=%{y}<br>margen_real_label=%{text}<extra></extra>",
         "legendgroup": "Saltin Noel",
         "marker": {
          "color": "#FFA15A",
          "pattern": {
           "shape": ""
          }
         },
         "name": "Saltin Noel",
         "offsetgroup": "Saltin Noel",
         "orientation": "h",
         "showlegend": true,
         "text": [
          40.06
         ],
         "textposition": "outside",
         "type": "bar",
         "x": [
          40.06
         ],
         "xaxis": "x",
         "y": [
          "Saltin Noel"
         ],
         "yaxis": "y"
        },
        {
         "alignmentgroup": "True",
         "hovertemplate": "marca=%{y}<br>margen_real_label=%{text}<extra></extra>",
         "legendgroup": "Bénet",
         "marker": {
          "color": "#19d3f3",
          "pattern": {
           "shape": ""
          }
         },
         "name": "Bénet",
         "offsetgroup": "Bénet",
         "orientation": "h",
         "showlegend": true,
         "text": [
          39.92
         ],
         "textposition": "outside",
         "type": "bar",
         "x": [
          39.92
         ],
         "xaxis": "x",
         "y": [
          "Bénet"
         ],
         "yaxis": "y"
        },
        {
         "alignmentgroup": "True",
         "hovertemplate": "marca=%{y}<br>margen_real_label=%{text}<extra></extra>",
         "legendgroup": "Drácula",
         "marker": {
          "color": "#FF6692",
          "pattern": {
           "shape": ""
          }
         },
         "name": "Drácula",
         "offsetgroup": "Drácula",
         "orientation": "h",
         "showlegend": true,
         "text": [
          38.96
         ],
         "textposition": "outside",
         "type": "bar",
         "x": [
          38.96
         ],
         "xaxis": "x",
         "y": [
          "Drácula"
         ],
         "yaxis": "y"
        },
        {
         "alignmentgroup": "True",
         "hovertemplate": "marca=%{y}<br>margen_real_label=%{text}<extra></extra>",
         "legendgroup": "Corona Harina",
         "marker": {
          "color": "#B6E880",
          "pattern": {
           "shape": ""
          }
         },
         "name": "Corona Harina",
         "offsetgroup": "Corona Harina",
         "orientation": "h",
         "showlegend": true,
         "text": [
          38.93
         ],
         "textposition": "outside",
         "type": "bar",
         "x": [
          38.93
         ],
         "xaxis": "x",
         "y": [
          "Corona Harina"
         ],
         "yaxis": "y"
        },
        {
         "alignmentgroup": "True",
         "hovertemplate": "marca=%{y}<br>margen_real_label=%{text}<extra></extra>",
         "legendgroup": "Jet",
         "marker": {
          "color": "#FF97FF",
          "pattern": {
           "shape": ""
          }
         },
         "name": "Jet",
         "offsetgroup": "Jet",
         "orientation": "h",
         "showlegend": true,
         "text": [
          38.32
         ],
         "textposition": "outside",
         "type": "bar",
         "x": [
          38.32
         ],
         "xaxis": "x",
         "y": [
          "Jet"
         ],
         "yaxis": "y"
        },
        {
         "alignmentgroup": "True",
         "hovertemplate": "marca=%{y}<br>margen_real_label=%{text}<extra></extra>",
         "legendgroup": "Cremino",
         "marker": {
          "color": "#FECB52",
          "pattern": {
           "shape": ""
          }
         },
         "name": "Cremino",
         "offsetgroup": "Cremino",
         "orientation": "h",
         "showlegend": true,
         "text": [
          35.64
         ],
         "textposition": "outside",
         "type": "bar",
         "x": [
          35.64
         ],
         "xaxis": "x",
         "y": [
          "Cremino"
         ],
         "yaxis": "y"
        },
        {
         "alignmentgroup": "True",
         "hovertemplate": "marca=%{y}<br>margen_real_label=%{text}<extra></extra>",
         "legendgroup": "Matiz",
         "marker": {
          "color": "#636efa",
          "pattern": {
           "shape": ""
          }
         },
         "name": "Matiz",
         "offsetgroup": "Matiz",
         "orientation": "h",
         "showlegend": true,
         "text": [
          35.13
         ],
         "textposition": "outside",
         "type": "bar",
         "x": [
          35.13
         ],
         "xaxis": "x",
         "y": [
          "Matiz"
         ],
         "yaxis": "y"
        },
        {
         "alignmentgroup": "True",
         "hovertemplate": "marca=%{y}<br>margen_real_label=%{text}<extra></extra>",
         "legendgroup": "Genérico  otros dist",
         "marker": {
          "color": "#EF553B",
          "pattern": {
           "shape": ""
          }
         },
         "name": "Genérico  otros dist",
         "offsetgroup": "Genérico  otros dist",
         "orientation": "h",
         "showlegend": true,
         "text": [
          34.32
         ],
         "textposition": "outside",
         "type": "bar",
         "x": [
          34.32
         ],
         "xaxis": "x",
         "y": [
          "Genérico  otros dist"
         ],
         "yaxis": "y"
        },
        {
         "alignmentgroup": "True",
         "hovertemplate": "marca=%{y}<br>margen_real_label=%{text}<extra></extra>",
         "legendgroup": "Sello Rojo",
         "marker": {
          "color": "#00cc96",
          "pattern": {
           "shape": ""
          }
         },
         "name": "Sello Rojo",
         "offsetgroup": "Sello Rojo",
         "orientation": "h",
         "showlegend": true,
         "text": [
          33.95
         ],
         "textposition": "outside",
         "type": "bar",
         "x": [
          33.95
         ],
         "xaxis": "x",
         "y": [
          "Sello Rojo"
         ],
         "yaxis": "y"
        },
        {
         "alignmentgroup": "True",
         "hovertemplate": "marca=%{y}<br>margen_real_label=%{text}<extra></extra>",
         "legendgroup": "Rica",
         "marker": {
          "color": "#ab63fa",
          "pattern": {
           "shape": ""
          }
         },
         "name": "Rica",
         "offsetgroup": "Rica",
         "orientation": "h",
         "showlegend": true,
         "text": [
          33.79
         ],
         "textposition": "outside",
         "type": "bar",
         "x": [
          33.79
         ],
         "xaxis": "x",
         "y": [
          "Rica"
         ],
         "yaxis": "y"
        },
        {
         "alignmentgroup": "True",
         "hovertemplate": "marca=%{y}<br>margen_real_label=%{text}<extra></extra>",
         "legendgroup": "Corona",
         "marker": {
          "color": "#FFA15A",
          "pattern": {
           "shape": ""
          }
         },
         "name": "Corona",
         "offsetgroup": "Corona",
         "orientation": "h",
         "showlegend": true,
         "text": [
          33.57
         ],
         "textposition": "outside",
         "type": "bar",
         "x": [
          33.57
         ],
         "xaxis": "x",
         "y": [
          "Corona"
         ],
         "yaxis": "y"
        },
        {
         "alignmentgroup": "True",
         "hovertemplate": "marca=%{y}<br>margen_real_label=%{text}<extra></extra>",
         "legendgroup": "Cordillera",
         "marker": {
          "color": "#19d3f3",
          "pattern": {
           "shape": ""
          }
         },
         "name": "Cordillera",
         "offsetgroup": "Cordillera",
         "orientation": "h",
         "showlegend": true,
         "text": [
          33.24
         ],
         "textposition": "outside",
         "type": "bar",
         "x": [
          33.24
         ],
         "xaxis": "x",
         "y": [
          "Cordillera"
         ],
         "yaxis": "y"
        },
        {
         "alignmentgroup": "True",
         "hovertemplate": "marca=%{y}<br>margen_real_label=%{text}<extra></extra>",
         "legendgroup": "Zenú",
         "marker": {
          "color": "#FF6692",
          "pattern": {
           "shape": ""
          }
         },
         "name": "Zenú",
         "offsetgroup": "Zenú",
         "orientation": "h",
         "showlegend": true,
         "text": [
          32.68
         ],
         "textposition": "outside",
         "type": "bar",
         "x": [
          32.68
         ],
         "xaxis": "x",
         "y": [
          "Zenú"
         ],
         "yaxis": "y"
        },
        {
         "alignmentgroup": "True",
         "hovertemplate": "marca=%{y}<br>margen_real_label=%{text}<extra></extra>",
         "legendgroup": "Colcafé",
         "marker": {
          "color": "#B6E880",
          "pattern": {
           "shape": ""
          }
         },
         "name": "Colcafé",
         "offsetgroup": "Colcafé",
         "orientation": "h",
         "showlegend": true,
         "text": [
          32.41
         ],
         "textposition": "outside",
         "type": "bar",
         "x": [
          32.41
         ],
         "xaxis": "x",
         "y": [
          "Colcafé"
         ],
         "yaxis": "y"
        },
        {
         "alignmentgroup": "True",
         "hovertemplate": "marca=%{y}<br>margen_real_label=%{text}<extra></extra>",
         "legendgroup": "La Bastilla",
         "marker": {
          "color": "#FF97FF",
          "pattern": {
           "shape": ""
          }
         },
         "name": "La Bastilla",
         "offsetgroup": "La Bastilla",
         "orientation": "h",
         "showlegend": true,
         "text": [
          31.45
         ],
         "textposition": "outside",
         "type": "bar",
         "x": [
          31.45
         ],
         "xaxis": "x",
         "y": [
          "La Bastilla"
         ],
         "yaxis": "y"
        },
        {
         "alignmentgroup": "True",
         "hovertemplate": "marca=%{y}<br>margen_real_label=%{text}<extra></extra>",
         "legendgroup": "BastiYá",
         "marker": {
          "color": "#FECB52",
          "pattern": {
           "shape": ""
          }
         },
         "name": "BastiYá",
         "offsetgroup": "BastiYá",
         "orientation": "h",
         "showlegend": true,
         "text": [
          30.39
         ],
         "textposition": "outside",
         "type": "bar",
         "x": [
          30.39
         ],
         "xaxis": "x",
         "y": [
          "BastiYá"
         ],
         "yaxis": "y"
        },
        {
         "alignmentgroup": "True",
         "hovertemplate": "marca=%{y}<br>margen_real_label=%{text}<extra></extra>",
         "legendgroup": "Chocolate La Especia",
         "marker": {
          "color": "#636efa",
          "pattern": {
           "shape": ""
          }
         },
         "name": "Chocolate La Especia",
         "offsetgroup": "Chocolate La Especia",
         "orientation": "h",
         "showlegend": true,
         "text": [
          26.55
         ],
         "textposition": "outside",
         "type": "bar",
         "x": [
          26.55
         ],
         "xaxis": "x",
         "y": [
          "Chocolate La Especia"
         ],
         "yaxis": "y"
        },
        {
         "alignmentgroup": "True",
         "hovertemplate": "marca=%{y}<br>margen_real_label=%{text}<extra></extra>",
         "legendgroup": "Tesalia",
         "marker": {
          "color": "#EF553B",
          "pattern": {
           "shape": ""
          }
         },
         "name": "Tesalia",
         "offsetgroup": "Tesalia",
         "orientation": "h",
         "showlegend": true,
         "text": [
          24.08
         ],
         "textposition": "outside",
         "type": "bar",
         "x": [
          24.08
         ],
         "xaxis": "x",
         "y": [
          "Tesalia"
         ],
         "yaxis": "y"
        },
        {
         "alignmentgroup": "True",
         "hovertemplate": "marca=%{y}<br>margen_real_label=%{text}<extra></extra>",
         "legendgroup": "Cruz",
         "marker": {
          "color": "#00cc96",
          "pattern": {
           "shape": ""
          }
         },
         "name": "Cruz",
         "offsetgroup": "Cruz",
         "orientation": "h",
         "showlegend": true,
         "text": [
          23.45
         ],
         "textposition": "outside",
         "type": "bar",
         "x": [
          23.45
         ],
         "xaxis": "x",
         "y": [
          "Cruz"
         ],
         "yaxis": "y"
        },
        {
         "alignmentgroup": "True",
         "hovertemplate": "marca=%{y}<br>margen_real_label=%{text}<extra></extra>",
         "legendgroup": "Diversa",
         "marker": {
          "color": "#ab63fa",
          "pattern": {
           "shape": ""
          }
         },
         "name": "Diversa",
         "offsetgroup": "Diversa",
         "orientation": "h",
         "showlegend": true,
         "text": [
          22.71
         ],
         "textposition": "outside",
         "type": "bar",
         "x": [
          22.71
         ],
         "xaxis": "x",
         "y": [
          "Diversa"
         ],
         "yaxis": "y"
        },
        {
         "alignmentgroup": "True",
         "hovertemplate": "marca=%{y}<br>margen_real_label=%{text}<extra></extra>",
         "legendgroup": "Duracell",
         "marker": {
          "color": "#FFA15A",
          "pattern": {
           "shape": ""
          }
         },
         "name": "Duracell",
         "offsetgroup": "Duracell",
         "orientation": "h",
         "showlegend": true,
         "text": [
          20.6
         ],
         "textposition": "outside",
         "type": "bar",
         "x": [
          20.6
         ],
         "xaxis": "x",
         "y": [
          "Duracell"
         ],
         "yaxis": "y"
        },
        {
         "alignmentgroup": "True",
         "hovertemplate": "marca=%{y}<br>margen_real_label=%{text}<extra></extra>",
         "legendgroup": "Alka Setzer",
         "marker": {
          "color": "#19d3f3",
          "pattern": {
           "shape": ""
          }
         },
         "name": "Alka Setzer",
         "offsetgroup": "Alka Setzer",
         "orientation": "h",
         "showlegend": true,
         "text": [
          20.27
         ],
         "textposition": "outside",
         "type": "bar",
         "x": [
          20.27
         ],
         "xaxis": "x",
         "y": [
          "Alka Setzer"
         ],
         "yaxis": "y"
        },
        {
         "alignmentgroup": "True",
         "hovertemplate": "marca=%{y}<br>margen_real_label=%{text}<extra></extra>",
         "legendgroup": "Aspirina",
         "marker": {
          "color": "#FF6692",
          "pattern": {
           "shape": ""
          }
         },
         "name": "Aspirina",
         "offsetgroup": "Aspirina",
         "orientation": "h",
         "showlegend": true,
         "text": [
          19.85
         ],
         "textposition": "outside",
         "type": "bar",
         "x": [
          19.85
         ],
         "xaxis": "x",
         "y": [
          "Aspirina"
         ],
         "yaxis": "y"
        },
        {
         "alignmentgroup": "True",
         "hovertemplate": "marca=%{y}<br>margen_real_label=%{text}<extra></extra>",
         "legendgroup": "Apronax",
         "marker": {
          "color": "#B6E880",
          "pattern": {
           "shape": ""
          }
         },
         "name": "Apronax",
         "offsetgroup": "Apronax",
         "orientation": "h",
         "showlegend": true,
         "text": [
          15.24
         ],
         "textposition": "outside",
         "type": "bar",
         "x": [
          15.24
         ],
         "xaxis": "x",
         "y": [
          "Apronax"
         ],
         "yaxis": "y"
        },
        {
         "alignmentgroup": "True",
         "hovertemplate": "marca=%{y}<br>margen_real_label=%{text}<extra></extra>",
         "legendgroup": "Mexsana",
         "marker": {
          "color": "#FF97FF",
          "pattern": {
           "shape": ""
          }
         },
         "name": "Mexsana",
         "offsetgroup": "Mexsana",
         "orientation": "h",
         "showlegend": true,
         "text": [
          15.08
         ],
         "textposition": "outside",
         "type": "bar",
         "x": [
          15.08
         ],
         "xaxis": "x",
         "y": [
          "Mexsana"
         ],
         "yaxis": "y"
        },
        {
         "alignmentgroup": "True",
         "hovertemplate": "marca=%{y}<br>margen_real_label=%{text}<extra></extra>",
         "legendgroup": "Novaventa",
         "marker": {
          "color": "#FECB52",
          "pattern": {
           "shape": ""
          }
         },
         "name": "Novaventa",
         "offsetgroup": "Novaventa",
         "orientation": "h",
         "showlegend": true,
         "text": [
          12.62
         ],
         "textposition": "outside",
         "type": "bar",
         "x": [
          12.62
         ],
         "xaxis": "x",
         "y": [
          "Novaventa"
         ],
         "yaxis": "y"
        },
        {
         "alignmentgroup": "True",
         "hovertemplate": "marca=%{y}<br>margen_real_label=%{text}<extra></extra>",
         "legendgroup": "KIBO",
         "marker": {
          "color": "#636efa",
          "pattern": {
           "shape": ""
          }
         },
         "name": "KIBO",
         "offsetgroup": "KIBO",
         "orientation": "h",
         "showlegend": true,
         "text": [
          10.97
         ],
         "textposition": "outside",
         "type": "bar",
         "x": [
          10.97
         ],
         "xaxis": "x",
         "y": [
          "KIBO"
         ],
         "yaxis": "y"
        }
       ],
       "layout": {
        "barmode": "relative",
        "height": 600,
        "legend": {
         "title": {
          "text": "marca"
         },
         "tracegroupgap": 0
        },
        "margin": {
         "t": 60
        },
        "showlegend": false,
        "template": {
         "data": {
          "bar": [
           {
            "error_x": {
             "color": "#2a3f5f"
            },
            "error_y": {
             "color": "#2a3f5f"
            },
            "marker": {
             "line": {
              "color": "#E5ECF6",
              "width": 0.5
             },
             "pattern": {
              "fillmode": "overlay",
              "size": 10,
              "solidity": 0.2
             }
            },
            "type": "bar"
           }
          ],
          "barpolar": [
           {
            "marker": {
             "line": {
              "color": "#E5ECF6",
              "width": 0.5
             },
             "pattern": {
              "fillmode": "overlay",
              "size": 10,
              "solidity": 0.2
             }
            },
            "type": "barpolar"
           }
          ],
          "carpet": [
           {
            "aaxis": {
             "endlinecolor": "#2a3f5f",
             "gridcolor": "white",
             "linecolor": "white",
             "minorgridcolor": "white",
             "startlinecolor": "#2a3f5f"
            },
            "baxis": {
             "endlinecolor": "#2a3f5f",
             "gridcolor": "white",
             "linecolor": "white",
             "minorgridcolor": "white",
             "startlinecolor": "#2a3f5f"
            },
            "type": "carpet"
           }
          ],
          "choropleth": [
           {
            "colorbar": {
             "outlinewidth": 0,
             "ticks": ""
            },
            "type": "choropleth"
           }
          ],
          "contour": [
           {
            "colorbar": {
             "outlinewidth": 0,
             "ticks": ""
            },
            "colorscale": [
             [
              0,
              "#0d0887"
             ],
             [
              0.1111111111111111,
              "#46039f"
             ],
             [
              0.2222222222222222,
              "#7201a8"
             ],
             [
              0.3333333333333333,
              "#9c179e"
             ],
             [
              0.4444444444444444,
              "#bd3786"
             ],
             [
              0.5555555555555556,
              "#d8576b"
             ],
             [
              0.6666666666666666,
              "#ed7953"
             ],
             [
              0.7777777777777778,
              "#fb9f3a"
             ],
             [
              0.8888888888888888,
              "#fdca26"
             ],
             [
              1,
              "#f0f921"
             ]
            ],
            "type": "contour"
           }
          ],
          "contourcarpet": [
           {
            "colorbar": {
             "outlinewidth": 0,
             "ticks": ""
            },
            "type": "contourcarpet"
           }
          ],
          "heatmap": [
           {
            "colorbar": {
             "outlinewidth": 0,
             "ticks": ""
            },
            "colorscale": [
             [
              0,
              "#0d0887"
             ],
             [
              0.1111111111111111,
              "#46039f"
             ],
             [
              0.2222222222222222,
              "#7201a8"
             ],
             [
              0.3333333333333333,
              "#9c179e"
             ],
             [
              0.4444444444444444,
              "#bd3786"
             ],
             [
              0.5555555555555556,
              "#d8576b"
             ],
             [
              0.6666666666666666,
              "#ed7953"
             ],
             [
              0.7777777777777778,
              "#fb9f3a"
             ],
             [
              0.8888888888888888,
              "#fdca26"
             ],
             [
              1,
              "#f0f921"
             ]
            ],
            "type": "heatmap"
           }
          ],
          "heatmapgl": [
           {
            "colorbar": {
             "outlinewidth": 0,
             "ticks": ""
            },
            "colorscale": [
             [
              0,
              "#0d0887"
             ],
             [
              0.1111111111111111,
              "#46039f"
             ],
             [
              0.2222222222222222,
              "#7201a8"
             ],
             [
              0.3333333333333333,
              "#9c179e"
             ],
             [
              0.4444444444444444,
              "#bd3786"
             ],
             [
              0.5555555555555556,
              "#d8576b"
             ],
             [
              0.6666666666666666,
              "#ed7953"
             ],
             [
              0.7777777777777778,
              "#fb9f3a"
             ],
             [
              0.8888888888888888,
              "#fdca26"
             ],
             [
              1,
              "#f0f921"
             ]
            ],
            "type": "heatmapgl"
           }
          ],
          "histogram": [
           {
            "marker": {
             "pattern": {
              "fillmode": "overlay",
              "size": 10,
              "solidity": 0.2
             }
            },
            "type": "histogram"
           }
          ],
          "histogram2d": [
           {
            "colorbar": {
             "outlinewidth": 0,
             "ticks": ""
            },
            "colorscale": [
             [
              0,
              "#0d0887"
             ],
             [
              0.1111111111111111,
              "#46039f"
             ],
             [
              0.2222222222222222,
              "#7201a8"
             ],
             [
              0.3333333333333333,
              "#9c179e"
             ],
             [
              0.4444444444444444,
              "#bd3786"
             ],
             [
              0.5555555555555556,
              "#d8576b"
             ],
             [
              0.6666666666666666,
              "#ed7953"
             ],
             [
              0.7777777777777778,
              "#fb9f3a"
             ],
             [
              0.8888888888888888,
              "#fdca26"
             ],
             [
              1,
              "#f0f921"
             ]
            ],
            "type": "histogram2d"
           }
          ],
          "histogram2dcontour": [
           {
            "colorbar": {
             "outlinewidth": 0,
             "ticks": ""
            },
            "colorscale": [
             [
              0,
              "#0d0887"
             ],
             [
              0.1111111111111111,
              "#46039f"
             ],
             [
              0.2222222222222222,
              "#7201a8"
             ],
             [
              0.3333333333333333,
              "#9c179e"
             ],
             [
              0.4444444444444444,
              "#bd3786"
             ],
             [
              0.5555555555555556,
              "#d8576b"
             ],
             [
              0.6666666666666666,
              "#ed7953"
             ],
             [
              0.7777777777777778,
              "#fb9f3a"
             ],
             [
              0.8888888888888888,
              "#fdca26"
             ],
             [
              1,
              "#f0f921"
             ]
            ],
            "type": "histogram2dcontour"
           }
          ],
          "mesh3d": [
           {
            "colorbar": {
             "outlinewidth": 0,
             "ticks": ""
            },
            "type": "mesh3d"
           }
          ],
          "parcoords": [
           {
            "line": {
             "colorbar": {
              "outlinewidth": 0,
              "ticks": ""
             }
            },
            "type": "parcoords"
           }
          ],
          "pie": [
           {
            "automargin": true,
            "type": "pie"
           }
          ],
          "scatter": [
           {
            "fillpattern": {
             "fillmode": "overlay",
             "size": 10,
             "solidity": 0.2
            },
            "type": "scatter"
           }
          ],
          "scatter3d": [
           {
            "line": {
             "colorbar": {
              "outlinewidth": 0,
              "ticks": ""
             }
            },
            "marker": {
             "colorbar": {
              "outlinewidth": 0,
              "ticks": ""
             }
            },
            "type": "scatter3d"
           }
          ],
          "scattercarpet": [
           {
            "marker": {
             "colorbar": {
              "outlinewidth": 0,
              "ticks": ""
             }
            },
            "type": "scattercarpet"
           }
          ],
          "scattergeo": [
           {
            "marker": {
             "colorbar": {
              "outlinewidth": 0,
              "ticks": ""
             }
            },
            "type": "scattergeo"
           }
          ],
          "scattergl": [
           {
            "marker": {
             "colorbar": {
              "outlinewidth": 0,
              "ticks": ""
             }
            },
            "type": "scattergl"
           }
          ],
          "scattermapbox": [
           {
            "marker": {
             "colorbar": {
              "outlinewidth": 0,
              "ticks": ""
             }
            },
            "type": "scattermapbox"
           }
          ],
          "scatterpolar": [
           {
            "marker": {
             "colorbar": {
              "outlinewidth": 0,
              "ticks": ""
             }
            },
            "type": "scatterpolar"
           }
          ],
          "scatterpolargl": [
           {
            "marker": {
             "colorbar": {
              "outlinewidth": 0,
              "ticks": ""
             }
            },
            "type": "scatterpolargl"
           }
          ],
          "scatterternary": [
           {
            "marker": {
             "colorbar": {
              "outlinewidth": 0,
              "ticks": ""
             }
            },
            "type": "scatterternary"
           }
          ],
          "surface": [
           {
            "colorbar": {
             "outlinewidth": 0,
             "ticks": ""
            },
            "colorscale": [
             [
              0,
              "#0d0887"
             ],
             [
              0.1111111111111111,
              "#46039f"
             ],
             [
              0.2222222222222222,
              "#7201a8"
             ],
             [
              0.3333333333333333,
              "#9c179e"
             ],
             [
              0.4444444444444444,
              "#bd3786"
             ],
             [
              0.5555555555555556,
              "#d8576b"
             ],
             [
              0.6666666666666666,
              "#ed7953"
             ],
             [
              0.7777777777777778,
              "#fb9f3a"
             ],
             [
              0.8888888888888888,
              "#fdca26"
             ],
             [
              1,
              "#f0f921"
             ]
            ],
            "type": "surface"
           }
          ],
          "table": [
           {
            "cells": {
             "fill": {
              "color": "#EBF0F8"
             },
             "line": {
              "color": "white"
             }
            },
            "header": {
             "fill": {
              "color": "#C8D4E3"
             },
             "line": {
              "color": "white"
             }
            },
            "type": "table"
           }
          ]
         },
         "layout": {
          "annotationdefaults": {
           "arrowcolor": "#2a3f5f",
           "arrowhead": 0,
           "arrowwidth": 1
          },
          "autotypenumbers": "strict",
          "coloraxis": {
           "colorbar": {
            "outlinewidth": 0,
            "ticks": ""
           }
          },
          "colorscale": {
           "diverging": [
            [
             0,
             "#8e0152"
            ],
            [
             0.1,
             "#c51b7d"
            ],
            [
             0.2,
             "#de77ae"
            ],
            [
             0.3,
             "#f1b6da"
            ],
            [
             0.4,
             "#fde0ef"
            ],
            [
             0.5,
             "#f7f7f7"
            ],
            [
             0.6,
             "#e6f5d0"
            ],
            [
             0.7,
             "#b8e186"
            ],
            [
             0.8,
             "#7fbc41"
            ],
            [
             0.9,
             "#4d9221"
            ],
            [
             1,
             "#276419"
            ]
           ],
           "sequential": [
            [
             0,
             "#0d0887"
            ],
            [
             0.1111111111111111,
             "#46039f"
            ],
            [
             0.2222222222222222,
             "#7201a8"
            ],
            [
             0.3333333333333333,
             "#9c179e"
            ],
            [
             0.4444444444444444,
             "#bd3786"
            ],
            [
             0.5555555555555556,
             "#d8576b"
            ],
            [
             0.6666666666666666,
             "#ed7953"
            ],
            [
             0.7777777777777778,
             "#fb9f3a"
            ],
            [
             0.8888888888888888,
             "#fdca26"
            ],
            [
             1,
             "#f0f921"
            ]
           ],
           "sequentialminus": [
            [
             0,
             "#0d0887"
            ],
            [
             0.1111111111111111,
             "#46039f"
            ],
            [
             0.2222222222222222,
             "#7201a8"
            ],
            [
             0.3333333333333333,
             "#9c179e"
            ],
            [
             0.4444444444444444,
             "#bd3786"
            ],
            [
             0.5555555555555556,
             "#d8576b"
            ],
            [
             0.6666666666666666,
             "#ed7953"
            ],
            [
             0.7777777777777778,
             "#fb9f3a"
            ],
            [
             0.8888888888888888,
             "#fdca26"
            ],
            [
             1,
             "#f0f921"
            ]
           ]
          },
          "colorway": [
           "#636efa",
           "#EF553B",
           "#00cc96",
           "#ab63fa",
           "#FFA15A",
           "#19d3f3",
           "#FF6692",
           "#B6E880",
           "#FF97FF",
           "#FECB52"
          ],
          "font": {
           "color": "#2a3f5f"
          },
          "geo": {
           "bgcolor": "white",
           "lakecolor": "white",
           "landcolor": "#E5ECF6",
           "showlakes": true,
           "showland": true,
           "subunitcolor": "white"
          },
          "hoverlabel": {
           "align": "left"
          },
          "hovermode": "closest",
          "mapbox": {
           "style": "light"
          },
          "paper_bgcolor": "white",
          "plot_bgcolor": "#E5ECF6",
          "polar": {
           "angularaxis": {
            "gridcolor": "white",
            "linecolor": "white",
            "ticks": ""
           },
           "bgcolor": "#E5ECF6",
           "radialaxis": {
            "gridcolor": "white",
            "linecolor": "white",
            "ticks": ""
           }
          },
          "scene": {
           "xaxis": {
            "backgroundcolor": "#E5ECF6",
            "gridcolor": "white",
            "gridwidth": 2,
            "linecolor": "white",
            "showbackground": true,
            "ticks": "",
            "zerolinecolor": "white"
           },
           "yaxis": {
            "backgroundcolor": "#E5ECF6",
            "gridcolor": "white",
            "gridwidth": 2,
            "linecolor": "white",
            "showbackground": true,
            "ticks": "",
            "zerolinecolor": "white"
           },
           "zaxis": {
            "backgroundcolor": "#E5ECF6",
            "gridcolor": "white",
            "gridwidth": 2,
            "linecolor": "white",
            "showbackground": true,
            "ticks": "",
            "zerolinecolor": "white"
           }
          },
          "shapedefaults": {
           "line": {
            "color": "#2a3f5f"
           }
          },
          "ternary": {
           "aaxis": {
            "gridcolor": "white",
            "linecolor": "white",
            "ticks": ""
           },
           "baxis": {
            "gridcolor": "white",
            "linecolor": "white",
            "ticks": ""
           },
           "bgcolor": "#E5ECF6",
           "caxis": {
            "gridcolor": "white",
            "linecolor": "white",
            "ticks": ""
           }
          },
          "title": {
           "x": 0.05
          },
          "xaxis": {
           "automargin": true,
           "gridcolor": "white",
           "linecolor": "white",
           "ticks": "",
           "title": {
            "standoff": 15
           },
           "zerolinecolor": "white",
           "zerolinewidth": 2
          },
          "yaxis": {
           "automargin": true,
           "gridcolor": "white",
           "linecolor": "white",
           "ticks": "",
           "title": {
            "standoff": 15
           },
           "zerolinecolor": "white",
           "zerolinewidth": 2
          }
         }
        },
        "title": {
         "text": "Margen por marca"
        },
        "uniformtext": {
         "minsize": 8,
         "mode": "hide"
        },
        "xaxis": {
         "anchor": "y",
         "domain": [
          0,
          1
         ],
         "title": {
          "text": "Margen Real"
         }
        },
        "yaxis": {
         "anchor": "x",
         "categoryarray": [
          "KIBO",
          "Novaventa",
          "Mexsana",
          "Apronax",
          "Aspirina",
          "Alka Setzer",
          "Duracell",
          "Diversa",
          "Cruz",
          "Tesalia",
          "Chocolate La Especia",
          "BastiYá",
          "La Bastilla",
          "Colcafé",
          "Zenú",
          "Cordillera",
          "Corona",
          "Rica",
          "Sello Rojo",
          "Genérico  otros dist",
          "Matiz",
          "Cremino",
          "Jet",
          "Corona Harina",
          "Drácula",
          "Bénet",
          "Saltin Noel",
          "Comarrico",
          "Carve",
          "Noel",
          "Aro",
          "Dux",
          "Ranchera",
          "Tosh",
          "Gol",
          "Festival",
          "Jumbo",
          "La Especial",
          "Evok",
          "Lyne",
          "Naturela",
          "Tikys",
          "MontBlanc",
          "Acid Mantle",
          "Pietrán",
          "Doria",
          "Ducales",
          "Monticello",
          "Chocolisto",
          "Haka",
          "Santander"
         ],
         "categoryorder": "array",
         "domain": [
          0,
          1
         ],
         "title": {
          "text": "Marca"
         }
        }
       }
      }
     },
     "metadata": {},
     "output_type": "display_data"
    }
   ],
   "source": [
    "# analisis  por margen \n",
    "fig = px.bar(\n",
    "    marge_bruto_ajus_marcas,\n",
    "    y='marca',\n",
    "    x='margen_real_label',\n",
    "    color='marca',\n",
    "    text='margen_real_label',\n",
    "    orientation='h'  # Barras horizontales\n",
    ")\n",
    "\n",
    "# Ajustes estéticos\n",
    "fig.update_traces(textposition='outside')  # Muestra el texto fuera de las barras\n",
    "fig.update_layout(\n",
    "    title='Margen por marca',\n",
    "    xaxis_title='Margen Real',\n",
    "    yaxis_title='Marca',\n",
    "    uniformtext_minsize=8,\n",
    "    uniformtext_mode='hide',\n",
    "    showlegend=False,\n",
    "    height=600\n",
    ")\n",
    "\n",
    "fig.show()"
   ]
  },
  {
   "cell_type": "code",
   "execution_count": 33,
   "metadata": {},
   "outputs": [
    {
     "data": {
      "text/html": [
       "<div>\n",
       "<style scoped>\n",
       "    .dataframe tbody tr th:only-of-type {\n",
       "        vertical-align: middle;\n",
       "    }\n",
       "\n",
       "    .dataframe tbody tr th {\n",
       "        vertical-align: top;\n",
       "    }\n",
       "\n",
       "    .dataframe thead th {\n",
       "        text-align: right;\n",
       "    }\n",
       "</style>\n",
       "<table border=\"1\" class=\"dataframe\">\n",
       "  <thead>\n",
       "    <tr style=\"text-align: right;\">\n",
       "      <th></th>\n",
       "      <th>marca</th>\n",
       "      <th>venta_cop_año_ant</th>\n",
       "      <th>codigo_sap</th>\n",
       "      <th>ventas_acumuladas</th>\n",
       "      <th>%_ventas</th>\n",
       "      <th>%_ventas_acumuladas</th>\n",
       "      <th>margen_real</th>\n",
       "    </tr>\n",
       "  </thead>\n",
       "  <tbody>\n",
       "    <tr>\n",
       "      <th>0</th>\n",
       "      <td>Doria</td>\n",
       "      <td>4740097.00</td>\n",
       "      <td>50</td>\n",
       "      <td>4740097.00</td>\n",
       "      <td>14.33</td>\n",
       "      <td>14.33</td>\n",
       "      <td>50.852965</td>\n",
       "    </tr>\n",
       "    <tr>\n",
       "      <th>1</th>\n",
       "      <td>Tosh</td>\n",
       "      <td>2993791.67</td>\n",
       "      <td>116</td>\n",
       "      <td>7733888.67</td>\n",
       "      <td>9.05</td>\n",
       "      <td>23.39</td>\n",
       "      <td>45.308186</td>\n",
       "    </tr>\n",
       "    <tr>\n",
       "      <th>2</th>\n",
       "      <td>Saltin Noel</td>\n",
       "      <td>2880805.00</td>\n",
       "      <td>26</td>\n",
       "      <td>10614693.67</td>\n",
       "      <td>8.71</td>\n",
       "      <td>32.10</td>\n",
       "      <td>40.058632</td>\n",
       "    </tr>\n",
       "    <tr>\n",
       "      <th>3</th>\n",
       "      <td>Zenú</td>\n",
       "      <td>2462989.00</td>\n",
       "      <td>48</td>\n",
       "      <td>13077682.67</td>\n",
       "      <td>7.45</td>\n",
       "      <td>39.55</td>\n",
       "      <td>32.675798</td>\n",
       "    </tr>\n",
       "    <tr>\n",
       "      <th>4</th>\n",
       "      <td>Sello Rojo</td>\n",
       "      <td>2272941.00</td>\n",
       "      <td>22</td>\n",
       "      <td>15350623.67</td>\n",
       "      <td>6.87</td>\n",
       "      <td>46.42</td>\n",
       "      <td>33.951147</td>\n",
       "    </tr>\n",
       "    <tr>\n",
       "      <th>5</th>\n",
       "      <td>Corona</td>\n",
       "      <td>2130187.00</td>\n",
       "      <td>39</td>\n",
       "      <td>17480810.67</td>\n",
       "      <td>6.44</td>\n",
       "      <td>52.86</td>\n",
       "      <td>33.574302</td>\n",
       "    </tr>\n",
       "    <tr>\n",
       "      <th>6</th>\n",
       "      <td>Ducales</td>\n",
       "      <td>1806073.60</td>\n",
       "      <td>18</td>\n",
       "      <td>19286884.27</td>\n",
       "      <td>5.46</td>\n",
       "      <td>58.32</td>\n",
       "      <td>51.392535</td>\n",
       "    </tr>\n",
       "    <tr>\n",
       "      <th>7</th>\n",
       "      <td>Noel</td>\n",
       "      <td>1613320.20</td>\n",
       "      <td>46</td>\n",
       "      <td>20900204.47</td>\n",
       "      <td>4.88</td>\n",
       "      <td>63.20</td>\n",
       "      <td>42.449615</td>\n",
       "    </tr>\n",
       "    <tr>\n",
       "      <th>8</th>\n",
       "      <td>Comarrico</td>\n",
       "      <td>1423368.00</td>\n",
       "      <td>19</td>\n",
       "      <td>22323572.47</td>\n",
       "      <td>4.30</td>\n",
       "      <td>67.50</td>\n",
       "      <td>40.241585</td>\n",
       "    </tr>\n",
       "    <tr>\n",
       "      <th>9</th>\n",
       "      <td>La Especial</td>\n",
       "      <td>1351523.89</td>\n",
       "      <td>51</td>\n",
       "      <td>23675096.36</td>\n",
       "      <td>4.09</td>\n",
       "      <td>71.59</td>\n",
       "      <td>46.675763</td>\n",
       "    </tr>\n",
       "    <tr>\n",
       "      <th>10</th>\n",
       "      <td>Jet</td>\n",
       "      <td>1339758.72</td>\n",
       "      <td>56</td>\n",
       "      <td>25014855.08</td>\n",
       "      <td>4.05</td>\n",
       "      <td>75.64</td>\n",
       "      <td>38.315265</td>\n",
       "    </tr>\n",
       "    <tr>\n",
       "      <th>11</th>\n",
       "      <td>Colcafé</td>\n",
       "      <td>1039050.00</td>\n",
       "      <td>56</td>\n",
       "      <td>26053905.08</td>\n",
       "      <td>3.14</td>\n",
       "      <td>78.78</td>\n",
       "      <td>32.408522</td>\n",
       "    </tr>\n",
       "    <tr>\n",
       "      <th>12</th>\n",
       "      <td>Monticello</td>\n",
       "      <td>988326.00</td>\n",
       "      <td>39</td>\n",
       "      <td>27042231.08</td>\n",
       "      <td>2.99</td>\n",
       "      <td>81.77</td>\n",
       "      <td>52.068784</td>\n",
       "    </tr>\n",
       "    <tr>\n",
       "      <th>13</th>\n",
       "      <td>Chocolate La Especial</td>\n",
       "      <td>824516.00</td>\n",
       "      <td>9</td>\n",
       "      <td>27866747.08</td>\n",
       "      <td>2.49</td>\n",
       "      <td>84.27</td>\n",
       "      <td>NaN</td>\n",
       "    </tr>\n",
       "    <tr>\n",
       "      <th>14</th>\n",
       "      <td>Festival</td>\n",
       "      <td>768593.10</td>\n",
       "      <td>18</td>\n",
       "      <td>28635340.18</td>\n",
       "      <td>2.32</td>\n",
       "      <td>86.59</td>\n",
       "      <td>46.125893</td>\n",
       "    </tr>\n",
       "    <tr>\n",
       "      <th>15</th>\n",
       "      <td>Chocolisto</td>\n",
       "      <td>604061.00</td>\n",
       "      <td>22</td>\n",
       "      <td>29239401.18</td>\n",
       "      <td>1.83</td>\n",
       "      <td>88.42</td>\n",
       "      <td>52.085053</td>\n",
       "    </tr>\n",
       "    <tr>\n",
       "      <th>16</th>\n",
       "      <td>Jumbo</td>\n",
       "      <td>592990.99</td>\n",
       "      <td>39</td>\n",
       "      <td>29832392.17</td>\n",
       "      <td>1.79</td>\n",
       "      <td>90.21</td>\n",
       "      <td>46.550923</td>\n",
       "    </tr>\n",
       "    <tr>\n",
       "      <th>17</th>\n",
       "      <td>Matiz</td>\n",
       "      <td>574141.00</td>\n",
       "      <td>28</td>\n",
       "      <td>30406533.17</td>\n",
       "      <td>1.74</td>\n",
       "      <td>91.95</td>\n",
       "      <td>35.132522</td>\n",
       "    </tr>\n",
       "    <tr>\n",
       "      <th>18</th>\n",
       "      <td>Lyne</td>\n",
       "      <td>502463.93</td>\n",
       "      <td>31</td>\n",
       "      <td>30908997.10</td>\n",
       "      <td>1.52</td>\n",
       "      <td>93.47</td>\n",
       "      <td>48.237369</td>\n",
       "    </tr>\n",
       "    <tr>\n",
       "      <th>19</th>\n",
       "      <td>Badia</td>\n",
       "      <td>478699.00</td>\n",
       "      <td>82</td>\n",
       "      <td>31387696.10</td>\n",
       "      <td>1.45</td>\n",
       "      <td>94.91</td>\n",
       "      <td>NaN</td>\n",
       "    </tr>\n",
       "    <tr>\n",
       "      <th>20</th>\n",
       "      <td>Dux</td>\n",
       "      <td>383952.00</td>\n",
       "      <td>7</td>\n",
       "      <td>31771648.10</td>\n",
       "      <td>1.16</td>\n",
       "      <td>96.07</td>\n",
       "      <td>43.636263</td>\n",
       "    </tr>\n",
       "    <tr>\n",
       "      <th>21</th>\n",
       "      <td>La Bastilla</td>\n",
       "      <td>258819.00</td>\n",
       "      <td>9</td>\n",
       "      <td>32030467.10</td>\n",
       "      <td>0.78</td>\n",
       "      <td>96.86</td>\n",
       "      <td>31.453579</td>\n",
       "    </tr>\n",
       "    <tr>\n",
       "      <th>22</th>\n",
       "      <td>MontBlanc</td>\n",
       "      <td>180421.47</td>\n",
       "      <td>32</td>\n",
       "      <td>32210888.57</td>\n",
       "      <td>0.55</td>\n",
       "      <td>97.40</td>\n",
       "      <td>49.770534</td>\n",
       "    </tr>\n",
       "    <tr>\n",
       "      <th>23</th>\n",
       "      <td>Cruz</td>\n",
       "      <td>145774.00</td>\n",
       "      <td>2</td>\n",
       "      <td>32356662.57</td>\n",
       "      <td>0.44</td>\n",
       "      <td>97.84</td>\n",
       "      <td>23.452499</td>\n",
       "    </tr>\n",
       "    <tr>\n",
       "      <th>24</th>\n",
       "      <td>Gol</td>\n",
       "      <td>137659.80</td>\n",
       "      <td>10</td>\n",
       "      <td>32494322.37</td>\n",
       "      <td>0.42</td>\n",
       "      <td>98.26</td>\n",
       "      <td>45.551333</td>\n",
       "    </tr>\n",
       "    <tr>\n",
       "      <th>25</th>\n",
       "      <td>Tesalia</td>\n",
       "      <td>107610.00</td>\n",
       "      <td>2</td>\n",
       "      <td>32601932.37</td>\n",
       "      <td>0.33</td>\n",
       "      <td>98.58</td>\n",
       "      <td>24.079162</td>\n",
       "    </tr>\n",
       "    <tr>\n",
       "      <th>26</th>\n",
       "      <td>Rica</td>\n",
       "      <td>89227.00</td>\n",
       "      <td>2</td>\n",
       "      <td>32691159.37</td>\n",
       "      <td>0.27</td>\n",
       "      <td>98.85</td>\n",
       "      <td>33.788771</td>\n",
       "    </tr>\n",
       "    <tr>\n",
       "      <th>27</th>\n",
       "      <td>Bénet</td>\n",
       "      <td>68180.00</td>\n",
       "      <td>37</td>\n",
       "      <td>32759339.37</td>\n",
       "      <td>0.21</td>\n",
       "      <td>99.06</td>\n",
       "      <td>39.917178</td>\n",
       "    </tr>\n",
       "    <tr>\n",
       "      <th>28</th>\n",
       "      <td>Naturela</td>\n",
       "      <td>54111.00</td>\n",
       "      <td>21</td>\n",
       "      <td>32813450.37</td>\n",
       "      <td>0.16</td>\n",
       "      <td>99.22</td>\n",
       "      <td>48.837206</td>\n",
       "    </tr>\n",
       "    <tr>\n",
       "      <th>29</th>\n",
       "      <td>Carve</td>\n",
       "      <td>52259.00</td>\n",
       "      <td>3</td>\n",
       "      <td>32865709.37</td>\n",
       "      <td>0.16</td>\n",
       "      <td>99.38</td>\n",
       "      <td>40.479132</td>\n",
       "    </tr>\n",
       "    <tr>\n",
       "      <th>30</th>\n",
       "      <td>KIBO</td>\n",
       "      <td>48200.00</td>\n",
       "      <td>12</td>\n",
       "      <td>32913909.37</td>\n",
       "      <td>0.15</td>\n",
       "      <td>99.53</td>\n",
       "      <td>10.972642</td>\n",
       "    </tr>\n",
       "    <tr>\n",
       "      <th>31</th>\n",
       "      <td>Evok</td>\n",
       "      <td>46437.00</td>\n",
       "      <td>43</td>\n",
       "      <td>32960346.37</td>\n",
       "      <td>0.14</td>\n",
       "      <td>99.67</td>\n",
       "      <td>46.819016</td>\n",
       "    </tr>\n",
       "    <tr>\n",
       "      <th>32</th>\n",
       "      <td>Drácula</td>\n",
       "      <td>46119.14</td>\n",
       "      <td>6</td>\n",
       "      <td>33006465.51</td>\n",
       "      <td>0.14</td>\n",
       "      <td>99.81</td>\n",
       "      <td>38.962353</td>\n",
       "    </tr>\n",
       "    <tr>\n",
       "      <th>33</th>\n",
       "      <td>Corona Harina</td>\n",
       "      <td>43951.00</td>\n",
       "      <td>2</td>\n",
       "      <td>33050416.51</td>\n",
       "      <td>0.13</td>\n",
       "      <td>99.94</td>\n",
       "      <td>38.929686</td>\n",
       "    </tr>\n",
       "    <tr>\n",
       "      <th>34</th>\n",
       "      <td>Santander</td>\n",
       "      <td>12787.60</td>\n",
       "      <td>6</td>\n",
       "      <td>33063204.11</td>\n",
       "      <td>0.04</td>\n",
       "      <td>99.98</td>\n",
       "      <td>64.996210</td>\n",
       "    </tr>\n",
       "    <tr>\n",
       "      <th>35</th>\n",
       "      <td>Tikys</td>\n",
       "      <td>3965.88</td>\n",
       "      <td>2</td>\n",
       "      <td>33067169.99</td>\n",
       "      <td>0.01</td>\n",
       "      <td>99.99</td>\n",
       "      <td>48.984503</td>\n",
       "    </tr>\n",
       "    <tr>\n",
       "      <th>36</th>\n",
       "      <td>Diversa</td>\n",
       "      <td>2461.00</td>\n",
       "      <td>3</td>\n",
       "      <td>33069630.99</td>\n",
       "      <td>0.01</td>\n",
       "      <td>100.00</td>\n",
       "      <td>22.711653</td>\n",
       "    </tr>\n",
       "    <tr>\n",
       "      <th>37</th>\n",
       "      <td>Nutresa</td>\n",
       "      <td>335.00</td>\n",
       "      <td>2</td>\n",
       "      <td>33069965.99</td>\n",
       "      <td>0.00</td>\n",
       "      <td>100.00</td>\n",
       "      <td>-47.821635</td>\n",
       "    </tr>\n",
       "    <tr>\n",
       "      <th>38</th>\n",
       "      <td>BastiYá</td>\n",
       "      <td>7.00</td>\n",
       "      <td>1</td>\n",
       "      <td>33069972.99</td>\n",
       "      <td>0.00</td>\n",
       "      <td>100.00</td>\n",
       "      <td>30.392698</td>\n",
       "    </tr>\n",
       "  </tbody>\n",
       "</table>\n",
       "</div>"
      ],
      "text/plain": [
       "                    marca  venta_cop_año_ant  codigo_sap  ventas_acumuladas  \\\n",
       "0                   Doria         4740097.00          50         4740097.00   \n",
       "1                    Tosh         2993791.67         116         7733888.67   \n",
       "2             Saltin Noel         2880805.00          26        10614693.67   \n",
       "3                    Zenú         2462989.00          48        13077682.67   \n",
       "4              Sello Rojo         2272941.00          22        15350623.67   \n",
       "5                  Corona         2130187.00          39        17480810.67   \n",
       "6                 Ducales         1806073.60          18        19286884.27   \n",
       "7                    Noel         1613320.20          46        20900204.47   \n",
       "8               Comarrico         1423368.00          19        22323572.47   \n",
       "9             La Especial         1351523.89          51        23675096.36   \n",
       "10                    Jet         1339758.72          56        25014855.08   \n",
       "11                Colcafé         1039050.00          56        26053905.08   \n",
       "12             Monticello          988326.00          39        27042231.08   \n",
       "13  Chocolate La Especial          824516.00           9        27866747.08   \n",
       "14               Festival          768593.10          18        28635340.18   \n",
       "15             Chocolisto          604061.00          22        29239401.18   \n",
       "16                  Jumbo          592990.99          39        29832392.17   \n",
       "17                  Matiz          574141.00          28        30406533.17   \n",
       "18                   Lyne          502463.93          31        30908997.10   \n",
       "19                  Badia          478699.00          82        31387696.10   \n",
       "20                    Dux          383952.00           7        31771648.10   \n",
       "21            La Bastilla          258819.00           9        32030467.10   \n",
       "22              MontBlanc          180421.47          32        32210888.57   \n",
       "23                   Cruz          145774.00           2        32356662.57   \n",
       "24                    Gol          137659.80          10        32494322.37   \n",
       "25                Tesalia          107610.00           2        32601932.37   \n",
       "26                   Rica           89227.00           2        32691159.37   \n",
       "27                  Bénet           68180.00          37        32759339.37   \n",
       "28               Naturela           54111.00          21        32813450.37   \n",
       "29                  Carve           52259.00           3        32865709.37   \n",
       "30                   KIBO           48200.00          12        32913909.37   \n",
       "31                   Evok           46437.00          43        32960346.37   \n",
       "32                Drácula           46119.14           6        33006465.51   \n",
       "33          Corona Harina           43951.00           2        33050416.51   \n",
       "34              Santander           12787.60           6        33063204.11   \n",
       "35                  Tikys            3965.88           2        33067169.99   \n",
       "36                Diversa            2461.00           3        33069630.99   \n",
       "37                Nutresa             335.00           2        33069965.99   \n",
       "38                BastiYá               7.00           1        33069972.99   \n",
       "\n",
       "    %_ventas  %_ventas_acumuladas  margen_real  \n",
       "0      14.33                14.33    50.852965  \n",
       "1       9.05                23.39    45.308186  \n",
       "2       8.71                32.10    40.058632  \n",
       "3       7.45                39.55    32.675798  \n",
       "4       6.87                46.42    33.951147  \n",
       "5       6.44                52.86    33.574302  \n",
       "6       5.46                58.32    51.392535  \n",
       "7       4.88                63.20    42.449615  \n",
       "8       4.30                67.50    40.241585  \n",
       "9       4.09                71.59    46.675763  \n",
       "10      4.05                75.64    38.315265  \n",
       "11      3.14                78.78    32.408522  \n",
       "12      2.99                81.77    52.068784  \n",
       "13      2.49                84.27          NaN  \n",
       "14      2.32                86.59    46.125893  \n",
       "15      1.83                88.42    52.085053  \n",
       "16      1.79                90.21    46.550923  \n",
       "17      1.74                91.95    35.132522  \n",
       "18      1.52                93.47    48.237369  \n",
       "19      1.45                94.91          NaN  \n",
       "20      1.16                96.07    43.636263  \n",
       "21      0.78                96.86    31.453579  \n",
       "22      0.55                97.40    49.770534  \n",
       "23      0.44                97.84    23.452499  \n",
       "24      0.42                98.26    45.551333  \n",
       "25      0.33                98.58    24.079162  \n",
       "26      0.27                98.85    33.788771  \n",
       "27      0.21                99.06    39.917178  \n",
       "28      0.16                99.22    48.837206  \n",
       "29      0.16                99.38    40.479132  \n",
       "30      0.15                99.53    10.972642  \n",
       "31      0.14                99.67    46.819016  \n",
       "32      0.14                99.81    38.962353  \n",
       "33      0.13                99.94    38.929686  \n",
       "34      0.04                99.98    64.996210  \n",
       "35      0.01                99.99    48.984503  \n",
       "36      0.01               100.00    22.711653  \n",
       "37      0.00               100.00   -47.821635  \n",
       "38      0.00               100.00    30.392698  "
      ]
     },
     "execution_count": 33,
     "metadata": {},
     "output_type": "execute_result"
    }
   ],
   "source": [
    "ventas_por_marca_sorted['ventas_acumuladas'] = ventas_por_marca_sorted['venta_cop_año_ant'].cumsum()\n",
    "total_ventas = ventas_por_marca_sorted['venta_cop_año_ant'].sum()\n",
    "ventas_por_marca_sorted['%_ventas'] = (ventas_por_marca_sorted['venta_cop_año_ant'] / total_ventas) * 100\n",
    "ventas_por_marca_sorted['%_ventas_acumuladas'] = ventas_por_marca_sorted['%_ventas'].cumsum()\n",
    "ventas_por_marca_sorted['%_ventas'] = ventas_por_marca_sorted['%_ventas'].round(2)\n",
    "ventas_por_marca_sorted['%_ventas_acumuladas'] = ventas_por_marca_sorted['%_ventas_acumuladas'].round(2)\n",
    "ventas_por_marca_sorted = pd.merge(ventas_por_marca_sorted,margen_marca[['marca','margen_real']], on = 'marca', how='left')\n",
    "ventas_por_marca_sorted"
   ]
  },
  {
   "cell_type": "code",
   "execution_count": 34,
   "metadata": {},
   "outputs": [
    {
     "data": {
      "text/html": [
       "<div>\n",
       "<style scoped>\n",
       "    .dataframe tbody tr th:only-of-type {\n",
       "        vertical-align: middle;\n",
       "    }\n",
       "\n",
       "    .dataframe tbody tr th {\n",
       "        vertical-align: top;\n",
       "    }\n",
       "\n",
       "    .dataframe thead th {\n",
       "        text-align: right;\n",
       "    }\n",
       "</style>\n",
       "<table border=\"1\" class=\"dataframe\">\n",
       "  <thead>\n",
       "    <tr style=\"text-align: right;\">\n",
       "      <th></th>\n",
       "      <th>venta_cop_año_ant</th>\n",
       "      <th>codigo_sap</th>\n",
       "      <th>ventas_acumuladas</th>\n",
       "      <th>%_ventas</th>\n",
       "      <th>%_ventas_acumuladas</th>\n",
       "      <th>margen_real</th>\n",
       "    </tr>\n",
       "  </thead>\n",
       "  <tbody>\n",
       "    <tr>\n",
       "      <th>count</th>\n",
       "      <td>3.900000e+01</td>\n",
       "      <td>39.000000</td>\n",
       "      <td>3.900000e+01</td>\n",
       "      <td>39.000000</td>\n",
       "      <td>39.000000</td>\n",
       "      <td>37.000000</td>\n",
       "    </tr>\n",
       "    <tr>\n",
       "      <th>mean</th>\n",
       "      <td>8.479480e+05</td>\n",
       "      <td>26.076923</td>\n",
       "      <td>2.726765e+07</td>\n",
       "      <td>2.564103</td>\n",
       "      <td>82.454103</td>\n",
       "      <td>37.946423</td>\n",
       "    </tr>\n",
       "    <tr>\n",
       "      <th>std</th>\n",
       "      <td>1.077909e+06</td>\n",
       "      <td>24.956156</td>\n",
       "      <td>7.907568e+06</td>\n",
       "      <td>3.258529</td>\n",
       "      <td>23.911203</td>\n",
       "      <td>17.782205</td>\n",
       "    </tr>\n",
       "    <tr>\n",
       "      <th>min</th>\n",
       "      <td>7.000000e+00</td>\n",
       "      <td>1.000000</td>\n",
       "      <td>4.740097e+06</td>\n",
       "      <td>0.000000</td>\n",
       "      <td>14.330000</td>\n",
       "      <td>-47.821635</td>\n",
       "    </tr>\n",
       "    <tr>\n",
       "      <th>25%</th>\n",
       "      <td>5.318500e+04</td>\n",
       "      <td>6.000000</td>\n",
       "      <td>2.434498e+07</td>\n",
       "      <td>0.160000</td>\n",
       "      <td>73.615000</td>\n",
       "      <td>33.574302</td>\n",
       "    </tr>\n",
       "    <tr>\n",
       "      <th>50%</th>\n",
       "      <td>4.786990e+05</td>\n",
       "      <td>21.000000</td>\n",
       "      <td>3.138770e+07</td>\n",
       "      <td>1.450000</td>\n",
       "      <td>94.910000</td>\n",
       "      <td>40.241585</td>\n",
       "    </tr>\n",
       "    <tr>\n",
       "      <th>75%</th>\n",
       "      <td>1.345641e+06</td>\n",
       "      <td>39.000000</td>\n",
       "      <td>3.283958e+07</td>\n",
       "      <td>4.070000</td>\n",
       "      <td>99.300000</td>\n",
       "      <td>46.819016</td>\n",
       "    </tr>\n",
       "    <tr>\n",
       "      <th>max</th>\n",
       "      <td>4.740097e+06</td>\n",
       "      <td>116.000000</td>\n",
       "      <td>3.306997e+07</td>\n",
       "      <td>14.330000</td>\n",
       "      <td>100.000000</td>\n",
       "      <td>64.996210</td>\n",
       "    </tr>\n",
       "  </tbody>\n",
       "</table>\n",
       "</div>"
      ],
      "text/plain": [
       "       venta_cop_año_ant  codigo_sap  ventas_acumuladas   %_ventas  \\\n",
       "count       3.900000e+01   39.000000       3.900000e+01  39.000000   \n",
       "mean        8.479480e+05   26.076923       2.726765e+07   2.564103   \n",
       "std         1.077909e+06   24.956156       7.907568e+06   3.258529   \n",
       "min         7.000000e+00    1.000000       4.740097e+06   0.000000   \n",
       "25%         5.318500e+04    6.000000       2.434498e+07   0.160000   \n",
       "50%         4.786990e+05   21.000000       3.138770e+07   1.450000   \n",
       "75%         1.345641e+06   39.000000       3.283958e+07   4.070000   \n",
       "max         4.740097e+06  116.000000       3.306997e+07  14.330000   \n",
       "\n",
       "       %_ventas_acumuladas  margen_real  \n",
       "count            39.000000    37.000000  \n",
       "mean             82.454103    37.946423  \n",
       "std              23.911203    17.782205  \n",
       "min              14.330000   -47.821635  \n",
       "25%              73.615000    33.574302  \n",
       "50%              94.910000    40.241585  \n",
       "75%              99.300000    46.819016  \n",
       "max             100.000000    64.996210  "
      ]
     },
     "execution_count": 34,
     "metadata": {},
     "output_type": "execute_result"
    }
   ],
   "source": [
    "ventas_por_marca_sorted.describe()"
   ]
  },
  {
   "cell_type": "code",
   "execution_count": 36,
   "metadata": {},
   "outputs": [
    {
     "name": "stdout",
     "output_type": "stream",
     "text": [
      "<class 'pandas.core.frame.DataFrame'>\n",
      "RangeIndex: 958 entries, 0 to 957\n",
      "Data columns (total 6 columns):\n",
      " #   Column             Non-Null Count  Dtype  \n",
      "---  ------             --------------  -----  \n",
      " 0   mes                958 non-null    int32  \n",
      " 1   marca              958 non-null    object \n",
      " 2   producto           958 non-null    object \n",
      " 3   codigo_sap         958 non-null    object \n",
      " 4   venta_cop_año_ant  958 non-null    float64\n",
      " 5   venta_un_ant       958 non-null    float64\n",
      "dtypes: float64(2), int32(1), object(3)\n",
      "memory usage: 41.3+ KB\n"
     ]
    }
   ],
   "source": [
    "lista_marcas_analizar = ['Chocolisto','Jumbo','Matiz','Dux']\n",
    "marcas_analizar = data_ajustada[data_ajustada['marca'].isin(lista_marcas_analizar)]\n",
    "\n",
    "lista_agrupadas = ['mes','marca','producto','codigo_sap']\n",
    "marcas_analizar = marcas_analizar.groupby(lista_agrupadas).sum('venta_cop_año_ant').reset_index()\n",
    "marcas_analizar.info()"
   ]
  },
  {
   "cell_type": "code",
   "execution_count": 37,
   "metadata": {},
   "outputs": [
    {
     "data": {
      "application/vnd.plotly.v1+json": {
       "config": {
        "plotlyServerURL": "https://plot.ly"
       },
       "data": [
        {
         "hovertemplate": "marca=Chocolisto<br>mes=%{x}<br>venta_cop_año_ant=%{y}<extra></extra>",
         "legendgroup": "Chocolisto",
         "line": {
          "color": "#636efa",
          "dash": "solid",
          "shape": "linear"
         },
         "marker": {
          "symbol": "circle"
         },
         "mode": "lines+markers",
         "name": "Chocolisto",
         "orientation": "v",
         "showlegend": true,
         "type": "scatter",
         "x": [
          1,
          2,
          3,
          4,
          5,
          6,
          7,
          8,
          9,
          10,
          11,
          12
         ],
         "xaxis": "x",
         "y": [
          51148,
          54103,
          57939,
          47107,
          49282,
          55592,
          52499,
          45839,
          49187,
          48711,
          43269,
          49385
         ],
         "yaxis": "y"
        },
        {
         "hovertemplate": "marca=Dux<br>mes=%{x}<br>venta_cop_año_ant=%{y}<extra></extra>",
         "legendgroup": "Dux",
         "line": {
          "color": "#EF553B",
          "dash": "solid",
          "shape": "linear"
         },
         "marker": {
          "symbol": "circle"
         },
         "mode": "lines+markers",
         "name": "Dux",
         "orientation": "v",
         "showlegend": true,
         "type": "scatter",
         "x": [
          1,
          2,
          3,
          4,
          5,
          6,
          7,
          8,
          9,
          10,
          11,
          12
         ],
         "xaxis": "x",
         "y": [
          29799,
          34258,
          31657,
          27476,
          27946,
          32373,
          30824,
          34390,
          37491,
          33705,
          33605,
          30428
         ],
         "yaxis": "y"
        },
        {
         "hovertemplate": "marca=Jumbo<br>mes=%{x}<br>venta_cop_año_ant=%{y}<extra></extra>",
         "legendgroup": "Jumbo",
         "line": {
          "color": "#00cc96",
          "dash": "solid",
          "shape": "linear"
         },
         "marker": {
          "symbol": "circle"
         },
         "mode": "lines+markers",
         "name": "Jumbo",
         "orientation": "v",
         "showlegend": true,
         "type": "scatter",
         "x": [
          1,
          2,
          3,
          4,
          5,
          6,
          7,
          8,
          9,
          10,
          11,
          12
         ],
         "xaxis": "x",
         "y": [
          48720.16,
          52869.69,
          66095.76,
          42292.92,
          54527.79,
          48130.26,
          46205.409999999996,
          40514.64,
          57547.03,
          48912.94,
          38588.44,
          48585.95
         ],
         "yaxis": "y"
        },
        {
         "hovertemplate": "marca=Matiz<br>mes=%{x}<br>venta_cop_año_ant=%{y}<extra></extra>",
         "legendgroup": "Matiz",
         "line": {
          "color": "#ab63fa",
          "dash": "solid",
          "shape": "linear"
         },
         "marker": {
          "symbol": "circle"
         },
         "mode": "lines+markers",
         "name": "Matiz",
         "orientation": "v",
         "showlegend": true,
         "type": "scatter",
         "x": [
          1,
          2,
          3,
          4,
          5,
          6,
          7,
          8,
          9,
          10,
          11,
          12
         ],
         "xaxis": "x",
         "y": [
          42799,
          42420,
          44214,
          43280,
          50975,
          48544,
          49424,
          48688,
          49836,
          49096,
          49730,
          55135
         ],
         "yaxis": "y"
        }
       ],
       "layout": {
        "height": 700,
        "legend": {
         "title": {
          "text": "Marca"
         },
         "tracegroupgap": 0
        },
        "margin": {
         "t": 60
        },
        "template": {
         "data": {
          "bar": [
           {
            "error_x": {
             "color": "#2a3f5f"
            },
            "error_y": {
             "color": "#2a3f5f"
            },
            "marker": {
             "line": {
              "color": "white",
              "width": 0.5
             },
             "pattern": {
              "fillmode": "overlay",
              "size": 10,
              "solidity": 0.2
             }
            },
            "type": "bar"
           }
          ],
          "barpolar": [
           {
            "marker": {
             "line": {
              "color": "white",
              "width": 0.5
             },
             "pattern": {
              "fillmode": "overlay",
              "size": 10,
              "solidity": 0.2
             }
            },
            "type": "barpolar"
           }
          ],
          "carpet": [
           {
            "aaxis": {
             "endlinecolor": "#2a3f5f",
             "gridcolor": "#C8D4E3",
             "linecolor": "#C8D4E3",
             "minorgridcolor": "#C8D4E3",
             "startlinecolor": "#2a3f5f"
            },
            "baxis": {
             "endlinecolor": "#2a3f5f",
             "gridcolor": "#C8D4E3",
             "linecolor": "#C8D4E3",
             "minorgridcolor": "#C8D4E3",
             "startlinecolor": "#2a3f5f"
            },
            "type": "carpet"
           }
          ],
          "choropleth": [
           {
            "colorbar": {
             "outlinewidth": 0,
             "ticks": ""
            },
            "type": "choropleth"
           }
          ],
          "contour": [
           {
            "colorbar": {
             "outlinewidth": 0,
             "ticks": ""
            },
            "colorscale": [
             [
              0,
              "#0d0887"
             ],
             [
              0.1111111111111111,
              "#46039f"
             ],
             [
              0.2222222222222222,
              "#7201a8"
             ],
             [
              0.3333333333333333,
              "#9c179e"
             ],
             [
              0.4444444444444444,
              "#bd3786"
             ],
             [
              0.5555555555555556,
              "#d8576b"
             ],
             [
              0.6666666666666666,
              "#ed7953"
             ],
             [
              0.7777777777777778,
              "#fb9f3a"
             ],
             [
              0.8888888888888888,
              "#fdca26"
             ],
             [
              1,
              "#f0f921"
             ]
            ],
            "type": "contour"
           }
          ],
          "contourcarpet": [
           {
            "colorbar": {
             "outlinewidth": 0,
             "ticks": ""
            },
            "type": "contourcarpet"
           }
          ],
          "heatmap": [
           {
            "colorbar": {
             "outlinewidth": 0,
             "ticks": ""
            },
            "colorscale": [
             [
              0,
              "#0d0887"
             ],
             [
              0.1111111111111111,
              "#46039f"
             ],
             [
              0.2222222222222222,
              "#7201a8"
             ],
             [
              0.3333333333333333,
              "#9c179e"
             ],
             [
              0.4444444444444444,
              "#bd3786"
             ],
             [
              0.5555555555555556,
              "#d8576b"
             ],
             [
              0.6666666666666666,
              "#ed7953"
             ],
             [
              0.7777777777777778,
              "#fb9f3a"
             ],
             [
              0.8888888888888888,
              "#fdca26"
             ],
             [
              1,
              "#f0f921"
             ]
            ],
            "type": "heatmap"
           }
          ],
          "heatmapgl": [
           {
            "colorbar": {
             "outlinewidth": 0,
             "ticks": ""
            },
            "colorscale": [
             [
              0,
              "#0d0887"
             ],
             [
              0.1111111111111111,
              "#46039f"
             ],
             [
              0.2222222222222222,
              "#7201a8"
             ],
             [
              0.3333333333333333,
              "#9c179e"
             ],
             [
              0.4444444444444444,
              "#bd3786"
             ],
             [
              0.5555555555555556,
              "#d8576b"
             ],
             [
              0.6666666666666666,
              "#ed7953"
             ],
             [
              0.7777777777777778,
              "#fb9f3a"
             ],
             [
              0.8888888888888888,
              "#fdca26"
             ],
             [
              1,
              "#f0f921"
             ]
            ],
            "type": "heatmapgl"
           }
          ],
          "histogram": [
           {
            "marker": {
             "pattern": {
              "fillmode": "overlay",
              "size": 10,
              "solidity": 0.2
             }
            },
            "type": "histogram"
           }
          ],
          "histogram2d": [
           {
            "colorbar": {
             "outlinewidth": 0,
             "ticks": ""
            },
            "colorscale": [
             [
              0,
              "#0d0887"
             ],
             [
              0.1111111111111111,
              "#46039f"
             ],
             [
              0.2222222222222222,
              "#7201a8"
             ],
             [
              0.3333333333333333,
              "#9c179e"
             ],
             [
              0.4444444444444444,
              "#bd3786"
             ],
             [
              0.5555555555555556,
              "#d8576b"
             ],
             [
              0.6666666666666666,
              "#ed7953"
             ],
             [
              0.7777777777777778,
              "#fb9f3a"
             ],
             [
              0.8888888888888888,
              "#fdca26"
             ],
             [
              1,
              "#f0f921"
             ]
            ],
            "type": "histogram2d"
           }
          ],
          "histogram2dcontour": [
           {
            "colorbar": {
             "outlinewidth": 0,
             "ticks": ""
            },
            "colorscale": [
             [
              0,
              "#0d0887"
             ],
             [
              0.1111111111111111,
              "#46039f"
             ],
             [
              0.2222222222222222,
              "#7201a8"
             ],
             [
              0.3333333333333333,
              "#9c179e"
             ],
             [
              0.4444444444444444,
              "#bd3786"
             ],
             [
              0.5555555555555556,
              "#d8576b"
             ],
             [
              0.6666666666666666,
              "#ed7953"
             ],
             [
              0.7777777777777778,
              "#fb9f3a"
             ],
             [
              0.8888888888888888,
              "#fdca26"
             ],
             [
              1,
              "#f0f921"
             ]
            ],
            "type": "histogram2dcontour"
           }
          ],
          "mesh3d": [
           {
            "colorbar": {
             "outlinewidth": 0,
             "ticks": ""
            },
            "type": "mesh3d"
           }
          ],
          "parcoords": [
           {
            "line": {
             "colorbar": {
              "outlinewidth": 0,
              "ticks": ""
             }
            },
            "type": "parcoords"
           }
          ],
          "pie": [
           {
            "automargin": true,
            "type": "pie"
           }
          ],
          "scatter": [
           {
            "fillpattern": {
             "fillmode": "overlay",
             "size": 10,
             "solidity": 0.2
            },
            "type": "scatter"
           }
          ],
          "scatter3d": [
           {
            "line": {
             "colorbar": {
              "outlinewidth": 0,
              "ticks": ""
             }
            },
            "marker": {
             "colorbar": {
              "outlinewidth": 0,
              "ticks": ""
             }
            },
            "type": "scatter3d"
           }
          ],
          "scattercarpet": [
           {
            "marker": {
             "colorbar": {
              "outlinewidth": 0,
              "ticks": ""
             }
            },
            "type": "scattercarpet"
           }
          ],
          "scattergeo": [
           {
            "marker": {
             "colorbar": {
              "outlinewidth": 0,
              "ticks": ""
             }
            },
            "type": "scattergeo"
           }
          ],
          "scattergl": [
           {
            "marker": {
             "colorbar": {
              "outlinewidth": 0,
              "ticks": ""
             }
            },
            "type": "scattergl"
           }
          ],
          "scattermapbox": [
           {
            "marker": {
             "colorbar": {
              "outlinewidth": 0,
              "ticks": ""
             }
            },
            "type": "scattermapbox"
           }
          ],
          "scatterpolar": [
           {
            "marker": {
             "colorbar": {
              "outlinewidth": 0,
              "ticks": ""
             }
            },
            "type": "scatterpolar"
           }
          ],
          "scatterpolargl": [
           {
            "marker": {
             "colorbar": {
              "outlinewidth": 0,
              "ticks": ""
             }
            },
            "type": "scatterpolargl"
           }
          ],
          "scatterternary": [
           {
            "marker": {
             "colorbar": {
              "outlinewidth": 0,
              "ticks": ""
             }
            },
            "type": "scatterternary"
           }
          ],
          "surface": [
           {
            "colorbar": {
             "outlinewidth": 0,
             "ticks": ""
            },
            "colorscale": [
             [
              0,
              "#0d0887"
             ],
             [
              0.1111111111111111,
              "#46039f"
             ],
             [
              0.2222222222222222,
              "#7201a8"
             ],
             [
              0.3333333333333333,
              "#9c179e"
             ],
             [
              0.4444444444444444,
              "#bd3786"
             ],
             [
              0.5555555555555556,
              "#d8576b"
             ],
             [
              0.6666666666666666,
              "#ed7953"
             ],
             [
              0.7777777777777778,
              "#fb9f3a"
             ],
             [
              0.8888888888888888,
              "#fdca26"
             ],
             [
              1,
              "#f0f921"
             ]
            ],
            "type": "surface"
           }
          ],
          "table": [
           {
            "cells": {
             "fill": {
              "color": "#EBF0F8"
             },
             "line": {
              "color": "white"
             }
            },
            "header": {
             "fill": {
              "color": "#C8D4E3"
             },
             "line": {
              "color": "white"
             }
            },
            "type": "table"
           }
          ]
         },
         "layout": {
          "annotationdefaults": {
           "arrowcolor": "#2a3f5f",
           "arrowhead": 0,
           "arrowwidth": 1
          },
          "autotypenumbers": "strict",
          "coloraxis": {
           "colorbar": {
            "outlinewidth": 0,
            "ticks": ""
           }
          },
          "colorscale": {
           "diverging": [
            [
             0,
             "#8e0152"
            ],
            [
             0.1,
             "#c51b7d"
            ],
            [
             0.2,
             "#de77ae"
            ],
            [
             0.3,
             "#f1b6da"
            ],
            [
             0.4,
             "#fde0ef"
            ],
            [
             0.5,
             "#f7f7f7"
            ],
            [
             0.6,
             "#e6f5d0"
            ],
            [
             0.7,
             "#b8e186"
            ],
            [
             0.8,
             "#7fbc41"
            ],
            [
             0.9,
             "#4d9221"
            ],
            [
             1,
             "#276419"
            ]
           ],
           "sequential": [
            [
             0,
             "#0d0887"
            ],
            [
             0.1111111111111111,
             "#46039f"
            ],
            [
             0.2222222222222222,
             "#7201a8"
            ],
            [
             0.3333333333333333,
             "#9c179e"
            ],
            [
             0.4444444444444444,
             "#bd3786"
            ],
            [
             0.5555555555555556,
             "#d8576b"
            ],
            [
             0.6666666666666666,
             "#ed7953"
            ],
            [
             0.7777777777777778,
             "#fb9f3a"
            ],
            [
             0.8888888888888888,
             "#fdca26"
            ],
            [
             1,
             "#f0f921"
            ]
           ],
           "sequentialminus": [
            [
             0,
             "#0d0887"
            ],
            [
             0.1111111111111111,
             "#46039f"
            ],
            [
             0.2222222222222222,
             "#7201a8"
            ],
            [
             0.3333333333333333,
             "#9c179e"
            ],
            [
             0.4444444444444444,
             "#bd3786"
            ],
            [
             0.5555555555555556,
             "#d8576b"
            ],
            [
             0.6666666666666666,
             "#ed7953"
            ],
            [
             0.7777777777777778,
             "#fb9f3a"
            ],
            [
             0.8888888888888888,
             "#fdca26"
            ],
            [
             1,
             "#f0f921"
            ]
           ]
          },
          "colorway": [
           "#636efa",
           "#EF553B",
           "#00cc96",
           "#ab63fa",
           "#FFA15A",
           "#19d3f3",
           "#FF6692",
           "#B6E880",
           "#FF97FF",
           "#FECB52"
          ],
          "font": {
           "color": "#2a3f5f"
          },
          "geo": {
           "bgcolor": "white",
           "lakecolor": "white",
           "landcolor": "white",
           "showlakes": true,
           "showland": true,
           "subunitcolor": "#C8D4E3"
          },
          "hoverlabel": {
           "align": "left"
          },
          "hovermode": "closest",
          "mapbox": {
           "style": "light"
          },
          "paper_bgcolor": "white",
          "plot_bgcolor": "white",
          "polar": {
           "angularaxis": {
            "gridcolor": "#EBF0F8",
            "linecolor": "#EBF0F8",
            "ticks": ""
           },
           "bgcolor": "white",
           "radialaxis": {
            "gridcolor": "#EBF0F8",
            "linecolor": "#EBF0F8",
            "ticks": ""
           }
          },
          "scene": {
           "xaxis": {
            "backgroundcolor": "white",
            "gridcolor": "#DFE8F3",
            "gridwidth": 2,
            "linecolor": "#EBF0F8",
            "showbackground": true,
            "ticks": "",
            "zerolinecolor": "#EBF0F8"
           },
           "yaxis": {
            "backgroundcolor": "white",
            "gridcolor": "#DFE8F3",
            "gridwidth": 2,
            "linecolor": "#EBF0F8",
            "showbackground": true,
            "ticks": "",
            "zerolinecolor": "#EBF0F8"
           },
           "zaxis": {
            "backgroundcolor": "white",
            "gridcolor": "#DFE8F3",
            "gridwidth": 2,
            "linecolor": "#EBF0F8",
            "showbackground": true,
            "ticks": "",
            "zerolinecolor": "#EBF0F8"
           }
          },
          "shapedefaults": {
           "line": {
            "color": "#2a3f5f"
           }
          },
          "ternary": {
           "aaxis": {
            "gridcolor": "#DFE8F3",
            "linecolor": "#A2B1C6",
            "ticks": ""
           },
           "baxis": {
            "gridcolor": "#DFE8F3",
            "linecolor": "#A2B1C6",
            "ticks": ""
           },
           "bgcolor": "white",
           "caxis": {
            "gridcolor": "#DFE8F3",
            "linecolor": "#A2B1C6",
            "ticks": ""
           }
          },
          "title": {
           "x": 0.05
          },
          "xaxis": {
           "automargin": true,
           "gridcolor": "#EBF0F8",
           "linecolor": "#EBF0F8",
           "ticks": "",
           "title": {
            "standoff": 15
           },
           "zerolinecolor": "#EBF0F8",
           "zerolinewidth": 2
          },
          "yaxis": {
           "automargin": true,
           "gridcolor": "#EBF0F8",
           "linecolor": "#EBF0F8",
           "ticks": "",
           "title": {
            "standoff": 15
           },
           "zerolinecolor": "#EBF0F8",
           "zerolinewidth": 2
          }
         }
        },
        "title": {
         "text": "Tendencia de Ventas por marca y mes (Año Anterior)"
        },
        "width": 1100,
        "xaxis": {
         "anchor": "y",
         "domain": [
          0,
          1
         ],
         "title": {
          "text": "Mes"
         }
        },
        "yaxis": {
         "anchor": "x",
         "domain": [
          0,
          1
         ],
         "title": {
          "text": "Ventas (COP)"
         }
        }
       }
      }
     },
     "metadata": {},
     "output_type": "display_data"
    }
   ],
   "source": [
    "# Gráfico de lineas por mes y negocio\n",
    "\n",
    "agrupacion_por_marca = marcas_analizar.groupby(['mes','marca']).sum('venta_cop_año_ant').reset_index()\n",
    "\n",
    "fig = px.line(\n",
    "    agrupacion_por_marca,\n",
    "    x='mes',\n",
    "    y='venta_cop_año_ant',\n",
    "    color='marca',  # Cada negocio una línea distinta\n",
    "    markers=True,     # Opcional: puntos en cada mes\n",
    "    line_shape='linear',  # Forzamos línea continua (opcional, pero ayuda)\n",
    ")\n",
    "fig.update_layout(\n",
    "    title='Tendencia de Ventas por marca y mes (Año Anterior)',\n",
    "    xaxis_title='Mes',\n",
    "    yaxis_title='Ventas (COP)',\n",
    "    height=700,\n",
    "    width=1100,\n",
    "    template='plotly_white',\n",
    "    legend_title='Marca',\n",
    ")\n",
    "fig.show()"
   ]
  },
  {
   "cell_type": "code",
   "execution_count": 38,
   "metadata": {},
   "outputs": [
    {
     "data": {
      "text/html": [
       "<div>\n",
       "<style scoped>\n",
       "    .dataframe tbody tr th:only-of-type {\n",
       "        vertical-align: middle;\n",
       "    }\n",
       "\n",
       "    .dataframe tbody tr th {\n",
       "        vertical-align: top;\n",
       "    }\n",
       "\n",
       "    .dataframe thead th {\n",
       "        text-align: right;\n",
       "    }\n",
       "</style>\n",
       "<table border=\"1\" class=\"dataframe\">\n",
       "  <thead>\n",
       "    <tr style=\"text-align: right;\">\n",
       "      <th></th>\n",
       "      <th>marca</th>\n",
       "      <th>ventas_totales</th>\n",
       "      <th>var_ultimo_mes</th>\n",
       "      <th>var_ultimo_trimestre</th>\n",
       "      <th>var_prom_anual</th>\n",
       "    </tr>\n",
       "  </thead>\n",
       "  <tbody>\n",
       "    <tr>\n",
       "      <th>0</th>\n",
       "      <td>Chocolisto</td>\n",
       "      <td>604061.00</td>\n",
       "      <td>0.141348</td>\n",
       "      <td>0.049502</td>\n",
       "      <td>-0.020626</td>\n",
       "    </tr>\n",
       "    <tr>\n",
       "      <th>1</th>\n",
       "      <td>Dux</td>\n",
       "      <td>383952.00</td>\n",
       "      <td>-0.094540</td>\n",
       "      <td>-0.128978</td>\n",
       "      <td>-0.053224</td>\n",
       "    </tr>\n",
       "    <tr>\n",
       "      <th>2</th>\n",
       "      <td>Jumbo</td>\n",
       "      <td>592990.99</td>\n",
       "      <td>0.259080</td>\n",
       "      <td>0.004891</td>\n",
       "      <td>-0.018294</td>\n",
       "    </tr>\n",
       "    <tr>\n",
       "      <th>3</th>\n",
       "      <td>Matiz</td>\n",
       "      <td>574141.00</td>\n",
       "      <td>0.108687</td>\n",
       "      <td>0.112625</td>\n",
       "      <td>0.168551</td>\n",
       "    </tr>\n",
       "  </tbody>\n",
       "</table>\n",
       "</div>"
      ],
      "text/plain": [
       "        marca  ventas_totales  var_ultimo_mes  var_ultimo_trimestre  \\\n",
       "0  Chocolisto       604061.00        0.141348              0.049502   \n",
       "1         Dux       383952.00       -0.094540             -0.128978   \n",
       "2       Jumbo       592990.99        0.259080              0.004891   \n",
       "3       Matiz       574141.00        0.108687              0.112625   \n",
       "\n",
       "   var_prom_anual  \n",
       "0       -0.020626  \n",
       "1       -0.053224  \n",
       "2       -0.018294  \n",
       "3        0.168551  "
      ]
     },
     "execution_count": 38,
     "metadata": {},
     "output_type": "execute_result"
    }
   ],
   "source": [
    "ventas_mensuales = agrupacion_por_marca.groupby(['marca', 'mes'], as_index=False)['venta_cop_año_ant'].sum()\n",
    "    \n",
    "    # Crear un DataFrame resultado\n",
    "resultados = []\n",
    "for marca, datos in ventas_mensuales.groupby('marca'):\n",
    "    datos = datos.sort_values('mes')\n",
    "    datos = datos.set_index('mes')['venta_cop_año_ant']\n",
    "    venta_ultimo_mes = datos.to_dict()\n",
    "    venta_ultimo_mes = {k: venta_ultimo_mes.get(k, 0) for k in range(1, 13)}  # asegurar que estén todos los meses\n",
    "    venta_diciembre = venta_ultimo_mes[12]\n",
    "    venta_noviembre = venta_ultimo_mes[11]\n",
    "    trimestre = [venta_ultimo_mes[9], venta_ultimo_mes[10], venta_ultimo_mes[11]]\n",
    "    año_completo = [venta_ultimo_mes[m] for m in range(1, 12)]  # enero a noviembre\n",
    "    var_ult_mes = ((venta_diciembre - venta_noviembre) / venta_noviembre) if venta_noviembre != 0 else None\n",
    "    prom_año = sum(año_completo) / len(año_completo) if año_completo else 0\n",
    "    var_prom_año = ((venta_diciembre - prom_año) / prom_año) if prom_año != 0 else None\n",
    "    prom_trimestre = sum(trimestre) / len(trimestre) if trimestre else 0\n",
    "    var_trimestre = ((venta_diciembre - prom_trimestre) / prom_trimestre) if prom_trimestre != 0 else None\n",
    "    resultados.append({\n",
    "        'marca': marca,\n",
    "        'ventas_totales': sum(venta_ultimo_mes.values()),\n",
    "        'var_ultimo_mes': var_ult_mes,\n",
    "        'var_ultimo_trimestre': var_trimestre,\n",
    "        'var_prom_anual': var_prom_año\n",
    "    })\n",
    "pd.DataFrame(resultados)"
   ]
  },
  {
   "cell_type": "code",
   "execution_count": 39,
   "metadata": {},
   "outputs": [
    {
     "data": {
      "text/html": [
       "<div>\n",
       "<style scoped>\n",
       "    .dataframe tbody tr th:only-of-type {\n",
       "        vertical-align: middle;\n",
       "    }\n",
       "\n",
       "    .dataframe tbody tr th {\n",
       "        vertical-align: top;\n",
       "    }\n",
       "\n",
       "    .dataframe thead th {\n",
       "        text-align: right;\n",
       "    }\n",
       "</style>\n",
       "<table border=\"1\" class=\"dataframe\">\n",
       "  <thead>\n",
       "    <tr style=\"text-align: right;\">\n",
       "      <th></th>\n",
       "      <th>marca</th>\n",
       "      <th>ventas_totales</th>\n",
       "      <th>var_ultimo_mes</th>\n",
       "      <th>var_ultimo_trimestre</th>\n",
       "      <th>var_prom_anual</th>\n",
       "    </tr>\n",
       "  </thead>\n",
       "  <tbody>\n",
       "    <tr>\n",
       "      <th>0</th>\n",
       "      <td>Chocolisto</td>\n",
       "      <td>604061.00</td>\n",
       "      <td>0.141348</td>\n",
       "      <td>0.049502</td>\n",
       "      <td>-0.020626</td>\n",
       "    </tr>\n",
       "    <tr>\n",
       "      <th>1</th>\n",
       "      <td>Dux</td>\n",
       "      <td>383952.00</td>\n",
       "      <td>-0.094540</td>\n",
       "      <td>-0.128978</td>\n",
       "      <td>-0.053224</td>\n",
       "    </tr>\n",
       "    <tr>\n",
       "      <th>2</th>\n",
       "      <td>Jumbo</td>\n",
       "      <td>592990.99</td>\n",
       "      <td>0.259080</td>\n",
       "      <td>0.004891</td>\n",
       "      <td>-0.018294</td>\n",
       "    </tr>\n",
       "    <tr>\n",
       "      <th>3</th>\n",
       "      <td>Matiz</td>\n",
       "      <td>574141.00</td>\n",
       "      <td>0.108687</td>\n",
       "      <td>0.112625</td>\n",
       "      <td>0.168551</td>\n",
       "    </tr>\n",
       "  </tbody>\n",
       "</table>\n",
       "</div>"
      ],
      "text/plain": [
       "        marca  ventas_totales  var_ultimo_mes  var_ultimo_trimestre  \\\n",
       "0  Chocolisto       604061.00        0.141348              0.049502   \n",
       "1         Dux       383952.00       -0.094540             -0.128978   \n",
       "2       Jumbo       592990.99        0.259080              0.004891   \n",
       "3       Matiz       574141.00        0.108687              0.112625   \n",
       "\n",
       "   var_prom_anual  \n",
       "0       -0.020626  \n",
       "1       -0.053224  \n",
       "2       -0.018294  \n",
       "3        0.168551  "
      ]
     },
     "execution_count": 39,
     "metadata": {},
     "output_type": "execute_result"
    }
   ],
   "source": [
    "ventas_mensuales = agrupacion_por_marca.groupby(['marca', 'mes'], as_index=False)['venta_cop_año_ant'].sum()\n",
    "    \n",
    "    # Crear un DataFrame resultado\n",
    "resultados = []\n",
    "for marca, datos in ventas_mensuales.groupby('marca'):\n",
    "    datos = datos.sort_values('mes')\n",
    "    datos = datos.set_index('mes')['venta_cop_año_ant']\n",
    "    venta_ultimo_mes = datos.to_dict()\n",
    "    venta_ultimo_mes = {k: venta_ultimo_mes.get(k, 0) for k in range(1, 13)}  # asegurar que estén todos los meses\n",
    "    venta_diciembre = venta_ultimo_mes[12]\n",
    "    venta_noviembre = venta_ultimo_mes[11]\n",
    "    trimestre = [venta_ultimo_mes[9], venta_ultimo_mes[10], venta_ultimo_mes[11]]\n",
    "    año_completo = [venta_ultimo_mes[m] for m in range(1, 12)]  # enero a noviembre\n",
    "    var_ult_mes = ((venta_diciembre - venta_noviembre) / venta_noviembre) if venta_noviembre != 0 else None\n",
    "    prom_año = sum(año_completo) / len(año_completo) if año_completo else 0\n",
    "    var_prom_año = ((venta_diciembre - prom_año) / prom_año) if prom_año != 0 else None\n",
    "    prom_trimestre = sum(trimestre) / len(trimestre) if trimestre else 0\n",
    "    var_trimestre = ((venta_diciembre - prom_trimestre) / prom_trimestre) if prom_trimestre != 0 else None\n",
    "    resultados.append({\n",
    "        'marca': marca,\n",
    "        'ventas_totales': sum(venta_ultimo_mes.values()),\n",
    "        'var_ultimo_mes': var_ult_mes,\n",
    "        'var_ultimo_trimestre': var_trimestre,\n",
    "        'var_prom_anual': var_prom_año\n",
    "    })\n",
    "pd.DataFrame(resultados)"
   ]
  },
  {
   "cell_type": "code",
   "execution_count": null,
   "metadata": {},
   "outputs": [],
   "source": [
    "# analisis por material de las marcas opcionadas para aplicar descuentos\n",
    "lista_marcas = ['Chocolisto']\n",
    "\n",
    "materiales_dctos =  marcas_analizar[marcas_analizar['marca'].isin(lista_marcas)]\n",
    "materiales_dctos = materiales_dctos.groupby(['marca','codigo_sap','producto']).agg(\n",
    "    total_ventas = ('venta_cop_año_ant','sum'),\n",
    "    media_ventas = ('venta_cop_año_ant','mean'),\n",
    "    desviacion_ventas = ('venta_cop_año_ant','std')\n",
    ").reset_index().sort_values('total_ventas',ascending=False)\n",
    "materiales_dctos"
   ]
  },
  {
   "cell_type": "code",
   "execution_count": 57,
   "metadata": {},
   "outputs": [
    {
     "data": {
      "text/html": [
       "<div>\n",
       "<style scoped>\n",
       "    .dataframe tbody tr th:only-of-type {\n",
       "        vertical-align: middle;\n",
       "    }\n",
       "\n",
       "    .dataframe tbody tr th {\n",
       "        vertical-align: top;\n",
       "    }\n",
       "\n",
       "    .dataframe thead th {\n",
       "        text-align: right;\n",
       "    }\n",
       "</style>\n",
       "<table border=\"1\" class=\"dataframe\">\n",
       "  <thead>\n",
       "    <tr style=\"text-align: right;\">\n",
       "      <th></th>\n",
       "      <th>marca</th>\n",
       "      <th>codigo_sap</th>\n",
       "      <th>producto</th>\n",
       "      <th>total_ventas</th>\n",
       "      <th>media_ventas</th>\n",
       "      <th>desviacion_ventas</th>\n",
       "      <th>margen_real</th>\n",
       "      <th>margen_real_label</th>\n",
       "    </tr>\n",
       "  </thead>\n",
       "  <tbody>\n",
       "    <tr>\n",
       "      <th>0</th>\n",
       "      <td>Chocolisto</td>\n",
       "      <td>1018160</td>\n",
       "      <td>Modifr CHOCOLISTO choco 44bsx200g</td>\n",
       "      <td>226283.0</td>\n",
       "      <td>18856.916667</td>\n",
       "      <td>1177.534671</td>\n",
       "      <td>59.519200</td>\n",
       "      <td>59.52</td>\n",
       "    </tr>\n",
       "    <tr>\n",
       "      <th>1</th>\n",
       "      <td>Chocolisto</td>\n",
       "      <td>1004163</td>\n",
       "      <td>Modifr. CHOCOLISTO 24bolx 400g</td>\n",
       "      <td>112543.0</td>\n",
       "      <td>9378.583333</td>\n",
       "      <td>909.992553</td>\n",
       "      <td>51.388141</td>\n",
       "      <td>51.39</td>\n",
       "    </tr>\n",
       "    <tr>\n",
       "      <th>2</th>\n",
       "      <td>Chocolisto</td>\n",
       "      <td>1053557</td>\n",
       "      <td>Modifr. CHOCOLISTO choco 12undx750g</td>\n",
       "      <td>51306.0</td>\n",
       "      <td>4275.500000</td>\n",
       "      <td>1327.310712</td>\n",
       "      <td>51.614226</td>\n",
       "      <td>51.61</td>\n",
       "    </tr>\n",
       "    <tr>\n",
       "      <th>3</th>\n",
       "      <td>Chocolisto</td>\n",
       "      <td>1003885</td>\n",
       "      <td>Modifr. CHOCOLISTO 12tarx1000g</td>\n",
       "      <td>33248.0</td>\n",
       "      <td>2770.666667</td>\n",
       "      <td>1254.230248</td>\n",
       "      <td>47.143761</td>\n",
       "      <td>47.14</td>\n",
       "    </tr>\n",
       "    <tr>\n",
       "      <th>4</th>\n",
       "      <td>Chocolisto</td>\n",
       "      <td>1038974</td>\n",
       "      <td>Modifr. CHOCOLISTO  Crocante PG 250gx24</td>\n",
       "      <td>32633.0</td>\n",
       "      <td>2719.416667</td>\n",
       "      <td>352.870426</td>\n",
       "      <td>55.840589</td>\n",
       "      <td>55.84</td>\n",
       "    </tr>\n",
       "    <tr>\n",
       "      <th>5</th>\n",
       "      <td>Chocolisto</td>\n",
       "      <td>1053338</td>\n",
       "      <td>Modifr. CHOCOLISTO Sin azúcar 360g x24</td>\n",
       "      <td>28257.0</td>\n",
       "      <td>2354.750000</td>\n",
       "      <td>307.963435</td>\n",
       "      <td>51.167596</td>\n",
       "      <td>51.17</td>\n",
       "    </tr>\n",
       "    <tr>\n",
       "      <th>6</th>\n",
       "      <td>Chocolisto</td>\n",
       "      <td>1053337</td>\n",
       "      <td>Modifr. CHOCOLISTO Sin azúcar 180g x24</td>\n",
       "      <td>21880.0</td>\n",
       "      <td>1823.333333</td>\n",
       "      <td>199.884209</td>\n",
       "      <td>55.713267</td>\n",
       "      <td>55.71</td>\n",
       "    </tr>\n",
       "    <tr>\n",
       "      <th>7</th>\n",
       "      <td>Chocolisto</td>\n",
       "      <td>1044280</td>\n",
       "      <td>Modifr. CHOCOLISTO Crocante 275g X24EXT</td>\n",
       "      <td>21318.0</td>\n",
       "      <td>1776.500000</td>\n",
       "      <td>1157.705607</td>\n",
       "      <td>NaN</td>\n",
       "      <td>NaN</td>\n",
       "    </tr>\n",
       "    <tr>\n",
       "      <th>8</th>\n",
       "      <td>Chocolisto</td>\n",
       "      <td>1049849</td>\n",
       "      <td>Modifr. CHOCOLISTO choco 44bsx220g EXTRA</td>\n",
       "      <td>20152.0</td>\n",
       "      <td>1679.333333</td>\n",
       "      <td>1917.275782</td>\n",
       "      <td>NaN</td>\n",
       "      <td>NaN</td>\n",
       "    </tr>\n",
       "    <tr>\n",
       "      <th>9</th>\n",
       "      <td>Chocolisto</td>\n",
       "      <td>1038975</td>\n",
       "      <td>Modifr. CHOCOLISTO  Crocante PG 500gx18</td>\n",
       "      <td>20015.0</td>\n",
       "      <td>1667.916667</td>\n",
       "      <td>396.724420</td>\n",
       "      <td>49.649401</td>\n",
       "      <td>49.65</td>\n",
       "    </tr>\n",
       "    <tr>\n",
       "      <th>10</th>\n",
       "      <td>Chocolisto</td>\n",
       "      <td>1049852</td>\n",
       "      <td>Modifr. CHOCOLISTO choco 24undx440g EXT</td>\n",
       "      <td>10456.0</td>\n",
       "      <td>871.333333</td>\n",
       "      <td>1217.304349</td>\n",
       "      <td>NaN</td>\n",
       "      <td>NaN</td>\n",
       "    </tr>\n",
       "    <tr>\n",
       "      <th>11</th>\n",
       "      <td>Chocolisto</td>\n",
       "      <td>7702007080889</td>\n",
       "      <td>Oft.CHOCOLISTO400g gts Festival Recr108g</td>\n",
       "      <td>7279.0</td>\n",
       "      <td>606.583333</td>\n",
       "      <td>660.121540</td>\n",
       "      <td>NaN</td>\n",
       "      <td>NaN</td>\n",
       "    </tr>\n",
       "    <tr>\n",
       "      <th>12</th>\n",
       "      <td>Chocolisto</td>\n",
       "      <td>1039862</td>\n",
       "      <td>Oft. CHOCOLISTO 400g Grt Croc 100g PG</td>\n",
       "      <td>6520.0</td>\n",
       "      <td>1304.000000</td>\n",
       "      <td>1312.982673</td>\n",
       "      <td>NaN</td>\n",
       "      <td>NaN</td>\n",
       "    </tr>\n",
       "    <tr>\n",
       "      <th>13</th>\n",
       "      <td>Chocolisto</td>\n",
       "      <td>1051916</td>\n",
       "      <td>Modifr. CHOCOLISTO choco 24undx600g</td>\n",
       "      <td>4141.0</td>\n",
       "      <td>517.625000</td>\n",
       "      <td>377.895276</td>\n",
       "      <td>51.086013</td>\n",
       "      <td>51.09</td>\n",
       "    </tr>\n",
       "    <tr>\n",
       "      <th>14</th>\n",
       "      <td>Chocolisto</td>\n",
       "      <td>1044782</td>\n",
       "      <td>Modifr. CHOCOLISTO 12tarx1100g EXT EXH</td>\n",
       "      <td>3520.0</td>\n",
       "      <td>293.333333</td>\n",
       "      <td>328.457645</td>\n",
       "      <td>NaN</td>\n",
       "      <td>NaN</td>\n",
       "    </tr>\n",
       "    <tr>\n",
       "      <th>15</th>\n",
       "      <td>Chocolisto</td>\n",
       "      <td>1074013</td>\n",
       "      <td>Oft.Chocolisto chocolate 600g shaker Col</td>\n",
       "      <td>1726.0</td>\n",
       "      <td>246.571429</td>\n",
       "      <td>308.285505</td>\n",
       "      <td>121.804719</td>\n",
       "      <td>121.80</td>\n",
       "    </tr>\n",
       "    <tr>\n",
       "      <th>16</th>\n",
       "      <td>Chocolisto</td>\n",
       "      <td>1074014</td>\n",
       "      <td>Oft.Chocolisto crocante 500g shaker Col</td>\n",
       "      <td>1662.0</td>\n",
       "      <td>277.000000</td>\n",
       "      <td>310.087730</td>\n",
       "      <td>120.406187</td>\n",
       "      <td>120.41</td>\n",
       "    </tr>\n",
       "    <tr>\n",
       "      <th>17</th>\n",
       "      <td>Chocolisto</td>\n",
       "      <td>1039972</td>\n",
       "      <td>Modifr. CHOCOLISTO Bs. x40undx100g</td>\n",
       "      <td>570.0</td>\n",
       "      <td>95.000000</td>\n",
       "      <td>175.127382</td>\n",
       "      <td>45.764092</td>\n",
       "      <td>45.76</td>\n",
       "    </tr>\n",
       "    <tr>\n",
       "      <th>18</th>\n",
       "      <td>Chocolisto</td>\n",
       "      <td>1014111</td>\n",
       "      <td>Modifr. CHOCOLISTO 8 Bs X2.000g</td>\n",
       "      <td>408.0</td>\n",
       "      <td>51.000000</td>\n",
       "      <td>37.328656</td>\n",
       "      <td>39.998407</td>\n",
       "      <td>40.00</td>\n",
       "    </tr>\n",
       "    <tr>\n",
       "      <th>19</th>\n",
       "      <td>Chocolisto</td>\n",
       "      <td>1003887</td>\n",
       "      <td>Modifr. CHOCOLISTO 8bolx1500g</td>\n",
       "      <td>144.0</td>\n",
       "      <td>16.000000</td>\n",
       "      <td>14.430870</td>\n",
       "      <td>46.814933</td>\n",
       "      <td>46.81</td>\n",
       "    </tr>\n",
       "    <tr>\n",
       "      <th>20</th>\n",
       "      <td>Chocolisto</td>\n",
       "      <td>1075398</td>\n",
       "      <td>Modifr. CHOCOLISTO Bs. X40undx90g</td>\n",
       "      <td>0.0</td>\n",
       "      <td>0.000000</td>\n",
       "      <td>0.000000</td>\n",
       "      <td>NaN</td>\n",
       "      <td>NaN</td>\n",
       "    </tr>\n",
       "    <tr>\n",
       "      <th>21</th>\n",
       "      <td>Chocolisto</td>\n",
       "      <td>1075622</td>\n",
       "      <td>Modifr. CHOCOLISTO 12tarx900g</td>\n",
       "      <td>0.0</td>\n",
       "      <td>0.000000</td>\n",
       "      <td>0.000000</td>\n",
       "      <td>NaN</td>\n",
       "      <td>NaN</td>\n",
       "    </tr>\n",
       "  </tbody>\n",
       "</table>\n",
       "</div>"
      ],
      "text/plain": [
       "         marca     codigo_sap                                  producto  \\\n",
       "0   Chocolisto        1018160         Modifr CHOCOLISTO choco 44bsx200g   \n",
       "1   Chocolisto        1004163            Modifr. CHOCOLISTO 24bolx 400g   \n",
       "2   Chocolisto        1053557       Modifr. CHOCOLISTO choco 12undx750g   \n",
       "3   Chocolisto        1003885            Modifr. CHOCOLISTO 12tarx1000g   \n",
       "4   Chocolisto        1038974   Modifr. CHOCOLISTO  Crocante PG 250gx24   \n",
       "5   Chocolisto        1053338    Modifr. CHOCOLISTO Sin azúcar 360g x24   \n",
       "6   Chocolisto        1053337    Modifr. CHOCOLISTO Sin azúcar 180g x24   \n",
       "7   Chocolisto        1044280   Modifr. CHOCOLISTO Crocante 275g X24EXT   \n",
       "8   Chocolisto        1049849  Modifr. CHOCOLISTO choco 44bsx220g EXTRA   \n",
       "9   Chocolisto        1038975   Modifr. CHOCOLISTO  Crocante PG 500gx18   \n",
       "10  Chocolisto        1049852   Modifr. CHOCOLISTO choco 24undx440g EXT   \n",
       "11  Chocolisto  7702007080889  Oft.CHOCOLISTO400g gts Festival Recr108g   \n",
       "12  Chocolisto        1039862     Oft. CHOCOLISTO 400g Grt Croc 100g PG   \n",
       "13  Chocolisto        1051916       Modifr. CHOCOLISTO choco 24undx600g   \n",
       "14  Chocolisto        1044782    Modifr. CHOCOLISTO 12tarx1100g EXT EXH   \n",
       "15  Chocolisto        1074013  Oft.Chocolisto chocolate 600g shaker Col   \n",
       "16  Chocolisto        1074014   Oft.Chocolisto crocante 500g shaker Col   \n",
       "17  Chocolisto        1039972        Modifr. CHOCOLISTO Bs. x40undx100g   \n",
       "18  Chocolisto        1014111           Modifr. CHOCOLISTO 8 Bs X2.000g   \n",
       "19  Chocolisto        1003887             Modifr. CHOCOLISTO 8bolx1500g   \n",
       "20  Chocolisto        1075398         Modifr. CHOCOLISTO Bs. X40undx90g   \n",
       "21  Chocolisto        1075622             Modifr. CHOCOLISTO 12tarx900g   \n",
       "\n",
       "    total_ventas  media_ventas  desviacion_ventas  margen_real  \\\n",
       "0       226283.0  18856.916667        1177.534671    59.519200   \n",
       "1       112543.0   9378.583333         909.992553    51.388141   \n",
       "2        51306.0   4275.500000        1327.310712    51.614226   \n",
       "3        33248.0   2770.666667        1254.230248    47.143761   \n",
       "4        32633.0   2719.416667         352.870426    55.840589   \n",
       "5        28257.0   2354.750000         307.963435    51.167596   \n",
       "6        21880.0   1823.333333         199.884209    55.713267   \n",
       "7        21318.0   1776.500000        1157.705607          NaN   \n",
       "8        20152.0   1679.333333        1917.275782          NaN   \n",
       "9        20015.0   1667.916667         396.724420    49.649401   \n",
       "10       10456.0    871.333333        1217.304349          NaN   \n",
       "11        7279.0    606.583333         660.121540          NaN   \n",
       "12        6520.0   1304.000000        1312.982673          NaN   \n",
       "13        4141.0    517.625000         377.895276    51.086013   \n",
       "14        3520.0    293.333333         328.457645          NaN   \n",
       "15        1726.0    246.571429         308.285505   121.804719   \n",
       "16        1662.0    277.000000         310.087730   120.406187   \n",
       "17         570.0     95.000000         175.127382    45.764092   \n",
       "18         408.0     51.000000          37.328656    39.998407   \n",
       "19         144.0     16.000000          14.430870    46.814933   \n",
       "20           0.0      0.000000           0.000000          NaN   \n",
       "21           0.0      0.000000           0.000000          NaN   \n",
       "\n",
       "    margen_real_label  \n",
       "0               59.52  \n",
       "1               51.39  \n",
       "2               51.61  \n",
       "3               47.14  \n",
       "4               55.84  \n",
       "5               51.17  \n",
       "6               55.71  \n",
       "7                 NaN  \n",
       "8                 NaN  \n",
       "9               49.65  \n",
       "10                NaN  \n",
       "11                NaN  \n",
       "12                NaN  \n",
       "13              51.09  \n",
       "14                NaN  \n",
       "15             121.80  \n",
       "16             120.41  \n",
       "17              45.76  \n",
       "18              40.00  \n",
       "19              46.81  \n",
       "20                NaN  \n",
       "21                NaN  "
      ]
     },
     "execution_count": 57,
     "metadata": {},
     "output_type": "execute_result"
    }
   ],
   "source": [
    "materiales_dctos = pd.merge(materiales_dctos,margen_material[['cod_material','margen_real']], how = 'left', left_on='codigo_sap', right_on='cod_material' )\n",
    "materiales_dctos = materiales_dctos.drop(columns=['cod_material'])\n",
    "materiales_dctos['margen_real_label'] = materiales_dctos['margen_real'].round(2)\n",
    "materiales_dctos"
   ]
  },
  {
   "cell_type": "code",
   "execution_count": null,
   "metadata": {},
   "outputs": [
    {
     "data": {
      "text/plain": [
       "22"
      ]
     },
     "execution_count": 53,
     "metadata": {},
     "output_type": "execute_result"
    }
   ],
   "source": [
    "materiales_dctos['codigo_sap']"
   ]
  }
 ],
 "metadata": {
  "kernelspec": {
   "display_name": "Python 3",
   "language": "python",
   "name": "python3"
  },
  "language_info": {
   "codemirror_mode": {
    "name": "ipython",
    "version": 3
   },
   "file_extension": ".py",
   "mimetype": "text/x-python",
   "name": "python",
   "nbconvert_exporter": "python",
   "pygments_lexer": "ipython3",
   "version": "3.11.3"
  }
 },
 "nbformat": 4,
 "nbformat_minor": 2
}
